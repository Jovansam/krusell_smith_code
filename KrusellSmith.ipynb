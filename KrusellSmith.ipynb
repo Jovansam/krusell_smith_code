{
 "cells": [
  {
   "cell_type": "markdown",
   "metadata": {},
   "source": [
    "# Replicating Maliar, Maliar, and Valli (2010, JEDC) to solve Krusell and Smith (1998, JPE) model using Julia\n",
    "\n",
    "\n",
    "By [Shunsuke Hori](https://github.com/Shunsuke-Hori)\n"
   ]
  },
  {
   "cell_type": "markdown",
   "metadata": {},
   "source": [
    "# Overview of the notebook\n",
    "This notebook solves the model of [Krusell and Smith (1998, JPE)](https://www.journals.uchicago.edu/doi/10.1086/250034) and succesfully replicating the result of [Maliar, Maliar, and Valli (2010, JEDC)](https://www.sciencedirect.com/science/article/pii/S0165188909001328).\n",
    "\n",
    "The solution strategy is as follows\n",
    "\n",
    "1. Solve the individual problem by Euler equation method or value function iteration (VFI) with 2D interpolation\n",
    "    - Agents are boundedly rational. In the code, they take into account the information about the mean of capital\n",
    "    - Aggregate law of motion is approximated by log-linear relation, i.e. $\\log(K_{t+1})=B1+B2\\log(K_{t})$ for good aggregate state and $\\log(K_{t+1})=B3+B4\\log(K_{t})$ for bad aggregate state \n",
    "    - If specified, Howard's policy iteration is used\n",
    "1. Compute the path of aggregate capital using the policy function obtained by 1. There are two ways of simulation:\n",
    "    - Monte Carlo following Krusell and Smith (1998). That is, aggregate technology shocks and idiosyncratic employment shocks are drawn for many agents and many periods. Then, using the LLN, the aggregate capital is computed by aggregating all agents for all period.\n",
    "    - Non-stochastic method following [Young (2010, JEDC)](https://www.sciencedirect.com/science/article/pii/S0165188909001316).\n",
    "1. Update the coefficient of aggregate capital law of motion, $B1$, $B2$, $B3$ and $B4$, by regression\n",
    "1. Check convergence of $B1$, $B2$, $B3$ and $B4$\n",
    "\n",
    "NOTE: Regarding interpolation, Krusell and Smith uses various interpolation scheme depending on the purpose, including polynomial interpolation. Maliar, Maliar, and Valli uses spline interpolation in their paper. This notebook only uses linear interpolation.\n",
    "\n",
    "This notebook written in Julia solves the model much faster than the code of Maliar et al. (2010) written in Matlab according to [den Haan (2010, JEDC)](https://www.sciencedirect.com/science/article/pii/S0165188909001298), although they are not simply comparable because initial guess, interpolation methods, and running environments are different."
   ]
  },
  {
   "cell_type": "markdown",
   "metadata": {},
   "source": [
    "# Code to solve models"
   ]
  },
  {
   "cell_type": "markdown",
   "metadata": {},
   "source": [
    "First thing to do is importing functions from `KSfunctions.ipynb`.\n",
    "\n",
    "You can find the notebook in the [QuantEcon repositoy](https://github.com/QuantEcon/krusell_smith_code)."
   ]
  },
  {
   "cell_type": "code",
   "execution_count": 1,
   "metadata": {},
   "outputs": [
    {
     "data": {
      "text/plain": [
       "Plots.PyPlotBackend()"
      ]
     },
     "execution_count": 1,
     "metadata": {},
     "output_type": "execute_result"
    }
   ],
   "source": [
    "using NBInclude\n",
    "@nbinclude(\"KSfunctions.ipynb\")\n",
    "using Plots      # to plot the result\n",
    "pyplot()"
   ]
  },
  {
   "cell_type": "markdown",
   "metadata": {},
   "source": [
    "## Implementation by Euler method"
   ]
  },
  {
   "cell_type": "markdown",
   "metadata": {},
   "source": [
    "First, construct a `NamedTuple`, `ksp`, which contains the parameters of the model and `kss` which has initial guess of the solution.\n",
    "\n",
    "(Grid size inconsistency is also checked, which may return error when exiting result is loaded by `load_value=true`)"
   ]
  },
  {
   "cell_type": "code",
   "execution_count": 2,
   "metadata": {
    "scrolled": true
   },
   "outputs": [],
   "source": [
    "# instance of KSParameter\n",
    "ksp = KSParameter()\n",
    "# instance of KSSolution\n",
    "kss = KSSolution(ksp, load_value=false, load_B=false)\n",
    "if size(kss.k_opt,1) != length(ksp.k_grid)\n",
    "    error(\"loaded data is inconsistent with k_size\")\n",
    "end\n",
    "if size(kss.k_opt,2) != length(ksp.K_grid)\n",
    "    error(\"loaded data is inconsistent with K_size\")\n",
    "end"
   ]
  },
  {
   "cell_type": "markdown",
   "metadata": {},
   "source": [
    "Let's draw the shock for stochastic simulation of aggregate law of motion"
   ]
  },
  {
   "cell_type": "code",
   "execution_count": 3,
   "metadata": {
    "scrolled": true
   },
   "outputs": [
    {
     "name": "stdout",
     "output_type": "stream",
     "text": [
      "  4.371816 seconds (3.21 M allocations: 586.618 MiB, 13.49% gc time)\n"
     ]
    }
   ],
   "source": [
    "# generate shocks\n",
    "Random.seed!(0) # for reproducability\n",
    "@time zi_shocks, epsi_shocks =generate_shocks(ksp;\n",
    "        z_shock_size=1100, population=10000);"
   ]
  },
  {
   "cell_type": "markdown",
   "metadata": {},
   "source": [
    "Now, the following cell solves the model with Euler equation method"
   ]
  },
  {
   "cell_type": "code",
   "execution_count": 4,
   "metadata": {
    "scrolled": true
   },
   "outputs": [
    {
     "name": "stdout",
     "output_type": "stream",
     "text": [
      " --- Iteration over ALM coefficient: 1 ---\n"
     ]
    },
    {
     "name": "stderr",
     "output_type": "stream",
     "text": [
      "\u001b[32mSolving individual UMP by Euler method:  Time: 0:00:55 (1868 iterations)\u001b[39m)\u001b[39m\n",
      "\u001b[32msimulating aggregate path ...100%|██████████████████████| Time: 0:00:55\u001b[39m\n"
     ]
    },
    {
     "name": "stdout",
     "output_type": "stream",
     "text": [
      "difference of ALM coefficient is 0.4274221773419343 and B = [0.427422, 0.883746, 0.376204, 0.894308]\n",
      " --- Iteration over ALM coefficient: 2 ---\n"
     ]
    },
    {
     "name": "stderr",
     "output_type": "stream",
     "text": [
      "\u001b[32mSolving individual UMP by Euler method:  Time: 0:00:43 (1647 iterations)\u001b[39m)\u001b[39m\n",
      "\u001b[32msimulating aggregate path ... 99%|██████████████████████|  ETA: 0:00:00\u001b[39m"
     ]
    },
    {
     "name": "stdout",
     "output_type": "stream",
     "text": [
      "difference of ALM coefficient is 0.028843344069455823 and B = [0.15707, 0.959025, 0.129334, 0.963418]\n",
      " --- Iteration over ALM coefficient: 3 ---\n"
     ]
    },
    {
     "name": "stderr",
     "output_type": "stream",
     "text": [
      "\u001b[32msimulating aggregate path ...100%|██████████████████████| Time: 0:01:07\u001b[39m\n",
      "\u001b[32mSolving individual UMP by Euler method:  Time: 0:00:47 (1551 iterations)\u001b[39m)\u001b[39m\n",
      "\u001b[32msimulating aggregate path ... 99%|██████████████████████|  ETA: 0:00:01\u001b[39m"
     ]
    },
    {
     "name": "stdout",
     "output_type": "stream",
     "text": [
      "difference of ALM coefficient is 0.041342937742292946 and B = [0.178223, 0.953126, 0.158777, 0.955567]\n",
      " --- Iteration over ALM coefficient: 4 ---"
     ]
    },
    {
     "name": "stderr",
     "output_type": "stream",
     "text": [
      "\r",
      "\u001b[32msimulating aggregate path ...100%|██████████████████████| Time: 0:01:04\u001b[39m\n"
     ]
    },
    {
     "name": "stdout",
     "output_type": "stream",
     "text": [
      "\n"
     ]
    },
    {
     "name": "stderr",
     "output_type": "stream",
     "text": [
      "\u001b[32mSolving individual UMP by Euler method:  Time: 0:01:01 (1588 iterations)\u001b[39m)\u001b[39m\n",
      "\u001b[32msimulating aggregate path ...100%|██████████████████████|  ETA: 0:00:00\u001b[39m"
     ]
    },
    {
     "name": "stdout",
     "output_type": "stream",
     "text": [
      "difference of ALM coefficient is 0.06996789267768677 and B = [0.199395, 0.947364, 0.200063, 0.944539]\n",
      " --- Iteration over ALM coefficient: 5 ---\n"
     ]
    },
    {
     "name": "stderr",
     "output_type": "stream",
     "text": [
      "\u001b[32msimulating aggregate path ...100%|██████████████████████| Time: 0:00:60\u001b[39m\n",
      "\u001b[32mSolving individual UMP by Euler method:  Time: 0:00:55 (1764 iterations)\u001b[39m)\u001b[39m\n",
      "\u001b[32msimulating aggregate path ...100%|██████████████████████|  ETA: 0:00:00\u001b[39m"
     ]
    },
    {
     "name": "stdout",
     "output_type": "stream",
     "text": [
      "difference of ALM coefficient is 0.06628745779936746 and B = [0.207026, 0.945232, 0.217373, 0.93987]\n",
      " --- Iteration over ALM coefficient: 6 ---\n"
     ]
    },
    {
     "name": "stderr",
     "output_type": "stream",
     "text": [
      "\u001b[32msimulating aggregate path ...100%|██████████████████████| Time: 0:00:58\u001b[39m\n",
      "\u001b[32mSolving individual UMP by Euler method:  Time: 0:01:12 (1737 iterations)\u001b[39m39m39m\n",
      "\u001b[32msimulating aggregate path ... 99%|██████████████████████|  ETA: 0:00:01\u001b[39m"
     ]
    },
    {
     "name": "stdout",
     "output_type": "stream",
     "text": [
      "difference of ALM coefficient is 0.05213785746280725 and B = [0.20833, 0.944852, 0.22311, 0.938326]\n",
      " --- Iteration over ALM coefficient: 7 ---\n"
     ]
    },
    {
     "name": "stderr",
     "output_type": "stream",
     "text": [
      "\u001b[32msimulating aggregate path ...100%|██████████████████████| Time: 0:01:06\u001b[39m\n",
      "\u001b[32mSolving individual UMP by Euler method:  Time: 0:00:50 (1696 iterations)\u001b[39m)\u001b[39m\n",
      "\u001b[32msimulating aggregate path ... 99%|██████████████████████|  ETA: 0:00:01\u001b[39m"
     ]
    },
    {
     "name": "stdout",
     "output_type": "stream",
     "text": [
      "difference of ALM coefficient is 0.03843445449031102 and B = [0.208156, 0.944876, 0.225048, 0.937793]\n",
      " --- Iteration over ALM coefficient: 8 ---\n"
     ]
    },
    {
     "name": "stderr",
     "output_type": "stream",
     "text": [
      "\u001b[32msimulating aggregate path ...100%|██████████████████████| Time: 0:01:03\u001b[39m\n",
      "\u001b[32mSolving individual UMP by Euler method:  Time: 0:00:51 (1534 iterations)\u001b[39m)\u001b[39m\n",
      "\u001b[32msimulating aggregate path ... 99%|██████████████████████|  ETA: 0:00:01\u001b[39m"
     ]
    },
    {
     "name": "stdout",
     "output_type": "stream",
     "text": [
      "difference of ALM coefficient is 0.02831557297307452 and B = [0.208861, 0.944707, 0.226459, 0.937451]\n",
      " --- Iteration over ALM coefficient: 9 ---\n"
     ]
    },
    {
     "name": "stderr",
     "output_type": "stream",
     "text": [
      "\u001b[32msimulating aggregate path ...100%|██████████████████████| Time: 0:01:14\u001b[39m\n",
      "\u001b[32mSolving individual UMP by Euler method:  Time: 0:00:43 (1533 iterations)\u001b[39m)\u001b[39m\n",
      "\u001b[32msimulating aggregate path ... 99%|██████████████████████|  ETA: 0:00:01\u001b[39m"
     ]
    },
    {
     "name": "stdout",
     "output_type": "stream",
     "text": [
      "difference of ALM coefficient is 0.021670646983614678 and B = [0.209468, 0.944556, 0.228309, 0.936976]\n",
      " --- Iteration over ALM coefficient: 10 ---\n"
     ]
    },
    {
     "name": "stderr",
     "output_type": "stream",
     "text": [
      "\u001b[32msimulating aggregate path ...100%|██████████████████████| Time: 0:00:59\u001b[39m\n",
      "\u001b[32mSolving individual UMP by Euler method:  Time: 0:00:44 (1494 iterations)\u001b[39m)\u001b[39m\n",
      "\u001b[32msimulating aggregate path ...100%|██████████████████████|  ETA: 0:00:00\u001b[39m"
     ]
    },
    {
     "name": "stdout",
     "output_type": "stream",
     "text": [
      "difference of ALM coefficient is 0.016275853707469368 and B = [0.210447, 0.944305, 0.229415, 0.936704]\n",
      " --- Iteration over ALM coefficient: 11 ---\n"
     ]
    },
    {
     "name": "stderr",
     "output_type": "stream",
     "text": [
      "\u001b[32msimulating aggregate path ...100%|██████████████████████| Time: 0:01:01\u001b[39m\n",
      "\u001b[32mSolving individual UMP by Euler method:  Time: 0:00:39 (1448 iterations)\u001b[39m)\u001b[39m\n",
      "\u001b[32msimulating aggregate path ... 99%|██████████████████████|  ETA: 0:00:00\u001b[39m"
     ]
    },
    {
     "name": "stdout",
     "output_type": "stream",
     "text": [
      "difference of ALM coefficient is 0.012841776586819648 and B = [0.211201, 0.944113, 0.230864, 0.936334]\n",
      " --- Iteration over ALM coefficient: 12 ---\n"
     ]
    },
    {
     "name": "stderr",
     "output_type": "stream",
     "text": [
      "\u001b[32msimulating aggregate path ...100%|██████████████████████| Time: 0:01:13\u001b[39m\n",
      "\u001b[32mSolving individual UMP by Euler method:  Time: 0:00:44 (1407 iterations)\u001b[39m)\u001b[39m\n",
      "\u001b[32msimulating aggregate path ...100%|██████████████████████|  ETA: 0:00:00\u001b[39m"
     ]
    },
    {
     "name": "stdout",
     "output_type": "stream",
     "text": [
      "difference of ALM coefficient is 0.010269611634141418 and B = [0.21191, 0.943931, 0.232144, 0.936005]\n",
      " --- Iteration over ALM coefficient: 13 ---\n"
     ]
    },
    {
     "name": "stderr",
     "output_type": "stream",
     "text": [
      "\u001b[32msimulating aggregate path ...100%|██████████████████████| Time: 0:00:59\u001b[39m\n",
      "\u001b[32mSolving individual UMP by Euler method:  Time: 0:00:38 (1373 iterations)\u001b[39m)\u001b[39m\n",
      "\u001b[32msimulating aggregate path ... 99%|██████████████████████|  ETA: 0:00:01\u001b[39m"
     ]
    },
    {
     "name": "stdout",
     "output_type": "stream",
     "text": [
      "difference of ALM coefficient is 0.008213240501219299 and B = [0.212511, 0.943775, 0.233169, 0.935742]\n",
      " --- Iteration over ALM coefficient: 14 ---\n"
     ]
    },
    {
     "name": "stderr",
     "output_type": "stream",
     "text": [
      "\u001b[32msimulating aggregate path ...100%|██████████████████████| Time: 0:01:12\u001b[39m\n",
      "\u001b[32mSolving individual UMP by Euler method:  Time: 0:00:37 (1363 iterations)\u001b[39m)\u001b[39m\n",
      "\u001b[32msimulating aggregate path ... 99%|██████████████████████|  ETA: 0:00:00\u001b[39m"
     ]
    },
    {
     "name": "stdout",
     "output_type": "stream",
     "text": [
      "difference of ALM coefficient is 0.006609735127601962 and B = [0.213026, 0.943641, 0.234029, 0.93552]\n",
      " --- Iteration over ALM coefficient: 15 ---\n"
     ]
    },
    {
     "name": "stderr",
     "output_type": "stream",
     "text": [
      "\u001b[32msimulating aggregate path ...100%|██████████████████████| Time: 0:00:59\u001b[39m\n",
      "\u001b[32mSolving individual UMP by Euler method:  Time: 0:00:34 (1346 iterations)\u001b[39m)\u001b[39m\n",
      "\u001b[32msimulating aggregate path ... 99%|██████████████████████|  ETA: 0:00:01\u001b[39m"
     ]
    },
    {
     "name": "stdout",
     "output_type": "stream",
     "text": [
      "difference of ALM coefficient is 0.00534780310036953 and B = [0.213456, 0.943529, 0.23475, 0.935334]\n",
      " --- Iteration over ALM coefficient: 16 ---\n"
     ]
    },
    {
     "name": "stderr",
     "output_type": "stream",
     "text": [
      "\u001b[32msimulating aggregate path ...100%|██████████████████████| Time: 0:01:08\u001b[39m\n",
      "\u001b[32mSolving individual UMP by Euler method:  Time: 0:00:31 (1326 iterations)\u001b[39m)\u001b[39m\n",
      "\u001b[32msimulating aggregate path ... 99%|██████████████████████|  ETA: 0:00:00\u001b[39m"
     ]
    },
    {
     "name": "stdout",
     "output_type": "stream",
     "text": [
      "difference of ALM coefficient is 0.004329206686207454 and B = [0.213807, 0.943437, 0.235336, 0.935182]\n",
      " --- Iteration over ALM coefficient: 17 ---"
     ]
    },
    {
     "name": "stderr",
     "output_type": "stream",
     "text": [
      "\r",
      "\u001b[32msimulating aggregate path ...100%|██████████████████████| Time: 0:00:49\u001b[39m\n"
     ]
    },
    {
     "name": "stdout",
     "output_type": "stream",
     "text": [
      "\n"
     ]
    },
    {
     "name": "stderr",
     "output_type": "stream",
     "text": [
      "\u001b[32mSolving individual UMP by Euler method:  Time: 0:00:30 (1302 iterations)\u001b[39m)\u001b[39m\n",
      "\u001b[32msimulating aggregate path ... 99%|██████████████████████|  ETA: 0:00:01\u001b[39m"
     ]
    },
    {
     "name": "stdout",
     "output_type": "stream",
     "text": [
      "difference of ALM coefficient is 0.0035004966397757242 and B = [0.214094, 0.943362, 0.235806, 0.93506]\n",
      " --- Iteration over ALM coefficient: 18 ---\n"
     ]
    },
    {
     "name": "stderr",
     "output_type": "stream",
     "text": [
      "\u001b[32msimulating aggregate path ...100%|██████████████████████| Time: 0:00:47\u001b[39m\n",
      "\u001b[32mSolving individual UMP by Euler method:  Time: 0:00:29 (1274 iterations)\u001b[39m)\u001b[39m\n",
      "\u001b[32msimulating aggregate path ... 99%|██████████████████████|  ETA: 0:00:01\u001b[39m"
     ]
    },
    {
     "name": "stdout",
     "output_type": "stream",
     "text": [
      "difference of ALM coefficient is 0.002828208266825921 and B = [0.214326, 0.943301, 0.236184, 0.934962]\n",
      " --- Iteration over ALM coefficient: 19 ---\n"
     ]
    },
    {
     "name": "stderr",
     "output_type": "stream",
     "text": [
      "\u001b[32msimulating aggregate path ...100%|██████████████████████| Time: 0:00:49\u001b[39m\n",
      "\u001b[32mSolving individual UMP by Euler method:  Time: 0:00:29 (1245 iterations)\u001b[39m)\u001b[39m\n",
      "\u001b[32msimulating aggregate path ...100%|██████████████████████|  ETA: 0:00:00\u001b[39m"
     ]
    },
    {
     "name": "stdout",
     "output_type": "stream",
     "text": [
      "difference of ALM coefficient is 0.002284039023221912 and B = [0.214513, 0.943252, 0.236488, 0.934883]\n",
      " --- Iteration over ALM coefficient: 20 ---\n"
     ]
    },
    {
     "name": "stderr",
     "output_type": "stream",
     "text": [
      "\u001b[32msimulating aggregate path ...100%|██████████████████████| Time: 0:00:48\u001b[39m\n",
      "\u001b[32mSolving individual UMP by Euler method:  Time: 0:00:28 (1215 iterations)\u001b[39m)\u001b[39m\n",
      "\u001b[32msimulating aggregate path ... 99%|██████████████████████|  ETA: 0:00:00\u001b[39m"
     ]
    },
    {
     "name": "stdout",
     "output_type": "stream",
     "text": [
      "difference of ALM coefficient is 0.0018437298560852189 and B = [0.214664, 0.943212, 0.236733, 0.934819]\n",
      " --- Iteration over ALM coefficient: 21 ---\n"
     ]
    },
    {
     "name": "stderr",
     "output_type": "stream",
     "text": [
      "\u001b[32msimulating aggregate path ...100%|██████████████████████| Time: 0:00:48\u001b[39m\n",
      "\u001b[32mSolving individual UMP by Euler method:  Time: 0:00:28 (1185 iterations)\u001b[39m)\u001b[39m\n",
      "\u001b[32msimulating aggregate path ... 99%|██████████████████████|  ETA: 0:00:01\u001b[39m"
     ]
    },
    {
     "name": "stdout",
     "output_type": "stream",
     "text": [
      "difference of ALM coefficient is 0.0014875367781911342 and B = [0.214785, 0.943181, 0.23693, 0.934768]\n",
      " --- Iteration over ALM coefficient: 22 ---\n"
     ]
    },
    {
     "name": "stderr",
     "output_type": "stream",
     "text": [
      "\u001b[32msimulating aggregate path ...100%|██████████████████████| Time: 0:00:48\u001b[39m\n",
      "\u001b[32mSolving individual UMP by Euler method:  Time: 0:00:27 (1153 iterations)\u001b[39m)\u001b[39m\n",
      "\u001b[32msimulating aggregate path ... 99%|██████████████████████|  ETA: 0:00:00\u001b[39m"
     ]
    },
    {
     "name": "stdout",
     "output_type": "stream",
     "text": [
      "difference of ALM coefficient is 0.001199397336297564 and B = [0.214882, 0.943155, 0.237088, 0.934727]\n",
      " --- Iteration over ALM coefficient: 23 ---\n"
     ]
    },
    {
     "name": "stderr",
     "output_type": "stream",
     "text": [
      "\u001b[32msimulating aggregate path ...100%|██████████████████████| Time: 0:00:48\u001b[39m\n",
      "\u001b[32mSolving individual UMP by Euler method:  Time: 0:00:26 (1120 iterations)\u001b[39m)\u001b[39m\n",
      "\u001b[32msimulating aggregate path ... 99%|██████████████████████|  ETA: 0:00:00\u001b[39m"
     ]
    },
    {
     "name": "stdout",
     "output_type": "stream",
     "text": [
      "difference of ALM coefficient is 0.0009664365422264176 and B = [0.214959, 0.943135, 0.237215, 0.934693]\n",
      " --- Iteration over ALM coefficient: 24 ---\n"
     ]
    },
    {
     "name": "stderr",
     "output_type": "stream",
     "text": [
      "\u001b[32msimulating aggregate path ...100%|██████████████████████| Time: 0:00:47\u001b[39m\n",
      "\u001b[32mSolving individual UMP by Euler method:  Time: 0:00:25 (1086 iterations)\u001b[39m)\u001b[39m\n",
      "\u001b[32msimulating aggregate path ... 99%|██████████████████████|  ETA: 0:00:00\u001b[39m"
     ]
    },
    {
     "name": "stdout",
     "output_type": "stream",
     "text": [
      "difference of ALM coefficient is 0.0007782211236908587 and B = [0.215022, 0.943118, 0.237317, 0.934667]\n",
      " --- Iteration over ALM coefficient: 25 ---\n"
     ]
    },
    {
     "name": "stderr",
     "output_type": "stream",
     "text": [
      "\u001b[32msimulating aggregate path ...100%|██████████████████████| Time: 0:00:46\u001b[39m\n",
      "\u001b[32mSolving individual UMP by Euler method:  Time: 0:00:24 (1052 iterations)\u001b[39m)\u001b[39m\n",
      "\u001b[32msimulating aggregate path ... 99%|██████████████████████|  ETA: 0:00:00\u001b[39m"
     ]
    },
    {
     "name": "stdout",
     "output_type": "stream",
     "text": [
      "difference of ALM coefficient is 0.0006262672114309698 and B = [0.215072, 0.943105, 0.237398, 0.934646]\n",
      " --- Iteration over ALM coefficient: 26 ---\n"
     ]
    },
    {
     "name": "stderr",
     "output_type": "stream",
     "text": [
      "\u001b[32msimulating aggregate path ...100%|██████████████████████| Time: 0:00:50\u001b[39m\n",
      "\u001b[32mSolving individual UMP by Euler method:  Time: 0:00:24 (1018 iterations)\u001b[39m)\u001b[39m\n",
      "\u001b[32msimulating aggregate path ... 99%|██████████████████████|  ETA: 0:00:00\u001b[39m"
     ]
    },
    {
     "name": "stdout",
     "output_type": "stream",
     "text": [
      "difference of ALM coefficient is 0.0005036806252466108 and B = [0.215111, 0.943095, 0.237464, 0.934629]\n",
      " --- Iteration over ALM coefficient: 27 ---\n"
     ]
    },
    {
     "name": "stderr",
     "output_type": "stream",
     "text": [
      "\u001b[32msimulating aggregate path ...100%|██████████████████████| Time: 0:00:53\u001b[39m\n",
      "\u001b[32mSolving individual UMP by Euler method:  Time: 0:00:23 (983 iterations)\u001b[39m8)\u001b[39m\n",
      "\u001b[32msimulating aggregate path ... 99%|██████████████████████|  ETA: 0:00:01\u001b[39m"
     ]
    },
    {
     "name": "stdout",
     "output_type": "stream",
     "text": [
      "difference of ALM coefficient is 0.0004048630187176161 and B = [0.215143, 0.943086, 0.237516, 0.934615]\n",
      " --- Iteration over ALM coefficient: 28 ---\n"
     ]
    },
    {
     "name": "stderr",
     "output_type": "stream",
     "text": [
      "\u001b[32msimulating aggregate path ...100%|██████████████████████| Time: 0:00:51\u001b[39m\n",
      "\u001b[32mSolving individual UMP by Euler method:  Time: 0:00:24 (948 iterations)\u001b[39m8)\u001b[39m\n",
      "\u001b[32msimulating aggregate path ...100%|██████████████████████|  ETA: 0:00:00\u001b[39m"
     ]
    },
    {
     "name": "stdout",
     "output_type": "stream",
     "text": [
      "difference of ALM coefficient is 0.00032526597520710077 and B = [0.215169, 0.94308, 0.237558, 0.934604]\n",
      " --- Iteration over ALM coefficient: 29 ---\n"
     ]
    },
    {
     "name": "stderr",
     "output_type": "stream",
     "text": [
      "\u001b[32msimulating aggregate path ...100%|██████████████████████| Time: 0:00:48\u001b[39m\n",
      "\u001b[32mSolving individual UMP by Euler method:  Time: 0:00:21 (912 iterations)\u001b[39m8)\u001b[39m\n",
      "\u001b[32msimulating aggregate path ... 99%|██████████████████████|  ETA: 0:00:00\u001b[39m"
     ]
    },
    {
     "name": "stdout",
     "output_type": "stream",
     "text": [
      "difference of ALM coefficient is 0.0002611957252989794 and B = [0.215189, 0.943074, 0.237591, 0.934596]\n",
      " --- Iteration over ALM coefficient: 30 ---\n"
     ]
    },
    {
     "name": "stderr",
     "output_type": "stream",
     "text": [
      "\u001b[32msimulating aggregate path ...100%|██████████████████████| Time: 0:00:48\u001b[39m\n",
      "\u001b[32mSolving individual UMP by Euler method:  Time: 0:00:20 (877 iterations)\u001b[39m8)\u001b[39m\n",
      "\u001b[32msimulating aggregate path ... 99%|██████████████████████|  ETA: 0:00:00\u001b[39m"
     ]
    },
    {
     "name": "stdout",
     "output_type": "stream",
     "text": [
      "difference of ALM coefficient is 0.00020965641348305586 and B = [0.215206, 0.94307, 0.237618, 0.934589]\n",
      " --- Iteration over ALM coefficient: 31 ---\n"
     ]
    },
    {
     "name": "stderr",
     "output_type": "stream",
     "text": [
      "\u001b[32msimulating aggregate path ...100%|██████████████████████| Time: 0:00:47\u001b[39m\n",
      "\u001b[32mSolving individual UMP by Euler method:  Time: 0:00:20 (841 iterations)\u001b[39m8)\u001b[39m\n",
      "\u001b[32msimulating aggregate path ... 99%|██████████████████████|  ETA: 0:00:01\u001b[39m"
     ]
    },
    {
     "name": "stdout",
     "output_type": "stream",
     "text": [
      "difference of ALM coefficient is 0.00016822346227868268 and B = [0.215219, 0.943067, 0.23764, 0.934583]\n"
     ]
    },
    {
     "name": "stderr",
     "output_type": "stream",
     "text": [
      "\r",
      "\u001b[32msimulating aggregate path ...100%|██████████████████████|  ETA: 0:00:00\u001b[39m\r",
      "\u001b[32msimulating aggregate path ...100%|██████████████████████| Time: 0:00:48\u001b[39m\n"
     ]
    },
    {
     "name": "stdout",
     "output_type": "stream",
     "text": [
      " --- Iteration over ALM coefficient: 32 ---\n"
     ]
    },
    {
     "name": "stderr",
     "output_type": "stream",
     "text": [
      "\u001b[32mSolving individual UMP by Euler method:  Time: 0:00:19 (805 iterations)\u001b[39m8)\u001b[39m\n",
      "\u001b[32msimulating aggregate path ...100%|██████████████████████|  ETA: 0:00:00\u001b[39m"
     ]
    },
    {
     "name": "stdout",
     "output_type": "stream",
     "text": [
      "difference of ALM coefficient is 0.0001349326456415445 and B = [0.215229, 0.943064, 0.237657, 0.934579]\n",
      " --- Iteration over ALM coefficient: 33 ---\n"
     ]
    },
    {
     "name": "stderr",
     "output_type": "stream",
     "text": [
      "\u001b[32msimulating aggregate path ...100%|██████████████████████| Time: 0:00:49\u001b[39m\n",
      "\u001b[32mSolving individual UMP by Euler method:  Time: 0:00:18 (769 iterations)\u001b[39m8)\u001b[39m\n",
      "\u001b[32msimulating aggregate path ... 99%|██████████████████████|  ETA: 0:00:00\u001b[39m"
     ]
    },
    {
     "name": "stdout",
     "output_type": "stream",
     "text": [
      "difference of ALM coefficient is 0.00010819727466199192 and B = [0.215237, 0.943062, 0.23767, 0.934575]\n",
      " --- Iteration over ALM coefficient: 34 ---\n"
     ]
    },
    {
     "name": "stderr",
     "output_type": "stream",
     "text": [
      "\u001b[32msimulating aggregate path ...100%|██████████████████████| Time: 0:00:48\u001b[39m\n",
      "\u001b[32mSolving individual UMP by Euler method:  Time: 0:00:17 (733 iterations)\u001b[39m8)\u001b[39m\n",
      "\u001b[32msimulating aggregate path ... 99%|██████████████████████|  ETA: 0:00:01\u001b[39m"
     ]
    },
    {
     "name": "stdout",
     "output_type": "stream",
     "text": [
      "difference of ALM coefficient is 8.673613605800212e-5 and B = [0.215244, 0.94306, 0.237681, 0.934572]\n",
      " --- Iteration over ALM coefficient: 35 ---\n"
     ]
    },
    {
     "name": "stderr",
     "output_type": "stream",
     "text": [
      "\u001b[32msimulating aggregate path ...100%|██████████████████████| Time: 0:00:47\u001b[39m\n",
      "\u001b[32mSolving individual UMP by Euler method:  Time: 0:00:16 (696 iterations)\u001b[39m)\u001b[39mm\n",
      "\u001b[32msimulating aggregate path ... 99%|██████████████████████|  ETA: 0:00:01\u001b[39m"
     ]
    },
    {
     "name": "stdout",
     "output_type": "stream",
     "text": [
      "difference of ALM coefficient is 6.951508037367216e-5 and B = [0.215249, 0.943058, 0.23769, 0.93457]\n",
      " --- Iteration over ALM coefficient: 36 ---\n"
     ]
    },
    {
     "name": "stderr",
     "output_type": "stream",
     "text": [
      "\u001b[32msimulating aggregate path ...100%|██████████████████████| Time: 0:00:47\u001b[39m\n",
      "\u001b[32mSolving individual UMP by Euler method:  Time: 0:00:15 (660 iterations)\u001b[39m8)\u001b[39m\n",
      "\u001b[32msimulating aggregate path ...100%|██████████████████████|  ETA: 0:00:00\u001b[39m"
     ]
    },
    {
     "name": "stdout",
     "output_type": "stream",
     "text": [
      "difference of ALM coefficient is 5.5701457714579794e-5 and B = [0.215254, 0.943057, 0.237697, 0.934568]\n",
      " --- Iteration over ALM coefficient: 37 ---\n"
     ]
    },
    {
     "name": "stderr",
     "output_type": "stream",
     "text": [
      "\u001b[32msimulating aggregate path ...100%|██████████████████████| Time: 0:00:49\u001b[39m\n",
      "\u001b[32mSolving individual UMP by Euler method:  Time: 0:00:15 (624 iterations)\u001b[39m8)\u001b[39m\n",
      "\u001b[32msimulating aggregate path ... 99%|██████████████████████|  ETA: 0:00:00\u001b[39m"
     ]
    },
    {
     "name": "stdout",
     "output_type": "stream",
     "text": [
      "difference of ALM coefficient is 4.4624363950307444e-5 and B = [0.215257, 0.943056, 0.237703, 0.934566]\n",
      " --- Iteration over ALM coefficient: 38 ---\n"
     ]
    },
    {
     "name": "stderr",
     "output_type": "stream",
     "text": [
      "\u001b[32msimulating aggregate path ...100%|██████████████████████| Time: 0:00:49\u001b[39m\n",
      "\u001b[32mSolving individual UMP by Euler method:  Time: 0:00:14 (588 iterations)\u001b[39m8)\u001b[39m\n",
      "\u001b[32msimulating aggregate path ... 99%|██████████████████████|  ETA: 0:00:00\u001b[39m"
     ]
    },
    {
     "name": "stdout",
     "output_type": "stream",
     "text": [
      "difference of ALM coefficient is 3.5744114518398984e-5 and B = [0.21526, 0.943056, 0.237707, 0.934565]\n",
      " --- Iteration over ALM coefficient: 39 ---\n"
     ]
    },
    {
     "name": "stderr",
     "output_type": "stream",
     "text": [
      "\u001b[32msimulating aggregate path ...100%|██████████████████████| Time: 0:00:47\u001b[39m\n",
      "\u001b[32mSolving individual UMP by Euler method:  Time: 0:00:13 (551 iterations)\u001b[39m)\u001b[39mm\n",
      "\u001b[32msimulating aggregate path ... 99%|██████████████████████|  ETA: 0:00:00\u001b[39m"
     ]
    },
    {
     "name": "stdout",
     "output_type": "stream",
     "text": [
      "difference of ALM coefficient is 2.862654488913763e-5 and B = [0.215262, 0.943055, 0.237711, 0.934564]\n",
      " --- Iteration over ALM coefficient: 40 ---\n"
     ]
    },
    {
     "name": "stderr",
     "output_type": "stream",
     "text": [
      "\u001b[32msimulating aggregate path ...100%|██████████████████████| Time: 0:00:51\u001b[39m\n",
      "\u001b[32mSolving individual UMP by Euler method:  Time: 0:00:12 (515 iterations)\u001b[39m8)\u001b[39m\n",
      "\u001b[32msimulating aggregate path ...100%|██████████████████████|  ETA: 0:00:00\u001b[39m"
     ]
    },
    {
     "name": "stdout",
     "output_type": "stream",
     "text": [
      "difference of ALM coefficient is 2.2923133692759334e-5 and B = [0.215264, 0.943055, 0.237714, 0.934564]\n",
      " --- Iteration over ALM coefficient: 41 ---\n"
     ]
    },
    {
     "name": "stderr",
     "output_type": "stream",
     "text": [
      "\u001b[32msimulating aggregate path ...100%|██████████████████████| Time: 0:00:53\u001b[39m\n",
      "\u001b[32mSolving individual UMP by Euler method:  Time: 0:00:12 (479 iterations)\u001b[39m8)\u001b[39m\n",
      "\u001b[32msimulating aggregate path ... 99%|██████████████████████|  ETA: 0:00:01\u001b[39m"
     ]
    },
    {
     "name": "stdout",
     "output_type": "stream",
     "text": [
      "difference of ALM coefficient is 1.8353550593069867e-5 and B = [0.215265, 0.943054, 0.237716, 0.934563]\n",
      " --- Iteration over ALM coefficient: 42 ---"
     ]
    },
    {
     "name": "stderr",
     "output_type": "stream",
     "text": [
      "\r",
      "\u001b[32msimulating aggregate path ...100%|██████████████████████| Time: 0:00:49\u001b[39m\n"
     ]
    },
    {
     "name": "stdout",
     "output_type": "stream",
     "text": [
      "\n"
     ]
    },
    {
     "name": "stderr",
     "output_type": "stream",
     "text": [
      "\u001b[32mSolving individual UMP by Euler method:  Time: 0:00:10 (444 iterations)\u001b[39m)\u001b[39mm\n",
      "\u001b[32msimulating aggregate path ...100%|██████████████████████|  ETA: 0:00:00\u001b[39m"
     ]
    },
    {
     "name": "stdout",
     "output_type": "stream",
     "text": [
      "difference of ALM coefficient is 1.4693034674578831e-5 and B = [0.215266, 0.943054, 0.237718, 0.934563]\n",
      " --- Iteration over ALM coefficient: 43 ---\n"
     ]
    },
    {
     "name": "stderr",
     "output_type": "stream",
     "text": [
      "\u001b[32msimulating aggregate path ...100%|██████████████████████| Time: 0:00:47\u001b[39m\n",
      "\u001b[32mSolving individual UMP by Euler method:  Time: 0:00:10 (409 iterations)\u001b[39m8)\u001b[39m\n",
      "\u001b[32msimulating aggregate path ...100%|██████████████████████|  ETA: 0:00:00\u001b[39m"
     ]
    },
    {
     "name": "stdout",
     "output_type": "stream",
     "text": [
      "difference of ALM coefficient is 1.1760917077247024e-5 and B = [0.215267, 0.943054, 0.23772, 0.934562]\n",
      " --- Iteration over ALM coefficient: 44 ---\n"
     ]
    },
    {
     "name": "stderr",
     "output_type": "stream",
     "text": [
      "\u001b[32msimulating aggregate path ...100%|██████████████████████| Time: 0:00:47\u001b[39m\n",
      "\u001b[32mSolving individual UMP by Euler method:  Time: 0:00:09 (375 iterations)\u001b[39m8)\u001b[39m\n",
      "\u001b[32msimulating aggregate path ... 99%|██████████████████████|  ETA: 0:00:00\u001b[39m"
     ]
    },
    {
     "name": "stdout",
     "output_type": "stream",
     "text": [
      "difference of ALM coefficient is 9.41266795084772e-6 and B = [0.215268, 0.943054, 0.237721, 0.934562]\n",
      " --- Iteration over ALM coefficient: 45 ---\n"
     ]
    },
    {
     "name": "stderr",
     "output_type": "stream",
     "text": [
      "\u001b[32msimulating aggregate path ...100%|██████████████████████| Time: 0:00:47\u001b[39m\n",
      "\u001b[32mSolving individual UMP by Euler method:  Time: 0:00:08 (341 iterations)\u001b[39m8)\u001b[39m\n",
      "\u001b[32msimulating aggregate path ... 99%|██████████████████████|  ETA: 0:00:00\u001b[39m"
     ]
    },
    {
     "name": "stdout",
     "output_type": "stream",
     "text": [
      "difference of ALM coefficient is 7.531988979042614e-6 and B = [0.215269, 0.943053, 0.237722, 0.934562]\n",
      " --- Iteration over ALM coefficient: 46 ---\n"
     ]
    },
    {
     "name": "stderr",
     "output_type": "stream",
     "text": [
      "\u001b[32msimulating aggregate path ...100%|██████████████████████| Time: 0:00:48\u001b[39m\n",
      "\u001b[32mSolving individual UMP by Euler method:  Time: 0:00:07 (309 iterations)\u001b[39m8)\u001b[39m\n",
      "\u001b[32msimulating aggregate path ... 99%|██████████████████████|  ETA: 0:00:00\u001b[39m"
     ]
    },
    {
     "name": "stdout",
     "output_type": "stream",
     "text": [
      "difference of ALM coefficient is 6.026056971419891e-6 and B = [0.215269, 0.943053, 0.237722, 0.934561]\n",
      " --- Iteration over ALM coefficient: 47 ---\n"
     ]
    },
    {
     "name": "stderr",
     "output_type": "stream",
     "text": [
      "\u001b[32msimulating aggregate path ...100%|██████████████████████| Time: 0:00:47\u001b[39m\n",
      "\u001b[32mSolving individual UMP by Euler method:  Time: 0:00:07 (277 iterations)\u001b[39m8)\u001b[39m\n",
      "\u001b[32msimulating aggregate path ...100%|██████████████████████|  ETA: 0:00:00\u001b[39m"
     ]
    },
    {
     "name": "stdout",
     "output_type": "stream",
     "text": [
      "difference of ALM coefficient is 4.819921083698553e-6 and B = [0.215269, 0.943053, 0.237723, 0.934561]\n",
      " --- Iteration over ALM coefficient: 48 ---\n"
     ]
    },
    {
     "name": "stderr",
     "output_type": "stream",
     "text": [
      "\u001b[32msimulating aggregate path ...100%|██████████████████████| Time: 0:00:47\u001b[39m\n",
      "\u001b[32mSolving individual UMP by Euler method:  Time: 0:00:06 (247 iterations)\u001b[39m8)\u001b[39m\n",
      "\u001b[32msimulating aggregate path ... 99%|██████████████████████|  ETA: 0:00:00\u001b[39m"
     ]
    },
    {
     "name": "stdout",
     "output_type": "stream",
     "text": [
      "difference of ALM coefficient is 3.854311318690629e-6 and B = [0.21527, 0.943053, 0.237723, 0.934561]\n",
      " --- Iteration over ALM coefficient: 49 ---\n"
     ]
    },
    {
     "name": "stderr",
     "output_type": "stream",
     "text": [
      "\u001b[32msimulating aggregate path ...100%|██████████████████████| Time: 0:00:52\u001b[39m\n",
      "\u001b[32mSolving individual UMP by Euler method:  Time: 0:00:05 (219 iterations)\u001b[39m8)\u001b[39m\n",
      "\u001b[32msimulating aggregate path ... 99%|██████████████████████|  ETA: 0:00:00\u001b[39m"
     ]
    },
    {
     "name": "stdout",
     "output_type": "stream",
     "text": [
      "difference of ALM coefficient is 3.081266870652577e-6 and B = [0.21527, 0.943053, 0.237724, 0.934561]\n",
      " --- Iteration over ALM coefficient: 50 ---\n"
     ]
    },
    {
     "name": "stderr",
     "output_type": "stream",
     "text": [
      "\u001b[32msimulating aggregate path ...100%|██████████████████████| Time: 0:00:48\u001b[39m\n",
      "\u001b[32mSolving individual UMP by Euler method:  Time: 0:00:04 (192 iterations)\u001b[39m8)\u001b[39m\n",
      "\u001b[32msimulating aggregate path ... 99%|██████████████████████|  ETA: 0:00:00\u001b[39m"
     ]
    },
    {
     "name": "stdout",
     "output_type": "stream",
     "text": [
      "difference of ALM coefficient is 2.462191460161911e-6 and B = [0.21527, 0.943053, 0.237724, 0.934561]\n",
      " --- Iteration over ALM coefficient: 51 ---\n"
     ]
    },
    {
     "name": "stderr",
     "output_type": "stream",
     "text": [
      "\u001b[32msimulating aggregate path ...100%|██████████████████████| Time: 0:00:47\u001b[39m\n",
      "\u001b[32mSolving individual UMP by Euler method:  Time: 0:00:04 (166 iterations)\u001b[39m8)\u001b[39m\n",
      "\u001b[32msimulating aggregate path ... 99%|██████████████████████|  ETA: 0:00:00\u001b[39m"
     ]
    },
    {
     "name": "stdout",
     "output_type": "stream",
     "text": [
      "difference of ALM coefficient is 1.966297479089052e-6 and B = [0.21527, 0.943053, 0.237724, 0.934561]\n",
      " --- Iteration over ALM coefficient: 52 ---\n"
     ]
    },
    {
     "name": "stderr",
     "output_type": "stream",
     "text": [
      "\u001b[32msimulating aggregate path ...100%|██████████████████████| Time: 0:00:47\u001b[39m\n",
      "\u001b[32mSolving individual UMP by Euler method:  Time: 0:00:03 (145 iterations)\u001b[39m)\u001b[39mm\n",
      "\u001b[32msimulating aggregate path ...100%|██████████████████████|  ETA: 0:00:00\u001b[39m"
     ]
    },
    {
     "name": "stdout",
     "output_type": "stream",
     "text": [
      "difference of ALM coefficient is 1.570472841799786e-6 and B = [0.21527, 0.943053, 0.237725, 0.934561]\n",
      " --- Iteration over ALM coefficient: 53 ---"
     ]
    },
    {
     "name": "stderr",
     "output_type": "stream",
     "text": [
      "\r",
      "\u001b[32msimulating aggregate path ...100%|██████████████████████| Time: 0:00:47\u001b[39m\n"
     ]
    },
    {
     "name": "stdout",
     "output_type": "stream",
     "text": [
      "\n"
     ]
    },
    {
     "name": "stderr",
     "output_type": "stream",
     "text": [
      "\u001b[32mSolving individual UMP by Euler method:  Time: 0:00:03 (128 iterations)\u001b[39m8)\u001b[39m\n",
      "\u001b[32msimulating aggregate path ... 99%|██████████████████████|  ETA: 0:00:00\u001b[39m"
     ]
    },
    {
     "name": "stdout",
     "output_type": "stream",
     "text": [
      "difference of ALM coefficient is 1.255154174845119e-6 and B = [0.21527, 0.943053, 0.237725, 0.934561]\n",
      " --- Iteration over ALM coefficient: 54 ---"
     ]
    },
    {
     "name": "stderr",
     "output_type": "stream",
     "text": [
      "\r",
      "\u001b[32msimulating aggregate path ...100%|██████████████████████| Time: 0:00:49\u001b[39m\n"
     ]
    },
    {
     "name": "stdout",
     "output_type": "stream",
     "text": [
      "\n"
     ]
    },
    {
     "name": "stderr",
     "output_type": "stream",
     "text": [
      "\u001b[32mSolving individual UMP by Euler method:  Time: 0:00:03 (112 iterations)\u001b[39m8)\u001b[39m\n",
      "\u001b[32msimulating aggregate path ... 99%|██████████████████████|  ETA: 0:00:01\u001b[39m"
     ]
    },
    {
     "name": "stdout",
     "output_type": "stream",
     "text": [
      "difference of ALM coefficient is 1.0031489979522856e-6 and B = [0.215271, 0.943053, 0.237725, 0.934561]\n",
      " --- Iteration over ALM coefficient: 55 ---\n"
     ]
    },
    {
     "name": "stderr",
     "output_type": "stream",
     "text": [
      "\u001b[32msimulating aggregate path ...100%|██████████████████████| Time: 0:00:48\u001b[39m\n",
      "\u001b[32mSolving individual UMP by Euler method:  Time: 0:00:02 (98 iterations)\u001b[39m08)\u001b[39m\n",
      "\u001b[32msimulating aggregate path ... 99%|██████████████████████|  ETA: 0:00:00\u001b[39m"
     ]
    },
    {
     "name": "stdout",
     "output_type": "stream",
     "text": [
      "difference of ALM coefficient is 8.021311037054168e-7 and B = [0.215271, 0.943053, 0.237725, 0.934561]\n",
      " --- Iteration over ALM coefficient: 56 ---\n"
     ]
    },
    {
     "name": "stderr",
     "output_type": "stream",
     "text": [
      "\u001b[32msimulating aggregate path ...100%|██████████████████████| Time: 0:00:51\u001b[39m\n",
      "\u001b[32mSolving individual UMP by Euler method:  Time: 0:00:02 (83 iterations)\u001b[39m08)\u001b[39m\n",
      "\u001b[32msimulating aggregate path ...100%|██████████████████████|  ETA: 0:00:00\u001b[39m"
     ]
    },
    {
     "name": "stdout",
     "output_type": "stream",
     "text": [
      "difference of ALM coefficient is 6.403482372685509e-7 and B = [0.215271, 0.943053, 0.237725, 0.934561]\n",
      " --- Iteration over ALM coefficient: 57 ---\n"
     ]
    },
    {
     "name": "stderr",
     "output_type": "stream",
     "text": [
      "\u001b[32msimulating aggregate path ...100%|██████████████████████| Time: 0:00:51\u001b[39m\n",
      "\u001b[32mSolving individual UMP by Euler method:  Time: 0:00:02 (70 iterations)\u001b[39m08)\u001b[39m\n",
      "\u001b[32msimulating aggregate path ... 99%|██████████████████████|  ETA: 0:00:01\u001b[39m"
     ]
    },
    {
     "name": "stdout",
     "output_type": "stream",
     "text": [
      "difference of ALM coefficient is 5.110198040003677e-7 and B = [0.215271, 0.943053, 0.237725, 0.934561]\n",
      " --- Iteration over ALM coefficient: 58 ---\n"
     ]
    },
    {
     "name": "stderr",
     "output_type": "stream",
     "text": [
      "\u001b[32msimulating aggregate path ...100%|██████████████████████| Time: 0:00:53\u001b[39m\n",
      "\u001b[32mSolving individual UMP by Euler method:  Time: 0:00:01 (60 iterations)\u001b[39m08)\u001b[39m\n",
      "\u001b[32msimulating aggregate path ...100%|██████████████████████|  ETA: 0:00:00\u001b[39m"
     ]
    },
    {
     "name": "stdout",
     "output_type": "stream",
     "text": [
      "difference of ALM coefficient is 4.084398875503492e-7 and B = [0.215271, 0.943053, 0.237725, 0.934561]\n",
      " --- Iteration over ALM coefficient: 59 ---\n"
     ]
    },
    {
     "name": "stderr",
     "output_type": "stream",
     "text": [
      "\u001b[32msimulating aggregate path ...100%|██████████████████████| Time: 0:00:49\u001b[39m\n",
      "\u001b[32mSolving individual UMP by Euler method:  Time: 0:00:01 (50 iterations)\u001b[39m08)\u001b[39m\n",
      "\u001b[32msimulating aggregate path ... 99%|██████████████████████|  ETA: 0:00:00\u001b[39m"
     ]
    },
    {
     "name": "stdout",
     "output_type": "stream",
     "text": [
      "difference of ALM coefficient is 3.260620214939891e-7 and B = [0.215271, 0.943053, 0.237725, 0.934561]\n",
      " --- Iteration over ALM coefficient: 60 ---\n"
     ]
    },
    {
     "name": "stderr",
     "output_type": "stream",
     "text": [
      "\u001b[32msimulating aggregate path ...100%|██████████████████████| Time: 0:00:48\u001b[39m\n",
      "\u001b[32mSolving individual UMP by Euler method:  Time: 0:00:01 (43 iterations)\u001b[39m08)\u001b[39m\n",
      "\u001b[32msimulating aggregate path ...100%|██████████████████████|  ETA: 0:00:00\u001b[39m"
     ]
    },
    {
     "name": "stdout",
     "output_type": "stream",
     "text": [
      "difference of ALM coefficient is 2.6115551851613183e-7 and B = [0.215271, 0.943053, 0.237725, 0.934561]\n",
      " --- Iteration over ALM coefficient: 61 ---\n"
     ]
    },
    {
     "name": "stderr",
     "output_type": "stream",
     "text": [
      "\u001b[32msimulating aggregate path ...100%|██████████████████████| Time: 0:00:48\u001b[39m\n",
      "\u001b[32mSolving individual UMP by Euler method:  Time: 0:00:01 (38 iterations)\u001b[39m08)\u001b[39m\n",
      "\u001b[32msimulating aggregate path ... 99%|██████████████████████|  ETA: 0:00:00\u001b[39m"
     ]
    },
    {
     "name": "stdout",
     "output_type": "stream",
     "text": [
      "difference of ALM coefficient is 2.1025903501614707e-7 and B = [0.215271, 0.943053, 0.237725, 0.934561]\n",
      " --- Iteration over ALM coefficient: 62 ---\n"
     ]
    },
    {
     "name": "stderr",
     "output_type": "stream",
     "text": [
      "\u001b[32msimulating aggregate path ...100%|██████████████████████| Time: 0:00:48\u001b[39m\n",
      "\u001b[32mSolving individual UMP by Euler method:  Time: 0:00:01 (34 iterations)\u001b[39m08)\u001b[39m\n",
      "\u001b[32msimulating aggregate path ... 99%|██████████████████████|  ETA: 0:00:00\u001b[39m"
     ]
    },
    {
     "name": "stdout",
     "output_type": "stream",
     "text": [
      "difference of ALM coefficient is 1.702155499050395e-7 and B = [0.215271, 0.943053, 0.237725, 0.934561]\n",
      " --- Iteration over ALM coefficient: 63 ---\n"
     ]
    },
    {
     "name": "stderr",
     "output_type": "stream",
     "text": [
      "\u001b[32msimulating aggregate path ...100%|██████████████████████| Time: 0:00:50\u001b[39m\n",
      "\u001b[32mSolving individual UMP by Euler method:  Time: 0:00:01 (30 iterations)\u001b[39m08)\u001b[39m\n",
      "\u001b[32msimulating aggregate path ... 99%|██████████████████████|  ETA: 0:00:00\u001b[39m"
     ]
    },
    {
     "name": "stdout",
     "output_type": "stream",
     "text": [
      "difference of ALM coefficient is 1.3810777033107513e-7 and B = [0.215271, 0.943053, 0.237725, 0.934561]\n",
      " --- Iteration over ALM coefficient: 64 ---"
     ]
    },
    {
     "name": "stderr",
     "output_type": "stream",
     "text": [
      "\r",
      "\u001b[32msimulating aggregate path ...100%|██████████████████████| Time: 0:00:49\u001b[39m\n"
     ]
    },
    {
     "name": "stdout",
     "output_type": "stream",
     "text": [
      "\n"
     ]
    },
    {
     "name": "stderr",
     "output_type": "stream",
     "text": [
      "\u001b[32mSolving individual UMP by Euler method:  Time: 0:00:01 (26 iterations)\u001b[39m08)\u001b[39m\n",
      "\u001b[32msimulating aggregate path ...100%|██████████████████████|  ETA: 0:00:00\u001b[39m"
     ]
    },
    {
     "name": "stdout",
     "output_type": "stream",
     "text": [
      "difference of ALM coefficient is 1.1216127535074172e-7 and B = [0.215271, 0.943053, 0.237725, 0.934561]\n",
      " --- Iteration over ALM coefficient: 65 ---\n"
     ]
    },
    {
     "name": "stderr",
     "output_type": "stream",
     "text": [
      "\u001b[32msimulating aggregate path ...100%|██████████████████████| Time: 0:00:47\u001b[39m\n",
      "\u001b[32mSolving individual UMP by Euler method:  Time: 0:00:01 (23 iterations)\u001b[39m08)\u001b[39m\n",
      "\u001b[32msimulating aggregate path ... 99%|██████████████████████|  ETA: 0:00:00\u001b[39m"
     ]
    },
    {
     "name": "stdout",
     "output_type": "stream",
     "text": [
      "difference of ALM coefficient is 9.148415422433054e-8 and B = [0.215271, 0.943053, 0.237725, 0.934561]\n",
      " --- Iteration over ALM coefficient: 66 ---\n"
     ]
    },
    {
     "name": "stderr",
     "output_type": "stream",
     "text": [
      "\u001b[32msimulating aggregate path ...100%|██████████████████████| Time: 0:00:47\u001b[39m\n",
      "\u001b[32mSolving individual UMP by Euler method:  Time: 0:00:00 (20 iterations)\u001b[39m08)\u001b[39m\n",
      "\u001b[32msimulating aggregate path ...100%|██████████████████████|  ETA: 0:00:00\u001b[39m"
     ]
    },
    {
     "name": "stdout",
     "output_type": "stream",
     "text": [
      "difference of ALM coefficient is 7.473471297370082e-8 and B = [0.215271, 0.943053, 0.237725, 0.934561]\n",
      " --- Iteration over ALM coefficient: 67 ---\n"
     ]
    },
    {
     "name": "stderr",
     "output_type": "stream",
     "text": [
      "\u001b[32msimulating aggregate path ...100%|██████████████████████| Time: 0:00:47\u001b[39m\n",
      "\u001b[32mSolving individual UMP by Euler method:  Time: 0:00:00 (18 iterations)\u001b[39m08)\u001b[39m\n",
      "\u001b[32msimulating aggregate path ... 99%|██████████████████████|  ETA: 0:00:00\u001b[39m"
     ]
    },
    {
     "name": "stdout",
     "output_type": "stream",
     "text": [
      "difference of ALM coefficient is 6.143499040045519e-8 and B = [0.215271, 0.943053, 0.237725, 0.934561]\n",
      " --- Iteration over ALM coefficient: 68 ---\n"
     ]
    },
    {
     "name": "stderr",
     "output_type": "stream",
     "text": [
      "\u001b[32msimulating aggregate path ...100%|██████████████████████| Time: 0:00:49\u001b[39m\n",
      "\u001b[32mSolving individual UMP by Euler method:  Time: 0:00:00 (15 iterations)\u001b[39m08)\u001b[39m\n",
      "\u001b[32msimulating aggregate path ... 99%|██████████████████████|  ETA: 0:00:01\u001b[39m"
     ]
    },
    {
     "name": "stdout",
     "output_type": "stream",
     "text": [
      "difference of ALM coefficient is 5.0193278477994596e-8 and B = [0.215271, 0.943053, 0.237725, 0.934561]\n",
      " --- Iteration over ALM coefficient: 69 ---\n"
     ]
    },
    {
     "name": "stderr",
     "output_type": "stream",
     "text": [
      "\u001b[32msimulating aggregate path ...100%|██████████████████████| Time: 0:00:47\u001b[39m\n",
      "\u001b[32mSolving individual UMP by Euler method:  Time: 0:00:00 (13 iterations)\u001b[39m08)\u001b[39m\n",
      "\u001b[32msimulating aggregate path ... 99%|██████████████████████|  ETA: 0:00:00\u001b[39m"
     ]
    },
    {
     "name": "stdout",
     "output_type": "stream",
     "text": [
      "difference of ALM coefficient is 4.117671534298317e-8 and B = [0.215271, 0.943053, 0.237725, 0.934561]\n",
      " --- Iteration over ALM coefficient: 70 ---\n"
     ]
    },
    {
     "name": "stderr",
     "output_type": "stream",
     "text": [
      "\u001b[32msimulating aggregate path ...100%|██████████████████████| Time: 0:00:47\u001b[39m\n",
      "\u001b[32mSolving individual UMP by Euler method:  Time: 0:00:00 (12 iterations)\u001b[39m08)\u001b[39m\n",
      "\u001b[32msimulating aggregate path ...100%|██████████████████████|  ETA: 0:00:00\u001b[39m"
     ]
    },
    {
     "name": "stdout",
     "output_type": "stream",
     "text": [
      "difference of ALM coefficient is 3.413779550709428e-8 and B = [0.215271, 0.943053, 0.237725, 0.934561]\n",
      " --- Iteration over ALM coefficient: 71 ---\n"
     ]
    },
    {
     "name": "stderr",
     "output_type": "stream",
     "text": [
      "\u001b[32msimulating aggregate path ...100%|██████████████████████| Time: 0:00:47\u001b[39m\n",
      "\u001b[32mSolving individual UMP by Euler method:  Time: 0:00:00 (10 iterations)\u001b[39m08)\u001b[39m\n",
      "\u001b[32msimulating aggregate path ...100%|██████████████████████| Time: 0:00:47\u001b[39m\n"
     ]
    },
    {
     "name": "stdout",
     "output_type": "stream",
     "text": [
      "difference of ALM coefficient is 2.8150770658985635e-8 and B = [0.215271, 0.943053, 0.237725, 0.934561]\n",
      " --- Iteration over ALM coefficient: 72 ---\n"
     ]
    },
    {
     "name": "stderr",
     "output_type": "stream",
     "text": [
      "\u001b[32mSolving individual UMP by Euler method:  Time: 0:00:00 (9 iterations)\u001b[39m-08)\u001b[39m\n",
      "\u001b[32msimulating aggregate path ...100%|██████████████████████|  ETA: 0:00:00\u001b[39m"
     ]
    },
    {
     "name": "stdout",
     "output_type": "stream",
     "text": [
      "difference of ALM coefficient is 2.343277544225586e-8 and B = [0.215271, 0.943053, 0.237725, 0.934561]\n",
      " --- Iteration over ALM coefficient: 73 ---\n"
     ]
    },
    {
     "name": "stderr",
     "output_type": "stream",
     "text": [
      "\u001b[32msimulating aggregate path ...100%|██████████████████████| Time: 0:00:47\u001b[39m\n",
      "\u001b[32mSolving individual UMP by Euler method:  Time: 0:00:00 (8 iterations)\u001b[39m-08)\u001b[39m\n",
      "\u001b[32msimulating aggregate path ... 99%|██████████████████████|  ETA: 0:00:00\u001b[39m"
     ]
    },
    {
     "name": "stdout",
     "output_type": "stream",
     "text": [
      "difference of ALM coefficient is 1.9557704206141224e-8 and B = [0.215271, 0.943053, 0.237725, 0.934561]\n",
      " --- Iteration over ALM coefficient: 74 ---\n"
     ]
    },
    {
     "name": "stderr",
     "output_type": "stream",
     "text": [
      "\u001b[32msimulating aggregate path ...100%|██████████████████████| Time: 0:00:49\u001b[39m\n",
      "\u001b[32mSolving individual UMP by Euler method:  Time: 0:00:00 (7 iterations)\u001b[39m-08)\u001b[39m\n",
      "\u001b[32msimulating aggregate path ... 99%|██████████████████████|  ETA: 0:00:00\u001b[39m"
     ]
    },
    {
     "name": "stdout",
     "output_type": "stream",
     "text": [
      "difference of ALM coefficient is 1.6267515168255642e-8 and B = [0.215271, 0.943053, 0.237725, 0.934561]\n",
      " --- Iteration over ALM coefficient: 75 ---\n"
     ]
    },
    {
     "name": "stderr",
     "output_type": "stream",
     "text": [
      "\u001b[32msimulating aggregate path ...100%|██████████████████████| Time: 0:00:52\u001b[39m\n",
      "\u001b[32mSolving individual UMP by Euler method:  Time: 0:00:00 (6 iterations)\u001b[39m-08)\u001b[39m\n",
      "\u001b[32msimulating aggregate path ... 99%|██████████████████████|  ETA: 0:00:01\u001b[39m"
     ]
    },
    {
     "name": "stdout",
     "output_type": "stream",
     "text": [
      "difference of ALM coefficient is 1.3595495645946087e-8 and B = [0.215271, 0.943053, 0.237725, 0.934561]\n",
      " --- Iteration over ALM coefficient: 76 ---\n"
     ]
    },
    {
     "name": "stderr",
     "output_type": "stream",
     "text": [
      "\u001b[32msimulating aggregate path ...100%|██████████████████████| Time: 0:00:49\u001b[39m\n",
      "\u001b[32msimulating aggregate path ... 99%|██████████████████████|  ETA: 0:00:00\u001b[39m"
     ]
    },
    {
     "name": "stdout",
     "output_type": "stream",
     "text": [
      "difference of ALM coefficient is 1.1200876531836101e-8 and B = [0.215271, 0.943053, 0.237725, 0.934561]\n",
      " --- Iteration over ALM coefficient: 77 ---\n"
     ]
    },
    {
     "name": "stderr",
     "output_type": "stream",
     "text": [
      "\u001b[32msimulating aggregate path ...100%|██████████████████████| Time: 0:00:47\u001b[39m\n",
      "\u001b[32msimulating aggregate path ... 99%|██████████████████████|  ETA: 0:00:01\u001b[39m"
     ]
    },
    {
     "name": "stdout",
     "output_type": "stream",
     "text": [
      "difference of ALM coefficient is 9.58133941630912e-9 and B = [0.215271, 0.943053, 0.237725, 0.934561]\n",
      "-----------------------------------------------------\n",
      "ALM coefficient successfully converged : dif = 9.58133941630912e-9\n",
      "-----------------------------------------------------\n",
      "5339.440033 seconds (32.53 G allocations: 4.137 TiB, 13.16% gc time)\n"
     ]
    },
    {
     "name": "stderr",
     "output_type": "stream",
     "text": [
      "\r",
      "\u001b[32msimulating aggregate path ...100%|██████████████████████|  ETA: 0:00:00\u001b[39m\r",
      "\u001b[32msimulating aggregate path ...100%|██████████████████████| Time: 0:00:47\u001b[39m\n"
     ]
    }
   ],
   "source": [
    "# find ALM coefficient\n",
    "sm = Stochastic(epsi_shocks)\n",
    "T_discard = 100\n",
    "@time K_ts = find_ALM_coef!(EulerMethod(),\n",
    "            sm, ksp, kss, zi_shocks, \n",
    "            tol_ump = 1e-8, max_iter_ump = 10000,\n",
    "            tol_B = 1e-8, max_iter_B = 500, update_B = 0.3,\n",
    "            T_discard = T_discard);"
   ]
  },
  {
   "cell_type": "markdown",
   "metadata": {},
   "source": [
    "Let's compare the true aggreate law of motion for capital and approximated one with figure and regression"
   ]
  },
  {
   "cell_type": "code",
   "execution_count": 5,
   "metadata": {},
   "outputs": [
    {
     "data": {
      "image/png": "[encoded data removed]"
     },
     "execution_count": 5,
     "metadata": {},
     "output_type": "execute_result"
    }
   ],
   "source": [
    "plot_ALM(ksp.z_grid, zi_shocks, kss.B,K_ts, T_discard = T_discard)"
   ]
  },
  {
   "cell_type": "code",
   "execution_count": 6,
   "metadata": {},
   "outputs": [
    {
     "name": "stdout",
     "output_type": "stream",
     "text": [
      "Approximated aggregate capital law of motion\n",
      "log(K_{t+1})=0.2152708351122895+0.9430528182384078log(K_{t}) in good time (R2 = 0.9999151237266661)\n",
      "log(K_{t+1})=0.23772541215883886+0.9345606235869293log(K_{t}) in bad time (R2 = 0.999832712029906)\n"
     ]
    }
   ],
   "source": [
    "#kss.B  # Regression coefficient\n",
    "println(\"Approximated aggregate capital law of motion\")\n",
    "println(\"log(K_{t+1})=$(kss.B[1])+$(kss.B[2])log(K_{t}) in good time (R2 = $(kss.R2[1]))\")\n",
    "println(\"log(K_{t+1})=$(kss.B[3])+$(kss.B[4])log(K_{t}) in bad time (R2 = $(kss.R2[2]))\")"
   ]
  },
  {
   "cell_type": "markdown",
   "metadata": {},
   "source": [
    "The approximated law of motion of capital is very close to the true one, which implies that assuming agents are partially rational is not bad idea since the difference of their actions are negligible.\n",
    "\n",
    "The mean of capital, about 40, is  sufficiently close to Maliar et al. (2010)."
   ]
  },
  {
   "cell_type": "code",
   "execution_count": 7,
   "metadata": {},
   "outputs": [],
   "source": [
    "@save \"result_Euler.jld2\" ksp kss "
   ]
  },
  {
   "cell_type": "code",
   "execution_count": 8,
   "metadata": {},
   "outputs": [
    {
     "name": "stdout",
     "output_type": "stream",
     "text": [
      "mean of capital implied by regression is 40.70988915828525\n",
      "mean of capital implied by simulation is 40.735349390944755\n"
     ]
    }
   ],
   "source": [
    "# Compute mean of capital implied by regression\n",
    "mc=MarkovChain(ksp.transmat.Pz)\n",
    "sd=stationary_distributions(mc)[1]\n",
    "logKg=kss.B[1]/(1-kss.B[2])\n",
    "logKb=kss.B[3]/(1-kss.B[4])\n",
    "meanK_reg=exp(sd[1]*logKg+sd[2]*logKb)\n",
    "meanK_sim=mean(K_ts[T_discard+1:end])\n",
    "println(\"mean of capital implied by regression is $meanK_reg\")\n",
    "println(\"mean of capital implied by simulation is $meanK_sim\")"
   ]
  },
  {
   "cell_type": "markdown",
   "metadata": {},
   "source": [
    "## Figures in Krusell-Smith"
   ]
  },
  {
   "cell_type": "markdown",
   "metadata": {},
   "source": [
    "Now, plot the replication figure:"
   ]
  },
  {
   "cell_type": "markdown",
   "metadata": {},
   "source": [
    "### Figure 1"
   ]
  },
  {
   "cell_type": "code",
   "execution_count": 9,
   "metadata": {},
   "outputs": [
    {
     "data": {
      "image/png": "[encoded data removed]"
     },
     "execution_count": 9,
     "metadata": {},
     "output_type": "execute_result"
    }
   ],
   "source": [
    "plot_Fig1(ksp ,kss, K_ts)"
   ]
  },
  {
   "cell_type": "markdown",
   "metadata": {},
   "source": [
    "### Figure 2"
   ]
  },
  {
   "cell_type": "code",
   "execution_count": 10,
   "metadata": {},
   "outputs": [
    {
     "data": {
      "image/png": "[encoded data removed]"
     },
     "execution_count": 10,
     "metadata": {},
     "output_type": "execute_result"
    }
   ],
   "source": [
    "plot_Fig2(ksp, kss, 40)"
   ]
  },
  {
   "cell_type": "markdown",
   "metadata": {},
   "source": [
    "Both figures are replicated well. "
   ]
  },
  {
   "cell_type": "markdown",
   "metadata": {},
   "source": [
    "# Solution with Young (2008)'s method\n",
    "In this section, aggregate capital is simulated by the method of Young (2008)."
   ]
  },
  {
   "cell_type": "code",
   "execution_count": 11,
   "metadata": {},
   "outputs": [
    {
     "name": "stdout",
     "output_type": "stream",
     "text": [
      " --- Iteration over ALM coefficient: 1 ---\n"
     ]
    },
    {
     "name": "stderr",
     "output_type": "stream",
     "text": [
      "\u001b[32mSolving individual UMP by Euler method:  Time: 0:00:42 (1868 iterations)\u001b[39m)\u001b[39m\n",
      "\u001b[32msimulating aggregate path ... 90%|████████████████████  |  ETA: 0:00:00\u001b[39m"
     ]
    },
    {
     "name": "stdout",
     "output_type": "stream",
     "text": [
      "difference of ALM coefficient is 0.4561348316213136 and B = [0.456135, 0.877212, 0.436797, 0.880838]\n",
      " --- Iteration over ALM coefficient: 2 ---\n"
     ]
    },
    {
     "name": "stderr",
     "output_type": "stream",
     "text": [
      "\u001b[32msimulating aggregate path ...100%|██████████████████████| Time: 0:00:02\u001b[39m\n",
      "\u001b[32mSolving individual UMP by Euler method:  Time: 0:00:44 (2006 iterations)\u001b[39m)\u001b[39m\n",
      "\u001b[32msimulating aggregate path ... 74%|████████████████      |  ETA: 0:00:01\u001b[39m"
     ]
    },
    {
     "name": "stdout",
     "output_type": "stream",
     "text": [
      "difference of ALM coefficient is 0.008617043773197455 and B = [0.142877, 0.962002, 0.122422, 0.966001]\n",
      " --- Iteration over ALM coefficient: 3 ---\n"
     ]
    },
    {
     "name": "stderr",
     "output_type": "stream",
     "text": [
      "\u001b[32msimulating aggregate path ...100%|██████████████████████| Time: 0:00:02\u001b[39m\n",
      "\u001b[32mSolving individual UMP by Euler method:  Time: 0:00:30 (1375 iterations)\u001b[39m)\u001b[39m\n",
      "\u001b[32msimulating aggregate path ... 75%|█████████████████     |  ETA: 0:00:01\u001b[39m"
     ]
    },
    {
     "name": "stdout",
     "output_type": "stream",
     "text": [
      "difference of ALM coefficient is 0.007375020667367477 and B = [0.146027, 0.961212, 0.128755, 0.964392]\n",
      " --- Iteration over ALM coefficient: 4 ---\n"
     ]
    },
    {
     "name": "stderr",
     "output_type": "stream",
     "text": [
      "\u001b[32msimulating aggregate path ...100%|██████████████████████| Time: 0:00:02\u001b[39m\n",
      "\u001b[32mSolving individual UMP by Euler method:  Time: 0:00:32 (1464 iterations)\u001b[39m)\u001b[39m\n",
      "\u001b[32msimulating aggregate path ... 76%|█████████████████     |  ETA: 0:00:01\u001b[39m"
     ]
    },
    {
     "name": "stdout",
     "output_type": "stream",
     "text": [
      "difference of ALM coefficient is 0.005267484488800378 and B = [0.146131, 0.961154, 0.129092, 0.9643]\n",
      " --- Iteration over ALM coefficient: 5 ---\n"
     ]
    },
    {
     "name": "stderr",
     "output_type": "stream",
     "text": [
      "\u001b[32msimulating aggregate path ...100%|██████████████████████| Time: 0:00:02\u001b[39m\n",
      "\u001b[32mSolving individual UMP by Euler method:  Time: 0:00:29 (1345 iterations)\u001b[39m)\u001b[39m\n",
      "\u001b[32msimulating aggregate path ... 75%|████████████████      |  ETA: 0:00:01\u001b[39m"
     ]
    },
    {
     "name": "stdout",
     "output_type": "stream",
     "text": [
      "difference of ALM coefficient is 0.0040070314216140435 and B = [0.146451, 0.961065, 0.130024, 0.964064]\n",
      " --- Iteration over ALM coefficient: 6 ---\n"
     ]
    },
    {
     "name": "stderr",
     "output_type": "stream",
     "text": [
      "\u001b[32msimulating aggregate path ...100%|██████████████████████| Time: 0:00:02\u001b[39m\n",
      "\u001b[32mSolving individual UMP by Euler method:  Time: 0:00:29 (1329 iterations)\u001b[39m)\u001b[39m\n",
      "\u001b[32msimulating aggregate path ... 73%|████████████████      |  ETA: 0:00:01\u001b[39m"
     ]
    },
    {
     "name": "stdout",
     "output_type": "stream",
     "text": [
      "difference of ALM coefficient is 0.002959894299560145 and B = [0.146606, 0.961018, 0.130712, 0.963886]\n",
      " --- Iteration over ALM coefficient: 7 ---\n"
     ]
    },
    {
     "name": "stderr",
     "output_type": "stream",
     "text": [
      "\u001b[32msimulating aggregate path ...100%|██████████████████████| Time: 0:00:02\u001b[39m\n",
      "\u001b[32mSolving individual UMP by Euler method:  Time: 0:00:27 (1278 iterations)\u001b[39m)\u001b[39m\n",
      "\u001b[32msimulating aggregate path ... 76%|█████████████████     |  ETA: 0:00:00\u001b[39m"
     ]
    },
    {
     "name": "stdout",
     "output_type": "stream",
     "text": [
      "difference of ALM coefficient is 0.002149672093765459 and B = [0.146684, 0.960994, 0.131256, 0.963744]\n",
      " --- Iteration over ALM coefficient: 8 ---\n"
     ]
    },
    {
     "name": "stderr",
     "output_type": "stream",
     "text": [
      "\u001b[32msimulating aggregate path ...100%|██████████████████████| Time: 0:00:02\u001b[39m\n",
      "\u001b[32mSolving individual UMP by Euler method:  Time: 0:00:26 (1228 iterations)\u001b[39m)\u001b[39m\n",
      "\u001b[32msimulating aggregate path ... 75%|█████████████████     |  ETA: 0:00:01\u001b[39m"
     ]
    },
    {
     "name": "stdout",
     "output_type": "stream",
     "text": [
      "difference of ALM coefficient is 0.001557972215212089 and B = [0.146711, 0.960985, 0.131645, 0.963643]\n",
      " --- Iteration over ALM coefficient: 9 ---\n"
     ]
    },
    {
     "name": "stderr",
     "output_type": "stream",
     "text": [
      "\u001b[32msimulating aggregate path ...100%|██████████████████████| Time: 0:00:02\u001b[39m\n",
      "\u001b[32mSolving individual UMP by Euler method:  Time: 0:00:25 (1176 iterations)\u001b[39m)\u001b[39m\n",
      "\u001b[32msimulating aggregate path ... 75%|████████████████      |  ETA: 0:00:01\u001b[39m"
     ]
    },
    {
     "name": "stdout",
     "output_type": "stream",
     "text": [
      "difference of ALM coefficient is 0.0013627235518748892 and B = [0.146715, 0.960982, 0.131917, 0.963572]\n",
      " --- Iteration over ALM coefficient: 10 ---\n"
     ]
    },
    {
     "name": "stderr",
     "output_type": "stream",
     "text": [
      "\u001b[32msimulating aggregate path ...100%|██████████████████████| Time: 0:00:02\u001b[39m\n",
      "\u001b[32mSolving individual UMP by Euler method:  Time: 0:00:24 (1124 iterations)\u001b[39m)\u001b[39m\n",
      "\u001b[32msimulating aggregate path ... 74%|████████████████      |  ETA: 0:00:01\u001b[39m"
     ]
    },
    {
     "name": "stdout",
     "output_type": "stream",
     "text": [
      "difference of ALM coefficient is 0.0011429971537960382 and B = [0.146711, 0.960983, 0.132106, 0.963522]\n",
      " --- Iteration over ALM coefficient: 11 ---\n"
     ]
    },
    {
     "name": "stderr",
     "output_type": "stream",
     "text": [
      "\u001b[32msimulating aggregate path ...100%|██████████████████████| Time: 0:00:02\u001b[39m\n",
      "\u001b[32mSolving individual UMP by Euler method:  Time: 0:00:23 (1075 iterations)\u001b[39m)\u001b[39m\n",
      "\u001b[32msimulating aggregate path ... 75%|████████████████      |  ETA: 0:00:01\u001b[39m"
     ]
    },
    {
     "name": "stdout",
     "output_type": "stream",
     "text": [
      "difference of ALM coefficient is 0.000933283892693676 and B = [0.146706, 0.960983, 0.132239, 0.963487]\n",
      " --- Iteration over ALM coefficient: 12 ---\n"
     ]
    },
    {
     "name": "stderr",
     "output_type": "stream",
     "text": [
      "\u001b[32msimulating aggregate path ...100%|██████████████████████| Time: 0:00:02\u001b[39m\n",
      "\u001b[32mSolving individual UMP by Euler method:  Time: 0:00:22 (1028 iterations)\u001b[39m)\u001b[39m\n",
      "\u001b[32msimulating aggregate path ... 76%|█████████████████     |  ETA: 0:00:00\u001b[39m"
     ]
    },
    {
     "name": "stdout",
     "output_type": "stream",
     "text": [
      "difference of ALM coefficient is 0.0007498547904362107 and B = [0.146704, 0.960984, 0.132336, 0.963462]\n",
      " --- Iteration over ALM coefficient: 13 ---\n"
     ]
    },
    {
     "name": "stderr",
     "output_type": "stream",
     "text": [
      "\u001b[32msimulating aggregate path ...100%|██████████████████████| Time: 0:00:02\u001b[39m\n",
      "\u001b[32mSolving individual UMP by Euler method:  Time: 0:00:22 (985 iterations)\u001b[39m8)\u001b[39m\n",
      "\u001b[32msimulating aggregate path ... 93%|█████████████████████ |  ETA: 0:00:00\u001b[39m"
     ]
    },
    {
     "name": "stdout",
     "output_type": "stream",
     "text": [
      "difference of ALM coefficient is 0.0005976751652848611 and B = [0.146705, 0.960983, 0.132409, 0.963443]\n",
      " --- Iteration over ALM coefficient: 14 ---\n"
     ]
    },
    {
     "name": "stderr",
     "output_type": "stream",
     "text": [
      "\u001b[32msimulating aggregate path ...100%|██████████████████████| Time: 0:00:02\u001b[39m\n",
      "\u001b[32mSolving individual UMP by Euler method:  Time: 0:00:21 (947 iterations)\u001b[39m8)\u001b[39m\n",
      "\u001b[32msimulating aggregate path ... 75%|█████████████████     |  ETA: 0:00:01\u001b[39m"
     ]
    },
    {
     "name": "stdout",
     "output_type": "stream",
     "text": [
      "difference of ALM coefficient is 0.0004756173132779984 and B = [0.146711, 0.960982, 0.132466, 0.963428]\n",
      " --- Iteration over ALM coefficient: 15 ---\n"
     ]
    },
    {
     "name": "stderr",
     "output_type": "stream",
     "text": [
      "\u001b[32msimulating aggregate path ...100%|██████████████████████| Time: 0:00:02\u001b[39m\n",
      "\u001b[32mSolving individual UMP by Euler method:  Time: 0:00:20 (912 iterations)\u001b[39m8)\u001b[39m\n",
      "\u001b[32msimulating aggregate path ... 75%|█████████████████     |  ETA: 0:00:01\u001b[39m"
     ]
    },
    {
     "name": "stdout",
     "output_type": "stream",
     "text": [
      "difference of ALM coefficient is 0.00037978251670364727 and B = [0.146718, 0.96098, 0.132513, 0.963416]\n",
      " --- Iteration over ALM coefficient: 16 ---"
     ]
    },
    {
     "name": "stderr",
     "output_type": "stream",
     "text": [
      "\r",
      "\u001b[32msimulating aggregate path ...100%|██████████████████████| Time: 0:00:02\u001b[39m\n"
     ]
    },
    {
     "name": "stdout",
     "output_type": "stream",
     "text": [
      "\n"
     ]
    },
    {
     "name": "stderr",
     "output_type": "stream",
     "text": [
      "\u001b[32mSolving individual UMP by Euler method:  Time: 0:00:19 (880 iterations)\u001b[39m8)\u001b[39m\n",
      "\u001b[32msimulating aggregate path ... 74%|████████████████      |  ETA: 0:00:01\u001b[39m"
     ]
    },
    {
     "name": "stdout",
     "output_type": "stream",
     "text": [
      "difference of ALM coefficient is 0.0003054532672387422 and B = [0.146728, 0.960977, 0.132552, 0.963406]\n",
      " --- Iteration over ALM coefficient: 17 ---\n"
     ]
    },
    {
     "name": "stderr",
     "output_type": "stream",
     "text": [
      "\u001b[32msimulating aggregate path ...100%|██████████████████████| Time: 0:00:02\u001b[39m\n",
      "\u001b[32mSolving individual UMP by Euler method:  Time: 0:00:18 (852 iterations)\u001b[39m8)\u001b[39m\n",
      "\u001b[32msimulating aggregate path ... 73%|████████████████      |  ETA: 0:00:01\u001b[39m"
     ]
    },
    {
     "name": "stdout",
     "output_type": "stream",
     "text": [
      "difference of ALM coefficient is 0.00024810888217277616 and B = [0.146738, 0.960974, 0.132587, 0.963397]\n",
      " --- Iteration over ALM coefficient: 18 ---\n"
     ]
    },
    {
     "name": "stderr",
     "output_type": "stream",
     "text": [
      "\u001b[32msimulating aggregate path ...100%|██████████████████████| Time: 0:00:02\u001b[39m\n",
      "\u001b[32mSolving individual UMP by Euler method:  Time: 0:00:18 (827 iterations)\u001b[39m8)\u001b[39m\n",
      "\u001b[32msimulating aggregate path ... 72%|████████████████      |  ETA: 0:00:01\u001b[39m"
     ]
    },
    {
     "name": "stdout",
     "output_type": "stream",
     "text": [
      "difference of ALM coefficient is 0.000203855571243583 and B = [0.146748, 0.960972, 0.132617, 0.963389]\n",
      " --- Iteration over ALM coefficient: 19 ---\n"
     ]
    },
    {
     "name": "stderr",
     "output_type": "stream",
     "text": [
      "\u001b[32msimulating aggregate path ...100%|██████████████████████| Time: 0:00:02\u001b[39m\n",
      "\u001b[32mSolving individual UMP by Euler method:  Time: 0:00:17 (804 iterations)\u001b[39m8)\u001b[39m\n",
      "\u001b[32msimulating aggregate path ... 76%|█████████████████     |  ETA: 0:00:00\u001b[39m"
     ]
    },
    {
     "name": "stdout",
     "output_type": "stream",
     "text": [
      "difference of ALM coefficient is 0.00016953933124272402 and B = [0.146759, 0.960969, 0.132644, 0.963382]\n",
      " --- Iteration over ALM coefficient: 20 ---\n"
     ]
    },
    {
     "name": "stderr",
     "output_type": "stream",
     "text": [
      "\u001b[32msimulating aggregate path ...100%|██████████████████████| Time: 0:00:02\u001b[39m\n",
      "\u001b[32mSolving individual UMP by Euler method:  Time: 0:00:17 (782 iterations)\u001b[39m8)\u001b[39m\n",
      "\u001b[32msimulating aggregate path ... 74%|████████████████      |  ETA: 0:00:01\u001b[39m"
     ]
    },
    {
     "name": "stdout",
     "output_type": "stream",
     "text": [
      "difference of ALM coefficient is 0.00014270299955676524 and B = [0.146768, 0.960966, 0.132668, 0.963375]\n",
      " --- Iteration over ALM coefficient: 21 ---\n"
     ]
    },
    {
     "name": "stderr",
     "output_type": "stream",
     "text": [
      "\u001b[32msimulating aggregate path ...100%|██████████████████████| Time: 0:00:02\u001b[39m\n",
      "\u001b[32mSolving individual UMP by Euler method:  Time: 0:00:16 (762 iterations)\u001b[39m8)\u001b[39m\n",
      "\u001b[32msimulating aggregate path ... 75%|████████████████      |  ETA: 0:00:01\u001b[39m"
     ]
    },
    {
     "name": "stdout",
     "output_type": "stream",
     "text": [
      "difference of ALM coefficient is 0.00012147997353278983 and B = [0.146778, 0.960964, 0.132689, 0.96337]\n",
      " --- Iteration over ALM coefficient: 22 ---\n"
     ]
    },
    {
     "name": "stderr",
     "output_type": "stream",
     "text": [
      "\u001b[32msimulating aggregate path ...100%|██████████████████████| Time: 0:00:02\u001b[39m\n",
      "\u001b[32mSolving individual UMP by Euler method:  Time: 0:00:16 (744 iterations)\u001b[39m8)\u001b[39m\n",
      "\u001b[32msimulating aggregate path ... 74%|████████████████      |  ETA: 0:00:01\u001b[39m"
     ]
    },
    {
     "name": "stdout",
     "output_type": "stream",
     "text": [
      "difference of ALM coefficient is 0.00010447742525301895 and B = [0.146786, 0.960962, 0.132709, 0.963365]\n",
      " --- Iteration over ALM coefficient: 23 ---\n"
     ]
    },
    {
     "name": "stderr",
     "output_type": "stream",
     "text": [
      "\u001b[32msimulating aggregate path ...100%|██████████████████████| Time: 0:00:02\u001b[39m\n",
      "\u001b[32mSolving individual UMP by Euler method:  Time: 0:00:16 (725 iterations)\u001b[39m8)\u001b[39m\n",
      "\u001b[32msimulating aggregate path ... 75%|████████████████      |  ETA: 0:00:01\u001b[39m"
     ]
    },
    {
     "name": "stdout",
     "output_type": "stream",
     "text": [
      "difference of ALM coefficient is 9.066849963249024e-5 and B = [0.146794, 0.96096, 0.132726, 0.96336]\n",
      " --- Iteration over ALM coefficient: 24 ---\n"
     ]
    },
    {
     "name": "stderr",
     "output_type": "stream",
     "text": [
      "\u001b[32msimulating aggregate path ...100%|██████████████████████| Time: 0:00:02\u001b[39m\n",
      "\u001b[32mSolving individual UMP by Euler method:  Time: 0:00:15 (708 iterations)\u001b[39m8)\u001b[39m\n",
      "\u001b[32msimulating aggregate path ... 75%|████████████████      |  ETA: 0:00:01\u001b[39m"
     ]
    },
    {
     "name": "stdout",
     "output_type": "stream",
     "text": [
      "difference of ALM coefficient is 7.929176853394004e-5 and B = [0.146802, 0.960958, 0.132742, 0.963356]\n",
      " --- Iteration over ALM coefficient: 25 ---\n"
     ]
    },
    {
     "name": "stderr",
     "output_type": "stream",
     "text": [
      "\u001b[32msimulating aggregate path ...100%|██████████████████████| Time: 0:00:02\u001b[39m\n",
      "\u001b[32mSolving individual UMP by Euler method:  Time: 0:00:15 (691 iterations)\u001b[39m8)\u001b[39m\n",
      "\u001b[32msimulating aggregate path ... 87%|███████████████████   |  ETA: 0:00:00\u001b[39m"
     ]
    },
    {
     "name": "stdout",
     "output_type": "stream",
     "text": [
      "difference of ALM coefficient is 6.97903851978876e-5 and B = [0.146809, 0.960956, 0.132756, 0.963352]\n",
      " --- Iteration over ALM coefficient: 26 ---\n"
     ]
    },
    {
     "name": "stderr",
     "output_type": "stream",
     "text": [
      "\u001b[32msimulating aggregate path ...100%|██████████████████████| Time: 0:00:02\u001b[39m\n",
      "\u001b[32mSolving individual UMP by Euler method:  Time: 0:00:16 (674 iterations)\u001b[39m8)\u001b[39m\n",
      "\u001b[32msimulating aggregate path ... 73%|████████████████      |  ETA: 0:00:01\u001b[39m"
     ]
    },
    {
     "name": "stdout",
     "output_type": "stream",
     "text": [
      "difference of ALM coefficient is 6.175582296052973e-5 and B = [0.146815, 0.960954, 0.132769, 0.963349]\n",
      " --- Iteration over ALM coefficient: 27 ---\n"
     ]
    },
    {
     "name": "stderr",
     "output_type": "stream",
     "text": [
      "\u001b[32msimulating aggregate path ...100%|██████████████████████| Time: 0:00:02\u001b[39m\n",
      "\u001b[32mSolving individual UMP by Euler method:  Time: 0:00:14 (658 iterations)\u001b[39m8)\u001b[39m\n",
      "\u001b[32msimulating aggregate path ... 73%|████████████████      |  ETA: 0:00:01\u001b[39m"
     ]
    },
    {
     "name": "stdout",
     "output_type": "stream",
     "text": [
      "difference of ALM coefficient is 5.488468390446588e-5 and B = [0.14682, 0.960953, 0.132781, 0.963346]\n",
      " --- Iteration over ALM coefficient: 28 ---\n"
     ]
    },
    {
     "name": "stderr",
     "output_type": "stream",
     "text": [
      "\u001b[32msimulating aggregate path ...100%|██████████████████████| Time: 0:00:02\u001b[39m\n",
      "\u001b[32mSolving individual UMP by Euler method:  Time: 0:00:14 (642 iterations)\u001b[39m)\u001b[39mm\n",
      "\u001b[32msimulating aggregate path ... 73%|████████████████      |  ETA: 0:00:01\u001b[39m"
     ]
    },
    {
     "name": "stdout",
     "output_type": "stream",
     "text": [
      "difference of ALM coefficient is 4.89512334236053e-5 and B = [0.146825, 0.960952, 0.132792, 0.963343]\n",
      " --- Iteration over ALM coefficient: 29 ---\n"
     ]
    },
    {
     "name": "stderr",
     "output_type": "stream",
     "text": [
      "\u001b[32msimulating aggregate path ...100%|██████████████████████| Time: 0:00:02\u001b[39m\n",
      "\u001b[32mSolving individual UMP by Euler method:  Time: 0:00:14 (626 iterations)\u001b[39m8)\u001b[39m\n",
      "\u001b[32msimulating aggregate path ... 94%|█████████████████████ |  ETA: 0:00:00\u001b[39m"
     ]
    },
    {
     "name": "stdout",
     "output_type": "stream",
     "text": [
      "difference of ALM coefficient is 4.37845498754974e-5 and B = [0.14683, 0.960951, 0.132801, 0.96334]\n",
      " --- Iteration over ALM coefficient: 30 ---\n"
     ]
    },
    {
     "name": "stderr",
     "output_type": "stream",
     "text": [
      "\u001b[32msimulating aggregate path ...100%|██████████████████████| Time: 0:00:02\u001b[39m\n",
      "\u001b[32mSolving individual UMP by Euler method:  Time: 0:00:15 (610 iterations)\u001b[39m8)\u001b[39m\n",
      "\u001b[32msimulating aggregate path ... 75%|█████████████████     |  ETA: 0:00:00\u001b[39m"
     ]
    },
    {
     "name": "stdout",
     "output_type": "stream",
     "text": [
      "difference of ALM coefficient is 3.92541615132358e-5 and B = [0.146834, 0.960949, 0.13281, 0.963338]\n",
      " --- Iteration over ALM coefficient: 31 ---\n"
     ]
    },
    {
     "name": "stderr",
     "output_type": "stream",
     "text": [
      "\u001b[32msimulating aggregate path ...100%|██████████████████████| Time: 0:00:02\u001b[39m\n",
      "\u001b[32mSolving individual UMP by Euler method:  Time: 0:00:14 (595 iterations)\u001b[39m8)\u001b[39m\n",
      "\u001b[32msimulating aggregate path ... 75%|████████████████      |  ETA: 0:00:01\u001b[39m"
     ]
    },
    {
     "name": "stdout",
     "output_type": "stream",
     "text": [
      "difference of ALM coefficient is 3.5258409811500524e-5 and B = [0.146838, 0.960948, 0.132817, 0.963336]\n",
      " --- Iteration over ALM coefficient: 32 ---\n"
     ]
    },
    {
     "name": "stderr",
     "output_type": "stream",
     "text": [
      "\u001b[32msimulating aggregate path ...100%|██████████████████████| Time: 0:00:02\u001b[39m\n",
      "\u001b[32mSolving individual UMP by Euler method:  Time: 0:00:13 (579 iterations)\u001b[39m8)\u001b[39m\n",
      "\u001b[32msimulating aggregate path ... 75%|████████████████      |  ETA: 0:00:01\u001b[39m"
     ]
    },
    {
     "name": "stdout",
     "output_type": "stream",
     "text": [
      "difference of ALM coefficient is 3.1717546197990165e-5 and B = [0.146841, 0.960948, 0.132824, 0.963334]\n",
      " --- Iteration over ALM coefficient: 33 ---\n"
     ]
    },
    {
     "name": "stderr",
     "output_type": "stream",
     "text": [
      "\u001b[32msimulating aggregate path ...100%|██████████████████████| Time: 0:00:02\u001b[39m\n",
      "\u001b[32mSolving individual UMP by Euler method:  Time: 0:00:12 (564 iterations)\u001b[39m8)\u001b[39m\n",
      "\u001b[32msimulating aggregate path ... 75%|████████████████      |  ETA: 0:00:01\u001b[39m"
     ]
    },
    {
     "name": "stdout",
     "output_type": "stream",
     "text": [
      "difference of ALM coefficient is 2.8567378619087647e-5 and B = [0.146844, 0.960947, 0.132831, 0.963333]\n",
      " --- Iteration over ALM coefficient: 34 ---\n"
     ]
    },
    {
     "name": "stderr",
     "output_type": "stream",
     "text": [
      "\u001b[32msimulating aggregate path ...100%|██████████████████████| Time: 0:00:02\u001b[39m\n",
      "\u001b[32mSolving individual UMP by Euler method:  Time: 0:00:12 (548 iterations)\u001b[39m8)\u001b[39m\n",
      "\u001b[32msimulating aggregate path ... 74%|████████████████      |  ETA: 0:00:01\u001b[39m"
     ]
    },
    {
     "name": "stdout",
     "output_type": "stream",
     "text": [
      "difference of ALM coefficient is 2.5756294767614873e-5 and B = [0.146847, 0.960946, 0.132837, 0.963331]\n",
      " --- Iteration over ALM coefficient: 35 ---\n"
     ]
    },
    {
     "name": "stderr",
     "output_type": "stream",
     "text": [
      "\u001b[32msimulating aggregate path ...100%|██████████████████████| Time: 0:00:02\u001b[39m\n",
      "\u001b[32mSolving individual UMP by Euler method:  Time: 0:00:12 (533 iterations)\u001b[39m8)\u001b[39m\n",
      "\u001b[32msimulating aggregate path ... 74%|████████████████      |  ETA: 0:00:01\u001b[39m"
     ]
    },
    {
     "name": "stdout",
     "output_type": "stream",
     "text": [
      "difference of ALM coefficient is 2.3240819451986194e-5 and B = [0.14685, 0.960945, 0.132842, 0.96333]\n",
      " --- Iteration over ALM coefficient: 36 ---\n"
     ]
    },
    {
     "name": "stderr",
     "output_type": "stream",
     "text": [
      "\u001b[32msimulating aggregate path ...100%|██████████████████████| Time: 0:00:02\u001b[39m\n",
      "\u001b[32mSolving individual UMP by Euler method:  Time: 0:00:11 (518 iterations)\u001b[39m8)\u001b[39m\n",
      "\u001b[32msimulating aggregate path ... 75%|████████████████      |  ETA: 0:00:01\u001b[39m"
     ]
    },
    {
     "name": "stdout",
     "output_type": "stream",
     "text": [
      "difference of ALM coefficient is 2.0985733613115842e-5 and B = [0.146852, 0.960945, 0.132847, 0.963329]\n",
      " --- Iteration over ALM coefficient: 37 ---\n"
     ]
    },
    {
     "name": "stderr",
     "output_type": "stream",
     "text": [
      "\u001b[32msimulating aggregate path ...100%|██████████████████████| Time: 0:00:02\u001b[39m\n",
      "\u001b[32mSolving individual UMP by Euler method:  Time: 0:00:11 (503 iterations)\u001b[39m)\u001b[39mm\n",
      "\u001b[32msimulating aggregate path ... 75%|████████████████      |  ETA: 0:00:01\u001b[39m"
     ]
    },
    {
     "name": "stdout",
     "output_type": "stream",
     "text": [
      "difference of ALM coefficient is 1.896030110459801e-5 and B = [0.146854, 0.960944, 0.132851, 0.963327]\n",
      " --- Iteration over ALM coefficient: 38 ---\n"
     ]
    },
    {
     "name": "stderr",
     "output_type": "stream",
     "text": [
      "\u001b[32msimulating aggregate path ...100%|██████████████████████| Time: 0:00:02\u001b[39m\n",
      "\u001b[32mSolving individual UMP by Euler method:  Time: 0:00:11 (488 iterations)\u001b[39m8)\u001b[39m\n",
      "\u001b[32msimulating aggregate path ... 74%|████████████████      |  ETA: 0:00:01\u001b[39m"
     ]
    },
    {
     "name": "stdout",
     "output_type": "stream",
     "text": [
      "difference of ALM coefficient is 1.713855817897514e-5 and B = [0.146856, 0.960944, 0.132855, 0.963326]\n",
      " --- Iteration over ALM coefficient: 39 ---\n"
     ]
    },
    {
     "name": "stderr",
     "output_type": "stream",
     "text": [
      "\u001b[32msimulating aggregate path ...100%|██████████████████████| Time: 0:00:02\u001b[39m\n",
      "\u001b[32mSolving individual UMP by Euler method:  Time: 0:00:10 (473 iterations)\u001b[39m8)\u001b[39m\n",
      "\u001b[32msimulating aggregate path ... 76%|█████████████████     |  ETA: 0:00:00\u001b[39m"
     ]
    },
    {
     "name": "stdout",
     "output_type": "stream",
     "text": [
      "difference of ALM coefficient is 1.5498205413494448e-5 and B = [0.146858, 0.960943, 0.132858, 0.963325]\n",
      " --- Iteration over ALM coefficient: 40 ---\n"
     ]
    },
    {
     "name": "stderr",
     "output_type": "stream",
     "text": [
      "\u001b[32msimulating aggregate path ...100%|██████████████████████| Time: 0:00:02\u001b[39m\n",
      "\u001b[32mSolving individual UMP by Euler method:  Time: 0:00:10 (458 iterations)\u001b[39m8)\u001b[39m\n",
      "\u001b[32msimulating aggregate path ... 74%|████████████████      |  ETA: 0:00:01\u001b[39m"
     ]
    },
    {
     "name": "stdout",
     "output_type": "stream",
     "text": [
      "difference of ALM coefficient is 1.4019786232499776e-5 and B = [0.146859, 0.960943, 0.132861, 0.963325]\n",
      " --- Iteration over ALM coefficient: 41 ---\n"
     ]
    },
    {
     "name": "stderr",
     "output_type": "stream",
     "text": [
      "\u001b[32msimulating aggregate path ...100%|██████████████████████| Time: 0:00:02\u001b[39m\n",
      "\u001b[32mSolving individual UMP by Euler method:  Time: 0:00:10 (443 iterations)\u001b[39m8)\u001b[39m\n",
      "\u001b[32msimulating aggregate path ... 75%|█████████████████     |  ETA: 0:00:01\u001b[39m"
     ]
    },
    {
     "name": "stdout",
     "output_type": "stream",
     "text": [
      "difference of ALM coefficient is 1.2686044406962083e-5 and B = [0.146861, 0.960943, 0.132864, 0.963324]\n"
     ]
    },
    {
     "name": "stderr",
     "output_type": "stream",
     "text": [
      "\r",
      "\u001b[32msimulating aggregate path ... 97%|█████████████████████ |  ETA: 0:00:00\u001b[39m\r",
      "\u001b[32msimulating aggregate path ...100%|██████████████████████| Time: 0:00:02\u001b[39m\n"
     ]
    },
    {
     "name": "stdout",
     "output_type": "stream",
     "text": [
      " --- Iteration over ALM coefficient: 42 ---\n"
     ]
    },
    {
     "name": "stderr",
     "output_type": "stream",
     "text": [
      "\u001b[32mSolving individual UMP by Euler method:  Time: 0:00:09 (429 iterations)\u001b[39m8)\u001b[39m\n",
      "\u001b[32msimulating aggregate path ... 73%|████████████████      |  ETA: 0:00:01\u001b[39m"
     ]
    },
    {
     "name": "stdout",
     "output_type": "stream",
     "text": [
      "difference of ALM coefficient is 1.1481971272403468e-5 and B = [0.146862, 0.960942, 0.132867, 0.963323]\n",
      " --- Iteration over ALM coefficient: 43 ---\n"
     ]
    },
    {
     "name": "stderr",
     "output_type": "stream",
     "text": [
      "\u001b[32msimulating aggregate path ...100%|██████████████████████| Time: 0:00:02\u001b[39m\n",
      "\u001b[32mSolving individual UMP by Euler method:  Time: 0:00:09 (414 iterations)\u001b[39m8)\u001b[39m\n",
      "\u001b[32msimulating aggregate path ... 72%|████████████████      |  ETA: 0:00:01\u001b[39m"
     ]
    },
    {
     "name": "stdout",
     "output_type": "stream",
     "text": [
      "difference of ALM coefficient is 1.0394878791397666e-5 and B = [0.146863, 0.960942, 0.132869, 0.963323]\n",
      " --- Iteration over ALM coefficient: 44 ---\n"
     ]
    },
    {
     "name": "stderr",
     "output_type": "stream",
     "text": [
      "\u001b[32msimulating aggregate path ...100%|██████████████████████| Time: 0:00:02\u001b[39m\n",
      "\u001b[32mSolving individual UMP by Euler method:  Time: 0:00:09 (400 iterations)\u001b[39m8)\u001b[39m\n",
      "\u001b[32msimulating aggregate path ... 72%|████████████████      |  ETA: 0:00:01\u001b[39m"
     ]
    },
    {
     "name": "stdout",
     "output_type": "stream",
     "text": [
      "difference of ALM coefficient is 9.412208783921017e-6 and B = [0.146864, 0.960942, 0.132871, 0.963322]\n",
      " --- Iteration over ALM coefficient: 45 ---\n"
     ]
    },
    {
     "name": "stderr",
     "output_type": "stream",
     "text": [
      "\u001b[32msimulating aggregate path ...100%|██████████████████████| Time: 0:00:02\u001b[39m\n",
      "\u001b[32mSolving individual UMP by Euler method:  Time: 0:00:08 (385 iterations)\u001b[39m8)\u001b[39m\n",
      "\u001b[32msimulating aggregate path ... 74%|████████████████      |  ETA: 0:00:01\u001b[39m"
     ]
    },
    {
     "name": "stdout",
     "output_type": "stream",
     "text": [
      "difference of ALM coefficient is 8.523977039931463e-6 and B = [0.146865, 0.960941, 0.132873, 0.963322]\n",
      " --- Iteration over ALM coefficient: 46 ---\n"
     ]
    },
    {
     "name": "stderr",
     "output_type": "stream",
     "text": [
      "\u001b[32msimulating aggregate path ...100%|██████████████████████| Time: 0:00:02\u001b[39m\n",
      "\u001b[32mSolving individual UMP by Euler method:  Time: 0:00:08 (371 iterations)\u001b[39m8)\u001b[39m\n",
      "\u001b[32msimulating aggregate path ... 71%|████████████████      |  ETA: 0:00:01\u001b[39m"
     ]
    },
    {
     "name": "stdout",
     "output_type": "stream",
     "text": [
      "difference of ALM coefficient is 7.72064266219008e-6 and B = [0.146866, 0.960941, 0.132875, 0.963321]\n",
      " --- Iteration over ALM coefficient: 47 ---\n"
     ]
    },
    {
     "name": "stderr",
     "output_type": "stream",
     "text": [
      "\u001b[32msimulating aggregate path ...100%|██████████████████████| Time: 0:00:02\u001b[39m\n",
      "\u001b[32mSolving individual UMP by Euler method:  Time: 0:00:08 (357 iterations)\u001b[39m8)\u001b[39m\n",
      "\u001b[32msimulating aggregate path ... 73%|████████████████      |  ETA: 0:00:01\u001b[39m"
     ]
    },
    {
     "name": "stdout",
     "output_type": "stream",
     "text": [
      "difference of ALM coefficient is 6.994028114354345e-6 and B = [0.146867, 0.960941, 0.132877, 0.963321]\n",
      " --- Iteration over ALM coefficient: 48 ---\n"
     ]
    },
    {
     "name": "stderr",
     "output_type": "stream",
     "text": [
      "\u001b[32msimulating aggregate path ...100%|██████████████████████| Time: 0:00:02\u001b[39m\n",
      "\u001b[32mSolving individual UMP by Euler method:  Time: 0:00:07 (344 iterations)\u001b[39m8)\u001b[39m\n",
      "\u001b[32msimulating aggregate path ... 75%|████████████████      |  ETA: 0:00:01\u001b[39m"
     ]
    },
    {
     "name": "stdout",
     "output_type": "stream",
     "text": [
      "difference of ALM coefficient is 6.336323091604701e-6 and B = [0.146867, 0.960941, 0.132878, 0.96332]\n",
      " --- Iteration over ALM coefficient: 49 ---\n"
     ]
    },
    {
     "name": "stderr",
     "output_type": "stream",
     "text": [
      "\u001b[32msimulating aggregate path ...100%|██████████████████████| Time: 0:00:02\u001b[39m\n",
      "\u001b[32mSolving individual UMP by Euler method:  Time: 0:00:07 (330 iterations)\u001b[39m8)\u001b[39m\n",
      "\u001b[32msimulating aggregate path ... 73%|████████████████      |  ETA: 0:00:01\u001b[39m"
     ]
    },
    {
     "name": "stdout",
     "output_type": "stream",
     "text": [
      "difference of ALM coefficient is 5.741289606842059e-6 and B = [0.146868, 0.960941, 0.132879, 0.96332]\n",
      " --- Iteration over ALM coefficient: 50 ---\n"
     ]
    },
    {
     "name": "stderr",
     "output_type": "stream",
     "text": [
      "\u001b[32msimulating aggregate path ...100%|██████████████████████| Time: 0:00:02\u001b[39m\n",
      "\u001b[32mSolving individual UMP by Euler method:  Time: 0:00:07 (316 iterations)\u001b[39m8)\u001b[39m\n",
      "\u001b[32msimulating aggregate path ... 74%|████████████████      |  ETA: 0:00:01\u001b[39m"
     ]
    },
    {
     "name": "stdout",
     "output_type": "stream",
     "text": [
      "difference of ALM coefficient is 5.20255477609588e-6 and B = [0.146869, 0.96094, 0.132881, 0.96332]\n",
      " --- Iteration over ALM coefficient: 51 ---\n"
     ]
    },
    {
     "name": "stderr",
     "output_type": "stream",
     "text": [
      "\u001b[32msimulating aggregate path ...100%|██████████████████████| Time: 0:00:02\u001b[39m\n",
      "\u001b[32mSolving individual UMP by Euler method:  Time: 0:00:07 (303 iterations)\u001b[39m8)\u001b[39m\n",
      "\u001b[32msimulating aggregate path ... 74%|████████████████      |  ETA: 0:00:01\u001b[39m"
     ]
    },
    {
     "name": "stdout",
     "output_type": "stream",
     "text": [
      "difference of ALM coefficient is 4.714489223428542e-6 and B = [0.146869, 0.96094, 0.132882, 0.963319]\n",
      " --- Iteration over ALM coefficient: 52 ---\n"
     ]
    },
    {
     "name": "stderr",
     "output_type": "stream",
     "text": [
      "\u001b[32msimulating aggregate path ...100%|██████████████████████| Time: 0:00:02\u001b[39m\n",
      "\u001b[32mSolving individual UMP by Euler method:  Time: 0:00:06 (290 iterations)\u001b[39m)\u001b[39mm\n",
      "\u001b[32msimulating aggregate path ... 74%|████████████████      |  ETA: 0:00:01\u001b[39m"
     ]
    },
    {
     "name": "stdout",
     "output_type": "stream",
     "text": [
      "difference of ALM coefficient is 4.272670644511756e-6 and B = [0.14687, 0.96094, 0.132883, 0.963319]\n",
      " --- Iteration over ALM coefficient: 53 ---\n"
     ]
    },
    {
     "name": "stderr",
     "output_type": "stream",
     "text": [
      "\u001b[32msimulating aggregate path ...100%|██████████████████████| Time: 0:00:02\u001b[39m\n",
      "\u001b[32mSolving individual UMP by Euler method:  Time: 0:00:06 (277 iterations)\u001b[39m8)\u001b[39m\n",
      "\u001b[32msimulating aggregate path ... 75%|████████████████      |  ETA: 0:00:01\u001b[39m"
     ]
    },
    {
     "name": "stdout",
     "output_type": "stream",
     "text": [
      "difference of ALM coefficient is 3.8725663447647385e-6 and B = [0.14687, 0.96094, 0.132883, 0.963319]\n",
      " --- Iteration over ALM coefficient: 54 ---\n"
     ]
    },
    {
     "name": "stderr",
     "output_type": "stream",
     "text": [
      "\u001b[32msimulating aggregate path ...100%|██████████████████████| Time: 0:00:02\u001b[39m\n",
      "\u001b[32mSolving individual UMP by Euler method:  Time: 0:00:06 (264 iterations)\u001b[39m8)\u001b[39m\n",
      "\u001b[32msimulating aggregate path ... 74%|████████████████      |  ETA: 0:00:01\u001b[39m"
     ]
    },
    {
     "name": "stdout",
     "output_type": "stream",
     "text": [
      "difference of ALM coefficient is 3.5099821105444295e-6 and B = [0.14687, 0.96094, 0.132884, 0.963319]\n",
      " --- Iteration over ALM coefficient: 55 ---\n"
     ]
    },
    {
     "name": "stderr",
     "output_type": "stream",
     "text": [
      "\u001b[32msimulating aggregate path ...100%|██████████████████████| Time: 0:00:02\u001b[39m\n",
      "\u001b[32mSolving individual UMP by Euler method:  Time: 0:00:06 (252 iterations)\u001b[39m8)\u001b[39m\n",
      "\u001b[32msimulating aggregate path ... 93%|████████████████████  |  ETA: 0:00:00\u001b[39m"
     ]
    },
    {
     "name": "stdout",
     "output_type": "stream",
     "text": [
      "difference of ALM coefficient is 3.1813702160432555e-6 and B = [0.146871, 0.96094, 0.132885, 0.963318]\n",
      " --- Iteration over ALM coefficient: 56 ---\n"
     ]
    },
    {
     "name": "stderr",
     "output_type": "stream",
     "text": [
      "\u001b[32msimulating aggregate path ...100%|██████████████████████| Time: 0:00:02\u001b[39m\n",
      "\u001b[32mSolving individual UMP by Euler method:  Time: 0:00:05 (239 iterations)\u001b[39m8)\u001b[39m\n",
      "\u001b[32msimulating aggregate path ... 70%|███████████████       |  ETA: 0:00:01\u001b[39m\r"
     ]
    },
    {
     "name": "stdout",
     "output_type": "stream",
     "text": [
      "difference of ALM coefficient is 2.884014287607428e-6 and B = [0.146871, 0.96094, 0.132886, 0.963318]\n",
      " --- Iteration over ALM coefficient: 57 ---\n"
     ]
    },
    {
     "name": "stderr",
     "output_type": "stream",
     "text": [
      "\u001b[32msimulating aggregate path ...100%|██████████████████████| Time: 0:00:02\u001b[39m\n",
      "\u001b[32mSolving individual UMP by Euler method:  Time: 0:00:05 (228 iterations)\u001b[39m8)\u001b[39m\n",
      "\u001b[32msimulating aggregate path ... 75%|████████████████      |  ETA: 0:00:01\u001b[39m"
     ]
    },
    {
     "name": "stdout",
     "output_type": "stream",
     "text": [
      "difference of ALM coefficient is 2.613897075925964e-6 and B = [0.146871, 0.96094, 0.132886, 0.963318]\n",
      " --- Iteration over ALM coefficient: 58 ---\n"
     ]
    },
    {
     "name": "stderr",
     "output_type": "stream",
     "text": [
      "\u001b[32msimulating aggregate path ...100%|██████████████████████| Time: 0:00:02\u001b[39m\n",
      "\u001b[32mSolving individual UMP by Euler method:  Time: 0:00:05 (216 iterations)\u001b[39m8)\u001b[39m\n",
      "\u001b[32msimulating aggregate path ... 94%|█████████████████████ |  ETA: 0:00:00\u001b[39m"
     ]
    },
    {
     "name": "stdout",
     "output_type": "stream",
     "text": [
      "difference of ALM coefficient is 2.3698285921691653e-6 and B = [0.146872, 0.96094, 0.132887, 0.963318]\n",
      " --- Iteration over ALM coefficient: 59 ---\n"
     ]
    },
    {
     "name": "stderr",
     "output_type": "stream",
     "text": [
      "\u001b[32msimulating aggregate path ...100%|██████████████████████| Time: 0:00:02\u001b[39m\n",
      "\u001b[32mSolving individual UMP by Euler method:  Time: 0:00:04 (204 iterations)\u001b[39m8)\u001b[39m\n",
      "\u001b[32msimulating aggregate path ... 74%|████████████████      |  ETA: 0:00:01\u001b[39m"
     ]
    },
    {
     "name": "stdout",
     "output_type": "stream",
     "text": [
      "difference of ALM coefficient is 2.1483925622678424e-6 and B = [0.146872, 0.96094, 0.132887, 0.963318]\n",
      " --- Iteration over ALM coefficient: 60 ---\n"
     ]
    },
    {
     "name": "stderr",
     "output_type": "stream",
     "text": [
      "\u001b[32msimulating aggregate path ...100%|██████████████████████| Time: 0:00:02\u001b[39m\n",
      "\u001b[32mSolving individual UMP by Euler method:  Time: 0:00:04 (193 iterations)\u001b[39m8)\u001b[39m\n",
      "\u001b[32msimulating aggregate path ... 74%|████████████████      |  ETA: 0:00:01\u001b[39m"
     ]
    },
    {
     "name": "stdout",
     "output_type": "stream",
     "text": [
      "difference of ALM coefficient is 1.947404442897982e-6 and B = [0.146872, 0.96094, 0.132888, 0.963318]\n",
      " --- Iteration over ALM coefficient: 61 ---\n"
     ]
    },
    {
     "name": "stderr",
     "output_type": "stream",
     "text": [
      "\u001b[32msimulating aggregate path ...100%|██████████████████████| Time: 0:00:02\u001b[39m\n",
      "\u001b[32mSolving individual UMP by Euler method:  Time: 0:00:04 (182 iterations)\u001b[39m8)\u001b[39m\n",
      "\u001b[32msimulating aggregate path ... 74%|████████████████      |  ETA: 0:00:01\u001b[39m"
     ]
    },
    {
     "name": "stdout",
     "output_type": "stream",
     "text": [
      "difference of ALM coefficient is 1.7653895722224977e-6 and B = [0.146872, 0.96094, 0.132888, 0.963318]\n",
      " --- Iteration over ALM coefficient: 62 ---\n"
     ]
    },
    {
     "name": "stderr",
     "output_type": "stream",
     "text": [
      "\u001b[32msimulating aggregate path ...100%|██████████████████████| Time: 0:00:02\u001b[39m\n",
      "\u001b[32mSolving individual UMP by Euler method:  Time: 0:00:04 (172 iterations)\u001b[39m8)\u001b[39m\n",
      "\u001b[32msimulating aggregate path ... 74%|████████████████      |  ETA: 0:00:01\u001b[39m"
     ]
    },
    {
     "name": "stdout",
     "output_type": "stream",
     "text": [
      "difference of ALM coefficient is 1.6003569559552844e-6 and B = [0.146873, 0.960939, 0.132888, 0.963318]\n",
      " --- Iteration over ALM coefficient: 63 ---\n"
     ]
    },
    {
     "name": "stderr",
     "output_type": "stream",
     "text": [
      "\u001b[32msimulating aggregate path ...100%|██████████████████████| Time: 0:00:02\u001b[39m\n",
      "\u001b[32mSolving individual UMP by Euler method:  Time: 0:00:04 (161 iterations)\u001b[39m8)\u001b[39m\n",
      "\u001b[32msimulating aggregate path ... 95%|█████████████████████ |  ETA: 0:00:00\u001b[39m"
     ]
    },
    {
     "name": "stdout",
     "output_type": "stream",
     "text": [
      "difference of ALM coefficient is 1.4512411514178147e-6 and B = [0.146873, 0.960939, 0.132889, 0.963317]\n",
      " --- Iteration over ALM coefficient: 64 ---\n"
     ]
    },
    {
     "name": "stderr",
     "output_type": "stream",
     "text": [
      "\u001b[32msimulating aggregate path ...100%|██████████████████████| Time: 0:00:02\u001b[39m\n",
      "\u001b[32mSolving individual UMP by Euler method:  Time: 0:00:03 (151 iterations)\u001b[39m8)\u001b[39m\n",
      "\u001b[32msimulating aggregate path ... 73%|████████████████      |  ETA: 0:00:01\u001b[39m"
     ]
    },
    {
     "name": "stdout",
     "output_type": "stream",
     "text": [
      "difference of ALM coefficient is 1.3154069426757342e-6 and B = [0.146873, 0.960939, 0.132889, 0.963317]\n"
     ]
    },
    {
     "name": "stderr",
     "output_type": "stream",
     "text": [
      "\r",
      "\u001b[32msimulating aggregate path ... 97%|█████████████████████ |  ETA: 0:00:00\u001b[39m\r",
      "\u001b[32msimulating aggregate path ...100%|██████████████████████| Time: 0:00:02\u001b[39m\n"
     ]
    },
    {
     "name": "stdout",
     "output_type": "stream",
     "text": [
      " --- Iteration over ALM coefficient: 65 ---\n"
     ]
    },
    {
     "name": "stderr",
     "output_type": "stream",
     "text": [
      "\u001b[32mSolving individual UMP by Euler method:  Time: 0:00:03 (142 iterations)\u001b[39m8)\u001b[39m\n",
      "\u001b[32msimulating aggregate path ... 73%|████████████████      |  ETA: 0:00:01\u001b[39m"
     ]
    },
    {
     "name": "stdout",
     "output_type": "stream",
     "text": [
      "difference of ALM coefficient is 1.1924123506645845e-6 and B = [0.146873, 0.960939, 0.132889, 0.963317]\n",
      " --- Iteration over ALM coefficient: 66 ---\n"
     ]
    },
    {
     "name": "stderr",
     "output_type": "stream",
     "text": [
      "\u001b[32msimulating aggregate path ...100%|██████████████████████| Time: 0:00:02\u001b[39m\n",
      "\u001b[32mSolving individual UMP by Euler method:  Time: 0:00:03 (132 iterations)\u001b[39m)\u001b[39mm\n",
      "\u001b[32msimulating aggregate path ... 74%|████████████████      |  ETA: 0:00:01\u001b[39m"
     ]
    },
    {
     "name": "stdout",
     "output_type": "stream",
     "text": [
      "difference of ALM coefficient is 1.0814044617279972e-6 and B = [0.146873, 0.960939, 0.13289, 0.963317]\n",
      " --- Iteration over ALM coefficient: 67 ---\n"
     ]
    },
    {
     "name": "stderr",
     "output_type": "stream",
     "text": [
      "\u001b[32msimulating aggregate path ...100%|██████████████████████| Time: 0:00:02\u001b[39m\n",
      "\u001b[32mSolving individual UMP by Euler method:  Time: 0:00:03 (123 iterations)\u001b[39m8)\u001b[39m\n",
      "\u001b[32msimulating aggregate path ... 72%|████████████████      |  ETA: 0:00:01\u001b[39m"
     ]
    },
    {
     "name": "stdout",
     "output_type": "stream",
     "text": [
      "difference of ALM coefficient is 9.802967592675849e-7 and B = [0.146873, 0.960939, 0.13289, 0.963317]\n",
      " --- Iteration over ALM coefficient: 68 ---\n"
     ]
    },
    {
     "name": "stderr",
     "output_type": "stream",
     "text": [
      "\u001b[32msimulating aggregate path ...100%|██████████████████████| Time: 0:00:02\u001b[39m\n",
      "\u001b[32mSolving individual UMP by Euler method:  Time: 0:00:02 (115 iterations)\u001b[39m8)\u001b[39m\n",
      "\u001b[32msimulating aggregate path ... 75%|█████████████████     |  ETA: 0:00:01\u001b[39m"
     ]
    },
    {
     "name": "stdout",
     "output_type": "stream",
     "text": [
      "difference of ALM coefficient is 8.885985442186328e-7 and B = [0.146873, 0.960939, 0.13289, 0.963317]\n",
      " --- Iteration over ALM coefficient: 69 ---\n"
     ]
    },
    {
     "name": "stderr",
     "output_type": "stream",
     "text": [
      "\u001b[32msimulating aggregate path ...100%|██████████████████████| Time: 0:00:02\u001b[39m\n",
      "\u001b[32mSolving individual UMP by Euler method:  Time: 0:00:02 (106 iterations)\u001b[39m8)\u001b[39m\n",
      "\u001b[32msimulating aggregate path ... 74%|████████████████      |  ETA: 0:00:01\u001b[39m"
     ]
    },
    {
     "name": "stdout",
     "output_type": "stream",
     "text": [
      "difference of ALM coefficient is 8.059627235879052e-7 and B = [0.146873, 0.960939, 0.13289, 0.963317]\n",
      " --- Iteration over ALM coefficient: 70 ---\n"
     ]
    },
    {
     "name": "stderr",
     "output_type": "stream",
     "text": [
      "\u001b[32msimulating aggregate path ...100%|██████████████████████| Time: 0:00:02\u001b[39m\n",
      "\u001b[32mSolving individual UMP by Euler method:  Time: 0:00:02 (98 iterations)\u001b[39m08)\u001b[39m\n",
      "\u001b[32msimulating aggregate path ... 75%|████████████████      |  ETA: 0:00:01\u001b[39m"
     ]
    },
    {
     "name": "stdout",
     "output_type": "stream",
     "text": [
      "difference of ALM coefficient is 7.306925396410868e-7 and B = [0.146873, 0.960939, 0.13289, 0.963317]\n",
      " --- Iteration over ALM coefficient: 71 ---\n"
     ]
    },
    {
     "name": "stderr",
     "output_type": "stream",
     "text": [
      "\u001b[32msimulating aggregate path ...100%|██████████████████████| Time: 0:00:02\u001b[39m\n",
      "\u001b[32mSolving individual UMP by Euler method:  Time: 0:00:02 (91 iterations)\u001b[39m08)\u001b[39m\n",
      "\u001b[32msimulating aggregate path ...100%|██████████████████████| Time: 0:00:02\u001b[39m\n"
     ]
    },
    {
     "name": "stdout",
     "output_type": "stream",
     "text": [
      "difference of ALM coefficient is 6.623617018197692e-7 and B = [0.146874, 0.960939, 0.132891, 0.963317]\n",
      " --- Iteration over ALM coefficient: 72 ---\n"
     ]
    },
    {
     "name": "stderr",
     "output_type": "stream",
     "text": [
      "\u001b[32mSolving individual UMP by Euler method:  Time: 0:00:02 (83 iterations)\u001b[39m08)\u001b[39m\n",
      "\u001b[32msimulating aggregate path ... 74%|████████████████      |  ETA: 0:00:01\u001b[39m"
     ]
    },
    {
     "name": "stdout",
     "output_type": "stream",
     "text": [
      "difference of ALM coefficient is 6.010190553018546e-7 and B = [0.146874, 0.960939, 0.132891, 0.963317]\n",
      " --- Iteration over ALM coefficient: 73 ---\n"
     ]
    },
    {
     "name": "stderr",
     "output_type": "stream",
     "text": [
      "\u001b[32msimulating aggregate path ...100%|██████████████████████| Time: 0:00:02\u001b[39m\n",
      "\u001b[32mSolving individual UMP by Euler method:  Time: 0:00:02 (77 iterations)\u001b[39m08)\u001b[39m\n",
      "\u001b[32msimulating aggregate path ... 74%|████████████████      |  ETA: 0:00:01\u001b[39m"
     ]
    },
    {
     "name": "stdout",
     "output_type": "stream",
     "text": [
      "difference of ALM coefficient is 5.445665013925627e-7 and B = [0.146874, 0.960939, 0.132891, 0.963317]\n",
      " --- Iteration over ALM coefficient: 74 ---\n"
     ]
    },
    {
     "name": "stderr",
     "output_type": "stream",
     "text": [
      "\u001b[32msimulating aggregate path ...100%|██████████████████████| Time: 0:00:02\u001b[39m\n",
      "\u001b[32mSolving individual UMP by Euler method:  Time: 0:00:02 (70 iterations)\u001b[39m08)\u001b[39m\n",
      "\u001b[32msimulating aggregate path ... 73%|████████████████      |  ETA: 0:00:01\u001b[39m"
     ]
    },
    {
     "name": "stdout",
     "output_type": "stream",
     "text": [
      "difference of ALM coefficient is 4.942435950783253e-7 and B = [0.146874, 0.960939, 0.132891, 0.963317]\n",
      " --- Iteration over ALM coefficient: 75 ---\n"
     ]
    },
    {
     "name": "stderr",
     "output_type": "stream",
     "text": [
      "\u001b[32msimulating aggregate path ...100%|██████████████████████| Time: 0:00:02\u001b[39m\n",
      "\u001b[32mSolving individual UMP by Euler method:  Time: 0:00:01 (65 iterations)\u001b[39m8)\u001b[39mm\n",
      "\u001b[32msimulating aggregate path ... 74%|████████████████      |  ETA: 0:00:01\u001b[39m"
     ]
    },
    {
     "name": "stdout",
     "output_type": "stream",
     "text": [
      "difference of ALM coefficient is 4.477099435074017e-7 and B = [0.146874, 0.960939, 0.132891, 0.963317]\n",
      " --- Iteration over ALM coefficient: 76 ---"
     ]
    },
    {
     "name": "stderr",
     "output_type": "stream",
     "text": [
      "\r",
      "\u001b[32msimulating aggregate path ... 99%|██████████████████████|  ETA: 0:00:00\u001b[39m\r",
      "\u001b[32msimulating aggregate path ...100%|██████████████████████| Time: 0:00:02\u001b[39m\n"
     ]
    },
    {
     "name": "stdout",
     "output_type": "stream",
     "text": [
      "\n"
     ]
    },
    {
     "name": "stderr",
     "output_type": "stream",
     "text": [
      "\u001b[32mSolving individual UMP by Euler method:  Time: 0:00:01 (59 iterations)\u001b[39m08)\u001b[39m\n",
      "\u001b[32msimulating aggregate path ... 72%|████████████████      |  ETA: 0:00:01\u001b[39m"
     ]
    },
    {
     "name": "stdout",
     "output_type": "stream",
     "text": [
      "difference of ALM coefficient is 4.0644643303777706e-7 and B = [0.146874, 0.960939, 0.132891, 0.963317]\n",
      " --- Iteration over ALM coefficient: 77 ---\n"
     ]
    },
    {
     "name": "stderr",
     "output_type": "stream",
     "text": [
      "\u001b[32msimulating aggregate path ...100%|██████████████████████| Time: 0:00:02\u001b[39m\n",
      "\u001b[32mSolving individual UMP by Euler method:  Time: 0:00:01 (55 iterations)\u001b[39m08)\u001b[39m\n",
      "\u001b[32msimulating aggregate path ... 75%|████████████████      |  ETA: 0:00:01\u001b[39m"
     ]
    },
    {
     "name": "stdout",
     "output_type": "stream",
     "text": [
      "difference of ALM coefficient is 3.6810898323969e-7 and B = [0.146874, 0.960939, 0.132891, 0.963317]\n",
      " --- Iteration over ALM coefficient: 78 ---\n"
     ]
    },
    {
     "name": "stderr",
     "output_type": "stream",
     "text": [
      "\u001b[32msimulating aggregate path ...100%|██████████████████████| Time: 0:00:02\u001b[39m\n",
      "\u001b[32mSolving individual UMP by Euler method:  Time: 0:00:01 (50 iterations)\u001b[39m08)\u001b[39m\n",
      "\u001b[32msimulating aggregate path ... 75%|████████████████      |  ETA: 0:00:01\u001b[39m"
     ]
    },
    {
     "name": "stdout",
     "output_type": "stream",
     "text": [
      "difference of ALM coefficient is 3.342283573515292e-7 and B = [0.146874, 0.960939, 0.132891, 0.963317]\n",
      " --- Iteration over ALM coefficient: 79 ---\n"
     ]
    },
    {
     "name": "stderr",
     "output_type": "stream",
     "text": [
      "\u001b[32msimulating aggregate path ...100%|██████████████████████| Time: 0:00:02\u001b[39m\n",
      "\u001b[32mSolving individual UMP by Euler method:  Time: 0:00:01 (47 iterations)\u001b[39m08)\u001b[39m\n",
      "\u001b[32msimulating aggregate path ... 73%|████████████████      |  ETA: 0:00:01\u001b[39m"
     ]
    },
    {
     "name": "stdout",
     "output_type": "stream",
     "text": [
      "difference of ALM coefficient is 3.024636119897117e-7 and B = [0.146874, 0.960939, 0.132891, 0.963317]\n",
      " --- Iteration over ALM coefficient: 80 ---\n"
     ]
    },
    {
     "name": "stderr",
     "output_type": "stream",
     "text": [
      "\u001b[32msimulating aggregate path ...100%|██████████████████████| Time: 0:00:02\u001b[39m\n",
      "\u001b[32mSolving individual UMP by Euler method:  Time: 0:00:01 (44 iterations)\u001b[39m08)\u001b[39m\n",
      "\u001b[32msimulating aggregate path ... 73%|████████████████      |  ETA: 0:00:01\u001b[39m"
     ]
    },
    {
     "name": "stdout",
     "output_type": "stream",
     "text": [
      "difference of ALM coefficient is 2.7407118780020667e-7 and B = [0.146874, 0.960939, 0.132891, 0.963317]\n",
      " --- Iteration over ALM coefficient: 81 ---\n"
     ]
    },
    {
     "name": "stderr",
     "output_type": "stream",
     "text": [
      "\u001b[32msimulating aggregate path ...100%|██████████████████████| Time: 0:00:02\u001b[39m\n",
      "\u001b[32mSolving individual UMP by Euler method:  Time: 0:00:01 (41 iterations)\u001b[39m08)\u001b[39m\n",
      "\u001b[32msimulating aggregate path ... 73%|████████████████      |  ETA: 0:00:01\u001b[39m"
     ]
    },
    {
     "name": "stdout",
     "output_type": "stream",
     "text": [
      "difference of ALM coefficient is 2.485447657130102e-7 and B = [0.146874, 0.960939, 0.132891, 0.963317]\n",
      " --- Iteration over ALM coefficient: 82 ---\n"
     ]
    },
    {
     "name": "stderr",
     "output_type": "stream",
     "text": [
      "\u001b[32msimulating aggregate path ...100%|██████████████████████| Time: 0:00:02\u001b[39m\n",
      "\u001b[32mSolving individual UMP by Euler method:  Time: 0:00:01 (39 iterations)\u001b[39m08)\u001b[39m\n",
      "\u001b[32msimulating aggregate path ...100%|██████████████████████| Time: 0:00:02\u001b[39m"
     ]
    },
    {
     "name": "stdout",
     "output_type": "stream",
     "text": [
      "difference of ALM coefficient is 2.250508124301831e-7 and B = [0.146874, 0.960939, 0.132891, 0.963317]\n",
      " --- Iteration over ALM coefficient: 83 ---\n"
     ]
    },
    {
     "name": "stderr",
     "output_type": "stream",
     "text": [
      "\n",
      "\u001b[32mSolving individual UMP by Euler method:  Time: 0:00:01 (37 iterations)\u001b[39m08)\u001b[39m\n",
      "\u001b[32msimulating aggregate path ... 73%|████████████████      |  ETA: 0:00:01\u001b[39m"
     ]
    },
    {
     "name": "stdout",
     "output_type": "stream",
     "text": [
      "difference of ALM coefficient is 2.0398252301156994e-7 and B = [0.146874, 0.960939, 0.132892, 0.963317]\n",
      " --- Iteration over ALM coefficient: 84 ---\n"
     ]
    },
    {
     "name": "stderr",
     "output_type": "stream",
     "text": [
      "\u001b[32msimulating aggregate path ...100%|██████████████████████| Time: 0:00:02\u001b[39m\n",
      "\u001b[32mSolving individual UMP by Euler method:  Time: 0:00:01 (35 iterations)\u001b[39m08)\u001b[39m\n",
      "\u001b[32msimulating aggregate path ... 74%|████████████████      |  ETA: 0:00:01\u001b[39m"
     ]
    },
    {
     "name": "stdout",
     "output_type": "stream",
     "text": [
      "difference of ALM coefficient is 1.8501803553117036e-7 and B = [0.146874, 0.960939, 0.132892, 0.963317]\n",
      " --- Iteration over ALM coefficient: 85 ---\n"
     ]
    },
    {
     "name": "stderr",
     "output_type": "stream",
     "text": [
      "\u001b[32msimulating aggregate path ...100%|██████████████████████| Time: 0:00:02\u001b[39m\n",
      "\u001b[32mSolving individual UMP by Euler method:  Time: 0:00:01 (33 iterations)\u001b[39m08)\u001b[39m\n",
      "\u001b[32msimulating aggregate path ... 73%|████████████████      |  ETA: 0:00:01\u001b[39m"
     ]
    },
    {
     "name": "stdout",
     "output_type": "stream",
     "text": [
      "difference of ALM coefficient is 1.6791167115060013e-7 and B = [0.146874, 0.960939, 0.132892, 0.963317]\n",
      " --- Iteration over ALM coefficient: 86 ---\n"
     ]
    },
    {
     "name": "stderr",
     "output_type": "stream",
     "text": [
      "\u001b[32msimulating aggregate path ...100%|██████████████████████| Time: 0:00:02\u001b[39m\n",
      "\u001b[32mSolving individual UMP by Euler method:  Time: 0:00:01 (32 iterations)\u001b[39m08)\u001b[39m\n",
      "\u001b[32msimulating aggregate path ... 74%|████████████████      |  ETA: 0:00:01\u001b[39m"
     ]
    },
    {
     "name": "stdout",
     "output_type": "stream",
     "text": [
      "difference of ALM coefficient is 1.51750390336991e-7 and B = [0.146874, 0.960939, 0.132892, 0.963317]\n",
      " --- Iteration over ALM coefficient: 87 ---\n"
     ]
    },
    {
     "name": "stderr",
     "output_type": "stream",
     "text": [
      "\u001b[32msimulating aggregate path ...100%|██████████████████████| Time: 0:00:02\u001b[39m\n",
      "\u001b[32mSolving individual UMP by Euler method:  Time: 0:00:01 (30 iterations)\u001b[39m08)\u001b[39m\n",
      "\u001b[32msimulating aggregate path ... 74%|████████████████      |  ETA: 0:00:01\u001b[39m"
     ]
    },
    {
     "name": "stdout",
     "output_type": "stream",
     "text": [
      "difference of ALM coefficient is 1.3786970365359252e-7 and B = [0.146874, 0.960939, 0.132892, 0.963317]\n",
      " --- Iteration over ALM coefficient: 88 ---\n"
     ]
    },
    {
     "name": "stderr",
     "output_type": "stream",
     "text": [
      "\u001b[32msimulating aggregate path ...100%|██████████████████████| Time: 0:00:02\u001b[39m\n",
      "\u001b[32mSolving individual UMP by Euler method:  Time: 0:00:01 (28 iterations)\u001b[39m8)\u001b[39mm\n",
      "\u001b[32msimulating aggregate path ... 74%|████████████████      |  ETA: 0:00:01\u001b[39m"
     ]
    },
    {
     "name": "stdout",
     "output_type": "stream",
     "text": [
      "difference of ALM coefficient is 1.2521602682502575e-7 and B = [0.146874, 0.960939, 0.132892, 0.963317]\n",
      " --- Iteration over ALM coefficient: 89 ---\n"
     ]
    },
    {
     "name": "stderr",
     "output_type": "stream",
     "text": [
      "\u001b[32msimulating aggregate path ...100%|██████████████████████| Time: 0:00:02\u001b[39m\n",
      "\u001b[32mSolving individual UMP by Euler method:  Time: 0:00:01 (27 iterations)\u001b[39m08)\u001b[39m\n",
      "\u001b[32msimulating aggregate path ... 74%|████████████████      |  ETA: 0:00:01\u001b[39m"
     ]
    },
    {
     "name": "stdout",
     "output_type": "stream",
     "text": [
      "difference of ALM coefficient is 1.1326223903207477e-7 and B = [0.146874, 0.960939, 0.132892, 0.963317]\n",
      " --- Iteration over ALM coefficient: 90 ---\n"
     ]
    },
    {
     "name": "stderr",
     "output_type": "stream",
     "text": [
      "\u001b[32msimulating aggregate path ...100%|██████████████████████| Time: 0:00:02\u001b[39m\n",
      "\u001b[32mSolving individual UMP by Euler method:  Time: 0:00:01 (25 iterations)\u001b[39m08)\u001b[39m\n",
      "\u001b[32msimulating aggregate path ... 74%|████████████████      |  ETA: 0:00:01\u001b[39m"
     ]
    },
    {
     "name": "stdout",
     "output_type": "stream",
     "text": [
      "difference of ALM coefficient is 1.0293103455683017e-7 and B = [0.146874, 0.960939, 0.132892, 0.963317]\n",
      " --- Iteration over ALM coefficient: 91 ---\n"
     ]
    },
    {
     "name": "stderr",
     "output_type": "stream",
     "text": [
      "\u001b[32msimulating aggregate path ...100%|██████████████████████| Time: 0:00:02\u001b[39m\n",
      "\u001b[32mSolving individual UMP by Euler method:  Time: 0:00:01 (24 iterations)\u001b[39m08)\u001b[39m\n",
      "\u001b[32msimulating aggregate path ... 74%|████████████████      |  ETA: 0:00:01\u001b[39m"
     ]
    },
    {
     "name": "stdout",
     "output_type": "stream",
     "text": [
      "difference of ALM coefficient is 9.30346010230565e-8 and B = [0.146874, 0.960939, 0.132892, 0.963317]\n",
      " --- Iteration over ALM coefficient: 92 ---\n"
     ]
    },
    {
     "name": "stderr",
     "output_type": "stream",
     "text": [
      "\u001b[32msimulating aggregate path ...100%|██████████████████████| Time: 0:00:02\u001b[39m\n",
      "\u001b[32mSolving individual UMP by Euler method:  Time: 0:00:01 (22 iterations)\u001b[39m08)\u001b[39m\n",
      "\u001b[32msimulating aggregate path ... 74%|████████████████      |  ETA: 0:00:01\u001b[39m"
     ]
    },
    {
     "name": "stdout",
     "output_type": "stream",
     "text": [
      "difference of ALM coefficient is 8.464245168648965e-8 and B = [0.146874, 0.960939, 0.132892, 0.963317]\n",
      " --- Iteration over ALM coefficient: 93 ---\n"
     ]
    },
    {
     "name": "stderr",
     "output_type": "stream",
     "text": [
      "\u001b[32msimulating aggregate path ...100%|██████████████████████| Time: 0:00:02\u001b[39m\n",
      "\u001b[32mSolving individual UMP by Euler method:  Time: 0:00:00 (21 iterations)\u001b[39m08)\u001b[39m\n",
      "\u001b[32msimulating aggregate path ... 74%|████████████████      |  ETA: 0:00:01\u001b[39m"
     ]
    },
    {
     "name": "stdout",
     "output_type": "stream",
     "text": [
      "difference of ALM coefficient is 7.652786657152966e-8 and B = [0.146874, 0.960939, 0.132892, 0.963317]\n",
      " --- Iteration over ALM coefficient: 94 ---\n"
     ]
    },
    {
     "name": "stderr",
     "output_type": "stream",
     "text": [
      "\u001b[32msimulating aggregate path ...100%|██████████████████████| Time: 0:00:02\u001b[39m\n",
      "\u001b[32mSolving individual UMP by Euler method:  Time: 0:00:00 (19 iterations)\u001b[39m8)\u001b[39mm\n",
      "\u001b[32msimulating aggregate path ... 74%|████████████████      |  ETA: 0:00:01\u001b[39m"
     ]
    },
    {
     "name": "stdout",
     "output_type": "stream",
     "text": [
      "difference of ALM coefficient is 6.974838753781576e-8 and B = [0.146874, 0.960939, 0.132892, 0.963317]\n",
      " --- Iteration over ALM coefficient: 95 ---\n"
     ]
    },
    {
     "name": "stderr",
     "output_type": "stream",
     "text": [
      "\u001b[32msimulating aggregate path ...100%|██████████████████████| Time: 0:00:02\u001b[39m\n",
      "\u001b[32mSolving individual UMP by Euler method:  Time: 0:00:00 (19 iterations)\u001b[39m08)\u001b[39m\n",
      "\u001b[32msimulating aggregate path ... 73%|████████████████      |  ETA: 0:00:01\u001b[39m"
     ]
    },
    {
     "name": "stdout",
     "output_type": "stream",
     "text": [
      "difference of ALM coefficient is 6.263902901926244e-8 and B = [0.146874, 0.960939, 0.132892, 0.963317]\n",
      " --- Iteration over ALM coefficient: 96 ---\n"
     ]
    },
    {
     "name": "stderr",
     "output_type": "stream",
     "text": [
      "\u001b[32msimulating aggregate path ...100%|██████████████████████| Time: 0:00:02\u001b[39m\n",
      "\u001b[32mSolving individual UMP by Euler method:  Time: 0:00:00 (17 iterations)\u001b[39m8)\u001b[39mm\n",
      "\u001b[32msimulating aggregate path ... 74%|████████████████      |  ETA: 0:00:01\u001b[39m"
     ]
    },
    {
     "name": "stdout",
     "output_type": "stream",
     "text": [
      "difference of ALM coefficient is 5.709994851943456e-8 and B = [0.146874, 0.960939, 0.132892, 0.963317]\n",
      " --- Iteration over ALM coefficient: 97 ---\n"
     ]
    },
    {
     "name": "stderr",
     "output_type": "stream",
     "text": [
      "\u001b[32msimulating aggregate path ...100%|██████████████████████| Time: 0:00:02\u001b[39m\n",
      "\u001b[32mSolving individual UMP by Euler method:  Time: 0:00:00 (16 iterations)\u001b[39m8)\u001b[39mm\n",
      "\u001b[32msimulating aggregate path ... 75%|████████████████      |  ETA: 0:00:01\u001b[39m"
     ]
    },
    {
     "name": "stdout",
     "output_type": "stream",
     "text": [
      "difference of ALM coefficient is 5.174000020091718e-8 and B = [0.146874, 0.960939, 0.132892, 0.963317]\n",
      " --- Iteration over ALM coefficient: 98 ---\n"
     ]
    },
    {
     "name": "stderr",
     "output_type": "stream",
     "text": [
      "\u001b[32msimulating aggregate path ...100%|██████████████████████| Time: 0:00:02\u001b[39m\n",
      "\u001b[32mSolving individual UMP by Euler method:  Time: 0:00:00 (15 iterations)\u001b[39m08)\u001b[39m\n",
      "\u001b[32msimulating aggregate path ... 74%|████████████████      |  ETA: 0:00:01\u001b[39m"
     ]
    },
    {
     "name": "stdout",
     "output_type": "stream",
     "text": [
      "difference of ALM coefficient is 4.6844407131096943e-8 and B = [0.146874, 0.960939, 0.132892, 0.963317]\n",
      " --- Iteration over ALM coefficient: 99 ---\n"
     ]
    },
    {
     "name": "stderr",
     "output_type": "stream",
     "text": [
      "\u001b[32msimulating aggregate path ...100%|██████████████████████| Time: 0:00:02\u001b[39m\n",
      "\u001b[32mSolving individual UMP by Euler method:  Time: 0:00:00 (14 iterations)\u001b[39m08)\u001b[39m\n",
      "\u001b[32msimulating aggregate path ... 73%|████████████████      |  ETA: 0:00:01\u001b[39m"
     ]
    },
    {
     "name": "stdout",
     "output_type": "stream",
     "text": [
      "difference of ALM coefficient is 4.254244148627073e-8 and B = [0.146874, 0.960939, 0.132892, 0.963317]\n",
      " --- Iteration over ALM coefficient: 100 ---\n"
     ]
    },
    {
     "name": "stderr",
     "output_type": "stream",
     "text": [
      "\u001b[32msimulating aggregate path ...100%|██████████████████████| Time: 0:00:02\u001b[39m\n",
      "\u001b[32mSolving individual UMP by Euler method:  Time: 0:00:00 (14 iterations)\u001b[39m08)\u001b[39m\n",
      "\u001b[32msimulating aggregate path ... 74%|████████████████      |  ETA: 0:00:01\u001b[39m"
     ]
    },
    {
     "name": "stdout",
     "output_type": "stream",
     "text": [
      "difference of ALM coefficient is 3.804459813849803e-8 and B = [0.146874, 0.960939, 0.132892, 0.963317]\n",
      " --- Iteration over ALM coefficient: 101 ---\n"
     ]
    },
    {
     "name": "stderr",
     "output_type": "stream",
     "text": [
      "\u001b[32msimulating aggregate path ...100%|██████████████████████| Time: 0:00:02\u001b[39m\n",
      "\u001b[32mSolving individual UMP by Euler method:  Time: 0:00:00 (12 iterations)\u001b[39m08)\u001b[39m\n",
      "\u001b[32msimulating aggregate path ... 75%|████████████████      |  ETA: 0:00:01\u001b[39m"
     ]
    },
    {
     "name": "stdout",
     "output_type": "stream",
     "text": [
      "difference of ALM coefficient is 3.4976016666243837e-8 and B = [0.146874, 0.960939, 0.132892, 0.963317]\n",
      " --- Iteration over ALM coefficient: 102 ---\n"
     ]
    },
    {
     "name": "stderr",
     "output_type": "stream",
     "text": [
      "\u001b[32msimulating aggregate path ...100%|██████████████████████| Time: 0:00:02\u001b[39m\n",
      "\u001b[32mSolving individual UMP by Euler method:  Time: 0:00:00 (12 iterations)\u001b[39m08)\u001b[39m\n",
      "\u001b[32msimulating aggregate path ... 74%|████████████████      |  ETA: 0:00:01\u001b[39m"
     ]
    },
    {
     "name": "stdout",
     "output_type": "stream",
     "text": [
      "difference of ALM coefficient is 3.1486846935324664e-8 and B = [0.146874, 0.960939, 0.132892, 0.963317]\n",
      " --- Iteration over ALM coefficient: 103 ---\n"
     ]
    },
    {
     "name": "stderr",
     "output_type": "stream",
     "text": [
      "\u001b[32msimulating aggregate path ...100%|██████████████████████| Time: 0:00:02\u001b[39m\n",
      "\u001b[32mSolving individual UMP by Euler method:  Time: 0:00:00 (10 iterations)\u001b[39m08)\u001b[39m\n",
      "\u001b[32msimulating aggregate path ... 74%|████████████████      |  ETA: 0:00:01\u001b[39m"
     ]
    },
    {
     "name": "stdout",
     "output_type": "stream",
     "text": [
      "difference of ALM coefficient is 2.904139495552016e-8 and B = [0.146874, 0.960939, 0.132892, 0.963317]\n",
      " --- Iteration over ALM coefficient: 104 ---\n"
     ]
    },
    {
     "name": "stderr",
     "output_type": "stream",
     "text": [
      "\u001b[32msimulating aggregate path ...100%|██████████████████████| Time: 0:00:02\u001b[39m\n",
      "\u001b[32mSolving individual UMP by Euler method:  Time: 0:00:00 (11 iterations)\u001b[39m8)\u001b[39mm\n",
      "\u001b[32msimulating aggregate path ... 74%|████████████████      |  ETA: 0:00:01\u001b[39m"
     ]
    },
    {
     "name": "stdout",
     "output_type": "stream",
     "text": [
      "difference of ALM coefficient is 2.5656462981915595e-8 and B = [0.146874, 0.960939, 0.132892, 0.963317]\n",
      " --- Iteration over ALM coefficient: 105 ---\n"
     ]
    },
    {
     "name": "stderr",
     "output_type": "stream",
     "text": [
      "\u001b[32msimulating aggregate path ...100%|██████████████████████| Time: 0:00:02\u001b[39m\n",
      "\u001b[32mSolving individual UMP by Euler method:  Time: 0:00:00 (9 iterations)\u001b[39m-08)\u001b[39m\n",
      "\u001b[32msimulating aggregate path ... 93%|████████████████████  |  ETA: 0:00:00\u001b[39m"
     ]
    },
    {
     "name": "stdout",
     "output_type": "stream",
     "text": [
      "difference of ALM coefficient is 2.3675274851697736e-8 and B = [0.146874, 0.960939, 0.132892, 0.963317]\n",
      " --- Iteration over ALM coefficient: 106 ---\n"
     ]
    },
    {
     "name": "stderr",
     "output_type": "stream",
     "text": [
      "\u001b[32msimulating aggregate path ...100%|██████████████████████| Time: 0:00:02\u001b[39m\n",
      "\u001b[32mSolving individual UMP by Euler method:  Time: 0:00:00 (9 iterations)\u001b[39m-08)\u001b[39m\n",
      "\u001b[32msimulating aggregate path ... 74%|████████████████      |  ETA: 0:00:01\u001b[39m"
     ]
    },
    {
     "name": "stdout",
     "output_type": "stream",
     "text": [
      "difference of ALM coefficient is 2.1270876116030735e-8 and B = [0.146874, 0.960939, 0.132892, 0.963317]\n",
      " --- Iteration over ALM coefficient: 107 ---\n"
     ]
    },
    {
     "name": "stderr",
     "output_type": "stream",
     "text": [
      "\u001b[32msimulating aggregate path ...100%|██████████████████████| Time: 0:00:02\u001b[39m\n",
      "\u001b[32mSolving individual UMP by Euler method:  Time: 0:00:00 (8 iterations)\u001b[39m08)\u001b[39m\n",
      "\u001b[32msimulating aggregate path ... 73%|████████████████      |  ETA: 0:00:01\u001b[39m"
     ]
    },
    {
     "name": "stdout",
     "output_type": "stream",
     "text": [
      "difference of ALM coefficient is 1.9416610569367165e-8 and B = [0.146874, 0.960939, 0.132892, 0.963317]\n",
      " --- Iteration over ALM coefficient: 108 ---\n"
     ]
    },
    {
     "name": "stderr",
     "output_type": "stream",
     "text": [
      "\u001b[32msimulating aggregate path ...100%|██████████████████████| Time: 0:00:02\u001b[39m\n",
      "\u001b[32mSolving individual UMP by Euler method:  Time: 0:00:00 (8 iterations)\u001b[39m-08)\u001b[39m\n",
      "\u001b[32msimulating aggregate path ... 74%|████████████████      |  ETA: 0:00:01\u001b[39m"
     ]
    },
    {
     "name": "stdout",
     "output_type": "stream",
     "text": [
      "difference of ALM coefficient is 1.7361788201553097e-8 and B = [0.146874, 0.960939, 0.132892, 0.963317]\n",
      " --- Iteration over ALM coefficient: 109 ---\n"
     ]
    },
    {
     "name": "stderr",
     "output_type": "stream",
     "text": [
      "\u001b[32msimulating aggregate path ...100%|██████████████████████| Time: 0:00:02\u001b[39m\n",
      "\u001b[32mSolving individual UMP by Euler method:  Time: 0:00:00 (7 iterations)\u001b[39m08)\u001b[39m\n",
      "\u001b[32msimulating aggregate path ... 74%|████████████████      |  ETA: 0:00:01\u001b[39m"
     ]
    },
    {
     "name": "stdout",
     "output_type": "stream",
     "text": [
      "difference of ALM coefficient is 1.5907071271303863e-8 and B = [0.146874, 0.960939, 0.132892, 0.963317]\n",
      " --- Iteration over ALM coefficient: 110 ---\n"
     ]
    },
    {
     "name": "stderr",
     "output_type": "stream",
     "text": [
      "\u001b[32msimulating aggregate path ...100%|██████████████████████| Time: 0:00:02\u001b[39m\n",
      "\u001b[32mSolving individual UMP by Euler method:  Time: 0:00:00 (6 iterations)\u001b[39m-08)\u001b[39m\n",
      "\u001b[32msimulating aggregate path ... 73%|████████████████      |  ETA: 0:00:01\u001b[39m"
     ]
    },
    {
     "name": "stdout",
     "output_type": "stream",
     "text": [
      "difference of ALM coefficient is 1.468659144299167e-8 and B = [0.146874, 0.960939, 0.132892, 0.963317]\n",
      " --- Iteration over ALM coefficient: 111 ---\n"
     ]
    },
    {
     "name": "stderr",
     "output_type": "stream",
     "text": [
      "\u001b[32msimulating aggregate path ...100%|██████████████████████| Time: 0:00:02\u001b[39m\n",
      "\u001b[32mSolving individual UMP by Euler method:  Time: 0:00:00 (6 iterations)\u001b[39m-08)\u001b[39m\n",
      "\u001b[32msimulating aggregate path ... 74%|████████████████      |  ETA: 0:00:01\u001b[39m"
     ]
    },
    {
     "name": "stdout",
     "output_type": "stream",
     "text": [
      "difference of ALM coefficient is 1.318548634166028e-8 and B = [0.146874, 0.960939, 0.132892, 0.963317]\n",
      " --- Iteration over ALM coefficient: 112 ---\n"
     ]
    },
    {
     "name": "stderr",
     "output_type": "stream",
     "text": [
      "\u001b[32msimulating aggregate path ...100%|██████████████████████| Time: 0:00:02\u001b[39m\n",
      "\u001b[32mSolving individual UMP by Euler method:  Time: 0:00:00 (6 iterations)\u001b[39m-08)\u001b[39m\n",
      "\u001b[32msimulating aggregate path ... 74%|████████████████      |  ETA: 0:00:01\u001b[39m"
     ]
    },
    {
     "name": "stdout",
     "output_type": "stream",
     "text": [
      "difference of ALM coefficient is 1.1777319147698861e-8 and B = [0.146874, 0.960939, 0.132892, 0.963317]\n",
      " --- Iteration over ALM coefficient: 113 ---\n"
     ]
    },
    {
     "name": "stderr",
     "output_type": "stream",
     "text": [
      "\u001b[32msimulating aggregate path ...100%|██████████████████████| Time: 0:00:02\u001b[39m\n",
      "\u001b[32msimulating aggregate path ... 74%|████████████████      |  ETA: 0:00:01\u001b[39m"
     ]
    },
    {
     "name": "stdout",
     "output_type": "stream",
     "text": [
      "difference of ALM coefficient is 1.078307437785142e-8 and B = [0.146874, 0.960939, 0.132892, 0.963317]\n",
      " --- Iteration over ALM coefficient: 114 ---\n"
     ]
    },
    {
     "name": "stderr",
     "output_type": "stream",
     "text": [
      "\u001b[32msimulating aggregate path ...100%|██████████████████████| Time: 0:00:02\u001b[39m\n",
      "\u001b[32msimulating aggregate path ... 75%|█████████████████     |  ETA: 0:00:01\u001b[39m"
     ]
    },
    {
     "name": "stdout",
     "output_type": "stream",
     "text": [
      "difference of ALM coefficient is 9.680553608726328e-9 and B = [0.146874, 0.960939, 0.132892, 0.963317]\n",
      "-----------------------------------------------------\n",
      "ALM coefficient successfully converged : dif = 9.680553608726328e-9\n",
      "-----------------------------------------------------\n",
      "1207.564574 seconds (7.95 G allocations: 1.278 TiB, 16.40% gc time)\n"
     ]
    },
    {
     "name": "stderr",
     "output_type": "stream",
     "text": [
      "\r",
      "\u001b[32msimulating aggregate path ...100%|██████████████████████| Time: 0:00:02\u001b[39m\n"
     ]
    }
   ],
   "source": [
    "kss = KSSolution(ksp, load_value=false, load_B=false)\n",
    "ns = NonStochastic(ksp, zi_shocks[1])\n",
    "@time K_ts = find_ALM_coef!(EulerMethod(), \n",
    "            ns, ksp, kss, zi_shocks, \n",
    "            tol_ump = 1e-8, max_iter_ump = 10000,\n",
    "            tol_B = 1e-8, max_iter_B = 500, update_B = 0.3,\n",
    "            T_discard = T_discard);"
   ]
  },
  {
   "cell_type": "code",
   "execution_count": 12,
   "metadata": {},
   "outputs": [
    {
     "data": {
      "image/png": "[encoded data removed]"
     },
     "execution_count": 12,
     "metadata": {},
     "output_type": "execute_result"
    }
   ],
   "source": [
    "plot_ALM(ksp.z_grid, zi_shocks, kss.B,K_ts, T_discard = T_discard)"
   ]
  },
  {
   "cell_type": "code",
   "execution_count": 13,
   "metadata": {},
   "outputs": [
    {
     "name": "stdout",
     "output_type": "stream",
     "text": [
      "Approximated aggregate capital law of motion\n",
      "log(K_{t+1})=0.1468742297741828+0.9609390142949115log(K_{t}) in good time (R2 = 0.9999985643122742)\n",
      "log(K_{t+1})=0.1328919612162856+0.9633166115209159log(K_{t}) in bad time (R2 = 0.9999976186272014)\n"
     ]
    }
   ],
   "source": [
    "#kss.B  # Regression coefficient\n",
    "println(\"Approximated aggregate capital law of motion\")\n",
    "println(\"log(K_{t+1})=$(kss.B[1])+$(kss.B[2])log(K_{t}) in good time (R2 = $(kss.R2[1]))\")\n",
    "println(\"log(K_{t+1})=$(kss.B[3])+$(kss.B[4])log(K_{t}) in bad time (R2 = $(kss.R2[2]))\")"
   ]
  },
  {
   "cell_type": "code",
   "execution_count": 14,
   "metadata": {},
   "outputs": [],
   "source": [
    "@save \"result_Young.jld2\" ksp kss "
   ]
  },
  {
   "cell_type": "code",
   "execution_count": 15,
   "metadata": {},
   "outputs": [
    {
     "name": "stdout",
     "output_type": "stream",
     "text": [
      "mean of capital implied by regression is 40.1009518847617\n",
      "mean of capital implied by simulation is 40.350045260575776\n"
     ]
    }
   ],
   "source": [
    "# Compute mean of capital implied by regression\n",
    "mc=MarkovChain(ksp.transmat.Pz)\n",
    "sd=stationary_distributions(mc)[1]\n",
    "logKg=kss.B[1]/(1-kss.B[2])\n",
    "logKb=kss.B[3]/(1-kss.B[4])\n",
    "meanK_reg=exp(sd[1]*logKg+sd[2]*logKb)\n",
    "meanK_sim=mean(K_ts[T_discard+1:end])\n",
    "println(\"mean of capital implied by regression is $meanK_reg\")\n",
    "println(\"mean of capital implied by simulation is $meanK_sim\")"
   ]
  },
  {
   "cell_type": "markdown",
   "metadata": {},
   "source": [
    "## Figures in Krusell-Smith"
   ]
  },
  {
   "cell_type": "markdown",
   "metadata": {},
   "source": [
    "### Figure 1"
   ]
  },
  {
   "cell_type": "code",
   "execution_count": 16,
   "metadata": {},
   "outputs": [
    {
     "data": {
      "image/png": "[encoded data removed]"
     },
     "execution_count": 16,
     "metadata": {},
     "output_type": "execute_result"
    }
   ],
   "source": [
    "plot_Fig1(ksp ,kss, K_ts)"
   ]
  },
  {
   "cell_type": "markdown",
   "metadata": {},
   "source": [
    "### Figure 2"
   ]
  },
  {
   "cell_type": "code",
   "execution_count": 17,
   "metadata": {},
   "outputs": [
    {
     "data": {
      "image/png": "[encoded data removed]"
     },
     "execution_count": 17,
     "metadata": {},
     "output_type": "execute_result"
    }
   ],
   "source": [
    "plot_Fig2(ksp, kss, 40)"
   ]
  },
  {
   "cell_type": "markdown",
   "metadata": {},
   "source": [
    "# Solution with value function iteration\n",
    "In this section, each agent's utility maximization problem is solved by value function iteration."
   ]
  },
  {
   "cell_type": "markdown",
   "metadata": {},
   "source": [
    "## Implementation"
   ]
  },
  {
   "cell_type": "markdown",
   "metadata": {},
   "source": [
    "Let's skip the following steps in this section to save computational time.\n",
    "- consturuction of `ksp` instance since it is same\n",
    "- consturuction of `kss` instance to use the previous result as initial guess of the solution\n",
    "- draws of the shocks to use same ones"
   ]
  },
  {
   "cell_type": "markdown",
   "metadata": {},
   "source": [
    "However, instead of constructing `kss` again, obtain value from the policy function derived by Euler method:"
   ]
  },
  {
   "cell_type": "code",
   "execution_count": 18,
   "metadata": {},
   "outputs": [],
   "source": [
    "iterate_policy!(ksp, kss, n_iter=30)"
   ]
  },
  {
   "cell_type": "code",
   "execution_count": 19,
   "metadata": {},
   "outputs": [
    {
     "name": "stdout",
     "output_type": "stream",
     "text": [
      " --- Iteration over ALM coefficient: 1 ---\n"
     ]
    },
    {
     "name": "stderr",
     "output_type": "stream",
     "text": [
      "\u001b[32mSolving individual UMP by VFI:  (thresh = 1e-08, value = 1.0106e-08)\u001b[39mm"
     ]
    },
    {
     "name": "stdout",
     "output_type": "stream",
     "text": [
      " ** VFI converged successfully!! dif = 9.994721494877012e-9"
     ]
    },
    {
     "name": "stderr",
     "output_type": "stream",
     "text": [
      "\r",
      "\u001b[32mSolving individual UMP by VFI:  Time: 0:07:40 (1736 iterations)\u001b[39m\n"
     ]
    },
    {
     "name": "stdout",
     "output_type": "stream",
     "text": [
      "\n"
     ]
    },
    {
     "name": "stderr",
     "output_type": "stream",
     "text": [
      "\u001b[32msimulating aggregate path ... 99%|██████████████████████|  ETA: 0:00:01\u001b[39m"
     ]
    },
    {
     "name": "stdout",
     "output_type": "stream",
     "text": [
      "difference of ALM coefficient is 0.40981915138048663 and B = [0.409819, 0.888428, 0.368112, 0.89638]\n",
      " --- Iteration over ALM coefficient: 2 ---\n"
     ]
    },
    {
     "name": "stderr",
     "output_type": "stream",
     "text": [
      "\u001b[32msimulating aggregate path ...100%|██████████████████████| Time: 0:00:44\u001b[39m\n",
      "\u001b[32mSolving individual UMP by VFI:  (thresh = 1e-08, value = 1.08644e-08)\u001b[39m"
     ]
    },
    {
     "name": "stdout",
     "output_type": "stream",
     "text": [
      " ** VFI converged successfully!! dif = 9.904965736495797e-9\n"
     ]
    },
    {
     "name": "stderr",
     "output_type": "stream",
     "text": [
      "\u001b[32mSolving individual UMP by VFI:  Time: 0:05:01 (1108 iterations)\u001b[39m\n",
      "\u001b[32msimulating aggregate path ... 99%|██████████████████████|  ETA: 0:00:01\u001b[39m"
     ]
    },
    {
     "name": "stdout",
     "output_type": "stream",
     "text": [
      "difference of ALM coefficient is 0.03495835157554017 and B = [0.157904, 0.958425, 0.132341, 0.962185]\n",
      " --- Iteration over ALM coefficient: 3 ---\n"
     ]
    },
    {
     "name": "stderr",
     "output_type": "stream",
     "text": [
      "\u001b[32msimulating aggregate path ...100%|██████████████████████| Time: 0:00:48\u001b[39m\n",
      "\u001b[32mSolving individual UMP by VFI:  (thresh = 1e-08, value = 1.00421e-08)\u001b[39m"
     ]
    },
    {
     "name": "stdout",
     "output_type": "stream",
     "text": [
      " ** VFI converged successfully!! dif = 9.930090527632274e-9\n"
     ]
    },
    {
     "name": "stderr",
     "output_type": "stream",
     "text": [
      "\u001b[32mSolving individual UMP by VFI:  Time: 0:06:01 (1277 iterations)\u001b[39m\n",
      "\u001b[32msimulating aggregate path ... 99%|██████████████████████|  ETA: 0:00:01\u001b[39m"
     ]
    },
    {
     "name": "stdout",
     "output_type": "stream",
     "text": [
      "difference of ALM coefficient is 0.026634144848466434 and B = [0.160067, 0.957645, 0.135854, 0.961176]\n",
      " --- Iteration over ALM coefficient: 4 ---\n"
     ]
    },
    {
     "name": "stderr",
     "output_type": "stream",
     "text": [
      "\u001b[32msimulating aggregate path ...100%|██████████████████████| Time: 0:00:52\u001b[39m\n",
      "\u001b[32mSolving individual UMP by VFI:  (thresh = 1e-08, value = 1.00639e-08)\u001b[39m"
     ]
    },
    {
     "name": "stdout",
     "output_type": "stream",
     "text": [
      " ** VFI converged successfully!! dif = 9.951378387995646e-9\n"
     ]
    },
    {
     "name": "stderr",
     "output_type": "stream",
     "text": [
      "\u001b[32mSolving individual UMP by VFI:  Time: 0:05:37 (1188 iterations)\u001b[39m\n",
      "\u001b[32msimulating aggregate path ... 99%|██████████████████████|  ETA: 0:00:00\u001b[39m"
     ]
    },
    {
     "name": "stdout",
     "output_type": "stream",
     "text": [
      "difference of ALM coefficient is 0.019552565786627618 and B = [0.160386, 0.957552, 0.142213, 0.959529]\n",
      " --- Iteration over ALM coefficient: 5 ---\n"
     ]
    },
    {
     "name": "stderr",
     "output_type": "stream",
     "text": [
      "\u001b[32msimulating aggregate path ...100%|██████████████████████| Time: 0:00:49\u001b[39m\n",
      "\u001b[32mSolving individual UMP by VFI:  (thresh = 1e-08, value = 1.0029e-08)\u001b[39mm"
     ]
    },
    {
     "name": "stdout",
     "output_type": "stream",
     "text": [
      " ** VFI converged successfully!! dif = 9.916846011037705e-9\n"
     ]
    },
    {
     "name": "stderr",
     "output_type": "stream",
     "text": [
      "\u001b[32mSolving individual UMP by VFI:  Time: 0:05:32 (1191 iterations)\u001b[39m\n",
      "\u001b[32msimulating aggregate path ...100%|██████████████████████|  ETA: 0:00:00\u001b[39m"
     ]
    },
    {
     "name": "stdout",
     "output_type": "stream",
     "text": [
      "difference of ALM coefficient is 0.018866280640597838 and B = [0.160475, 0.957502, 0.147392, 0.958155]\n",
      " --- Iteration over ALM coefficient: 6 ---"
     ]
    },
    {
     "name": "stderr",
     "output_type": "stream",
     "text": [
      "\r",
      "\u001b[32msimulating aggregate path ...100%|██████████████████████| Time: 0:00:51\u001b[39m\n"
     ]
    },
    {
     "name": "stdout",
     "output_type": "stream",
     "text": [
      "\n"
     ]
    },
    {
     "name": "stderr",
     "output_type": "stream",
     "text": [
      "\u001b[32mSolving individual UMP by VFI:  (thresh = 1e-08, value = 1.00088e-08)\u001b[39m"
     ]
    },
    {
     "name": "stdout",
     "output_type": "stream",
     "text": [
      " ** VFI converged successfully!! dif = 9.89672344076098e-9\n"
     ]
    },
    {
     "name": "stderr",
     "output_type": "stream",
     "text": [
      "\u001b[32mSolving individual UMP by VFI:  Time: 0:06:51 (1168 iterations)\u001b[39m\n",
      "\u001b[32msimulating aggregate path ...100%|██████████████████████|  ETA: 0:00:00\u001b[39m"
     ]
    },
    {
     "name": "stdout",
     "output_type": "stream",
     "text": [
      "difference of ALM coefficient is 0.018469934775198232 and B = [0.160952, 0.957356, 0.152656, 0.956749]\n",
      " --- Iteration over ALM coefficient: 7 ---\n"
     ]
    },
    {
     "name": "stderr",
     "output_type": "stream",
     "text": [
      "\u001b[32msimulating aggregate path ...100%|██████████████████████| Time: 0:01:10\u001b[39m\n",
      "\u001b[32mSolving individual UMP by VFI:  (thresh = 1e-08, value = 1.00861e-08)\u001b[39m"
     ]
    },
    {
     "name": "stdout",
     "output_type": "stream",
     "text": [
      " ** VFI converged successfully!! dif = 9.973092574000475e-9\n"
     ]
    },
    {
     "name": "stderr",
     "output_type": "stream",
     "text": [
      "\u001b[32mSolving individual UMP by VFI:  Time: 0:09:01 (1148 iterations)\u001b[39m\n",
      "\u001b[32msimulating aggregate path ...100%|██████████████████████|  ETA: 0:00:00\u001b[39m"
     ]
    },
    {
     "name": "stdout",
     "output_type": "stream",
     "text": [
      "difference of ALM coefficient is 0.01747340857386273 and B = [0.161412, 0.957213, 0.1572, 0.955522]\n",
      " --- Iteration over ALM coefficient: 8 ---\n"
     ]
    },
    {
     "name": "stderr",
     "output_type": "stream",
     "text": [
      "\u001b[32msimulating aggregate path ...100%|██████████████████████| Time: 0:01:10\u001b[39m\n",
      "\u001b[32mSolving individual UMP by VFI:  (thresh = 1e-08, value = 1.0438e-08)\u001b[39mm"
     ]
    },
    {
     "name": "stdout",
     "output_type": "stream",
     "text": [
      " ** VFI converged successfully!! dif = 9.973575743060792e-9\n"
     ]
    },
    {
     "name": "stderr",
     "output_type": "stream",
     "text": [
      "\u001b[32mSolving individual UMP by VFI:  Time: 0:07:37 (1120 iterations)\u001b[39m\n",
      "\u001b[32msimulating aggregate path ... 99%|██████████████████████|  ETA: 0:00:00\u001b[39m"
     ]
    },
    {
     "name": "stdout",
     "output_type": "stream",
     "text": [
      "difference of ALM coefficient is 0.014772867543207613 and B = [0.161526, 0.957171, 0.159742, 0.954836]\n",
      " --- Iteration over ALM coefficient: 9 ---\n"
     ]
    },
    {
     "name": "stderr",
     "output_type": "stream",
     "text": [
      "\u001b[32msimulating aggregate path ...100%|██████████████████████| Time: 0:01:17\u001b[39m\n",
      "\u001b[32mSolving individual UMP by VFI:  (thresh = 1e-08, value = 1.00105e-08)\u001b[39m"
     ]
    },
    {
     "name": "stdout",
     "output_type": "stream",
     "text": [
      " ** VFI converged successfully!! dif = 9.898343478198512e-9\n"
     ]
    },
    {
     "name": "stderr",
     "output_type": "stream",
     "text": [
      "\u001b[32mSolving individual UMP by VFI:  Time: 0:07:11 (1090 iterations)\u001b[39m\n",
      "\u001b[32msimulating aggregate path ... 99%|██████████████████████|  ETA: 0:00:01\u001b[39m"
     ]
    },
    {
     "name": "stdout",
     "output_type": "stream",
     "text": [
      "difference of ALM coefficient is 0.0119686235844767 and B = [0.161739, 0.957109, 0.161369, 0.954403]\n",
      " --- Iteration over ALM coefficient: 10 ---"
     ]
    },
    {
     "name": "stderr",
     "output_type": "stream",
     "text": [
      "\r",
      "\u001b[32msimulating aggregate path ...100%|██████████████████████|  ETA: 0:00:00\u001b[39m\r",
      "\u001b[32msimulating aggregate path ...100%|██████████████████████| Time: 0:00:49\u001b[39m\n"
     ]
    },
    {
     "name": "stdout",
     "output_type": "stream",
     "text": [
      "\n"
     ]
    },
    {
     "name": "stderr",
     "output_type": "stream",
     "text": [
      "\u001b[32mSolving individual UMP by VFI:  (thresh = 1e-08, value = 1.00715e-08)\u001b[39m"
     ]
    },
    {
     "name": "stdout",
     "output_type": "stream",
     "text": [
      " ** VFI converged successfully!! dif = 9.958569080481539e-9\n"
     ]
    },
    {
     "name": "stderr",
     "output_type": "stream",
     "text": [
      "\u001b[32mSolving individual UMP by VFI:  Time: 0:05:60 (1071 iterations)\u001b[39m\n",
      "\u001b[32msimulating aggregate path ... 99%|██████████████████████|  ETA: 0:00:00\u001b[39m"
     ]
    },
    {
     "name": "stdout",
     "output_type": "stream",
     "text": [
      "difference of ALM coefficient is 0.010121165937028664 and B = [0.162186, 0.956985, 0.163113, 0.953937]\n",
      " --- Iteration over ALM coefficient: 11 ---\n"
     ]
    },
    {
     "name": "stderr",
     "output_type": "stream",
     "text": [
      "\u001b[32msimulating aggregate path ...100%|██████████████████████| Time: 0:00:54\u001b[39m\n",
      "\u001b[32mSolving individual UMP by VFI:  (thresh = 1e-08, value = 1.00076e-08)\u001b[39m"
     ]
    },
    {
     "name": "stdout",
     "output_type": "stream",
     "text": [
      " ** VFI converged successfully!! dif = 9.895472885546042e-9\n"
     ]
    },
    {
     "name": "stderr",
     "output_type": "stream",
     "text": [
      "\u001b[32mSolving individual UMP by VFI:  Time: 0:06:08 (1052 iterations)\u001b[39m\n",
      "\u001b[32msimulating aggregate path ...100%|██████████████████████|  ETA: 0:00:00\u001b[39m"
     ]
    },
    {
     "name": "stdout",
     "output_type": "stream",
     "text": [
      "difference of ALM coefficient is 0.008522055110732618 and B = [0.1625, 0.956897, 0.16455, 0.95355]\n",
      " --- Iteration over ALM coefficient: 12 ---\n"
     ]
    },
    {
     "name": "stderr",
     "output_type": "stream",
     "text": [
      "\u001b[32msimulating aggregate path ...100%|██████████████████████| Time: 0:01:07\u001b[39m\n",
      "\u001b[32mSolving individual UMP by VFI:  (thresh = 1e-08, value = 1.00516e-08)\u001b[39m"
     ]
    },
    {
     "name": "stdout",
     "output_type": "stream",
     "text": [
      " ** VFI converged successfully!! dif = 9.938872835846269e-9\n"
     ]
    },
    {
     "name": "stderr",
     "output_type": "stream",
     "text": [
      "\u001b[32mSolving individual UMP by VFI:  Time: 0:06:28 (1032 iterations)\u001b[39m\n",
      "\u001b[32msimulating aggregate path ...100%|██████████████████████|  ETA: 0:00:00\u001b[39m"
     ]
    },
    {
     "name": "stdout",
     "output_type": "stream",
     "text": [
      "difference of ALM coefficient is 0.006873030896342114 and B = [0.162721, 0.956834, 0.165457, 0.953305]\n",
      " --- Iteration over ALM coefficient: 13 ---\n"
     ]
    },
    {
     "name": "stderr",
     "output_type": "stream",
     "text": [
      "\u001b[32msimulating aggregate path ...100%|██████████████████████| Time: 0:01:10\u001b[39m\n",
      "\u001b[32mSolving individual UMP by VFI:  (thresh = 1e-08, value = 1.00505e-08)\u001b[39m"
     ]
    },
    {
     "name": "stdout",
     "output_type": "stream",
     "text": [
      " ** VFI converged successfully!! dif = 9.937792810887913e-9\n"
     ]
    },
    {
     "name": "stderr",
     "output_type": "stream",
     "text": [
      "\u001b[32mSolving individual UMP by VFI:  Time: 0:04:33 (1005 iterations)\u001b[39m\n",
      "\u001b[32msimulating aggregate path ...100%|██████████████████████|  ETA: 0:00:00\u001b[39m"
     ]
    },
    {
     "name": "stdout",
     "output_type": "stream",
     "text": [
      "difference of ALM coefficient is 0.005497245600604689 and B = [0.16287, 0.956791, 0.166143, 0.953119]\n",
      " --- Iteration over ALM coefficient: 14 ---\n"
     ]
    },
    {
     "name": "stderr",
     "output_type": "stream",
     "text": [
      "\u001b[32msimulating aggregate path ...100%|██████████████████████| Time: 0:01:00\u001b[39m\n",
      "\u001b[32mSolving individual UMP by VFI:  (thresh = 1e-08, value = 1.00345e-08)\u001b[39m"
     ]
    },
    {
     "name": "stdout",
     "output_type": "stream",
     "text": [
      " ** VFI converged successfully!! dif = 9.921933497025748e-9\n"
     ]
    },
    {
     "name": "stderr",
     "output_type": "stream",
     "text": [
      "\u001b[32mSolving individual UMP by VFI:  Time: 0:04:52 (980 iterations)\u001b[39m\n",
      "\u001b[32msimulating aggregate path ...100%|██████████████████████|  ETA: 0:00:00\u001b[39m"
     ]
    },
    {
     "name": "stdout",
     "output_type": "stream",
     "text": [
      "difference of ALM coefficient is 0.00434544318399982 and B = [0.162991, 0.956758, 0.166641, 0.952986]\n",
      " --- Iteration over ALM coefficient: 15 ---\n"
     ]
    },
    {
     "name": "stderr",
     "output_type": "stream",
     "text": [
      "\u001b[32msimulating aggregate path ...100%|██████████████████████| Time: 0:00:51\u001b[39m\n",
      "\u001b[32mSolving individual UMP by VFI:  (thresh = 1e-08, value = 1.05041e-08)\u001b[39m"
     ]
    },
    {
     "name": "stdout",
     "output_type": "stream",
     "text": [
      " ** VFI converged successfully!! dif = 9.795201094675576e-9\n"
     ]
    },
    {
     "name": "stderr",
     "output_type": "stream",
     "text": [
      "\u001b[32mSolving individual UMP by VFI:  Time: 0:04:48 (962 iterations)\u001b[39m\n",
      "\u001b[32msimulating aggregate path ... 98%|██████████████████████|  ETA: 0:00:01\u001b[39m\r"
     ]
    },
    {
     "name": "stdout",
     "output_type": "stream",
     "text": [
      "difference of ALM coefficient is 0.0034499882739223164 and B = [0.163139, 0.956718, 0.167049, 0.952877]\n",
      " --- Iteration over ALM coefficient: 16 ---\n"
     ]
    },
    {
     "name": "stderr",
     "output_type": "stream",
     "text": [
      "\u001b[32msimulating aggregate path ...100%|██████████████████████| Time: 0:00:47\u001b[39m\n",
      "\u001b[32mSolving individual UMP by VFI:  (thresh = 1e-08, value = 1.00627e-08)\u001b[39m"
     ]
    },
    {
     "name": "stdout",
     "output_type": "stream",
     "text": [
      " ** VFI converged successfully!! dif = 9.949815193976974e-9\n"
     ]
    },
    {
     "name": "stderr",
     "output_type": "stream",
     "text": [
      "\u001b[32mSolving individual UMP by VFI:  Time: 0:04:22 (947 iterations)\u001b[39m\n",
      "\u001b[32msimulating aggregate path ... 99%|██████████████████████|  ETA: 0:00:00\u001b[39m"
     ]
    },
    {
     "name": "stdout",
     "output_type": "stream",
     "text": [
      "difference of ALM coefficient is 0.002802292303733439 and B = [0.163272, 0.956681, 0.167436, 0.952774]\n",
      " --- Iteration over ALM coefficient: 17 ---\n"
     ]
    },
    {
     "name": "stderr",
     "output_type": "stream",
     "text": [
      "\u001b[32msimulating aggregate path ...100%|██████████████████████| Time: 0:00:49\u001b[39m\n",
      "\u001b[32mSolving individual UMP by VFI:  (thresh = 1e-08, value = 1.00748e-08)\u001b[39m"
     ]
    },
    {
     "name": "stdout",
     "output_type": "stream",
     "text": [
      " ** VFI converged successfully!! dif = 9.961780733647174e-9\n"
     ]
    },
    {
     "name": "stderr",
     "output_type": "stream",
     "text": [
      "\u001b[32mSolving individual UMP by VFI:  Time: 0:04:17 (929 iterations)\u001b[39m\n",
      "\u001b[32msimulating aggregate path ... 99%|██████████████████████|  ETA: 0:00:01\u001b[39m"
     ]
    },
    {
     "name": "stdout",
     "output_type": "stream",
     "text": [
      "difference of ALM coefficient is 0.002263609523039556 and B = [0.163375, 0.956652, 0.167738, 0.952692]\n",
      " --- Iteration over ALM coefficient: 18 ---\n"
     ]
    },
    {
     "name": "stderr",
     "output_type": "stream",
     "text": [
      "\u001b[32msimulating aggregate path ...100%|██████████████████████| Time: 0:00:46\u001b[39m\n",
      "\u001b[32mSolving individual UMP by VFI:  (thresh = 1e-08, value = 1.00016e-08)\u001b[39m"
     ]
    },
    {
     "name": "stdout",
     "output_type": "stream",
     "text": [
      " ** VFI converged successfully!! dif = 9.889419061437366e-9\n"
     ]
    },
    {
     "name": "stderr",
     "output_type": "stream",
     "text": [
      "\u001b[32mSolving individual UMP by VFI:  Time: 0:04:15 (909 iterations)\u001b[39m\n",
      "\u001b[32msimulating aggregate path ...100%|██████████████████████|  ETA: 0:00:00\u001b[39m"
     ]
    },
    {
     "name": "stdout",
     "output_type": "stream",
     "text": [
      "difference of ALM coefficient is 0.001817939107580796 and B = [0.16345, 0.956632, 0.167972, 0.952629]\n",
      " --- Iteration over ALM coefficient: 19 ---\n"
     ]
    },
    {
     "name": "stderr",
     "output_type": "stream",
     "text": [
      "\u001b[32msimulating aggregate path ...100%|██████████████████████| Time: 0:00:60\u001b[39m\n",
      "\u001b[32mSolving individual UMP by VFI:  (thresh = 1e-08, value = 1.00206e-08)\u001b[39m"
     ]
    },
    {
     "name": "stdout",
     "output_type": "stream",
     "text": [
      " ** VFI converged successfully!! dif = 9.908148967952002e-9\n"
     ]
    },
    {
     "name": "stderr",
     "output_type": "stream",
     "text": [
      "\u001b[32mSolving individual UMP by VFI:  Time: 0:04:20 (886 iterations)\u001b[39m\n",
      "\u001b[32msimulating aggregate path ...100%|██████████████████████|  ETA: 0:00:00\u001b[39m"
     ]
    },
    {
     "name": "stdout",
     "output_type": "stream",
     "text": [
      "difference of ALM coefficient is 0.001447015535256918 and B = [0.163501, 0.956617, 0.168146, 0.952582]\n",
      " --- Iteration over ALM coefficient: 20 ---\n"
     ]
    },
    {
     "name": "stderr",
     "output_type": "stream",
     "text": [
      "\u001b[32msimulating aggregate path ...100%|██████████████████████| Time: 0:00:53\u001b[39m\n",
      "\u001b[32mSolving individual UMP by VFI:  (thresh = 1e-08, value = 1.05623e-08)\u001b[39m"
     ]
    },
    {
     "name": "stdout",
     "output_type": "stream",
     "text": [
      " ** VFI converged successfully!! dif = 9.79409264800779e-9\n"
     ]
    },
    {
     "name": "stderr",
     "output_type": "stream",
     "text": [
      "\u001b[32mSolving individual UMP by VFI:  Time: 0:04:06 (862 iterations)\u001b[39m\n",
      "\u001b[32msimulating aggregate path ... 99%|██████████████████████|  ETA: 0:00:00\u001b[39m"
     ]
    },
    {
     "name": "stdout",
     "output_type": "stream",
     "text": [
      "difference of ALM coefficient is 0.0011372344407999113 and B = [0.163534, 0.956608, 0.168271, 0.952548]\n",
      " --- Iteration over ALM coefficient: 21 ---\n"
     ]
    },
    {
     "name": "stderr",
     "output_type": "stream",
     "text": [
      "\u001b[32msimulating aggregate path ...100%|██████████████████████| Time: 0:00:59\u001b[39m\n",
      "\u001b[32mSolving individual UMP by VFI:  (thresh = 1e-08, value = 1.00682e-08)\u001b[39m"
     ]
    },
    {
     "name": "stdout",
     "output_type": "stream",
     "text": [
      " ** VFI converged successfully!! dif = 9.95518689705932e-9\n"
     ]
    },
    {
     "name": "stderr",
     "output_type": "stream",
     "text": [
      "\u001b[32mSolving individual UMP by VFI:  Time: 0:03:46 (834 iterations)\u001b[39m\n",
      "\u001b[32msimulating aggregate path ... 99%|██████████████████████|  ETA: 0:00:00\u001b[39m"
     ]
    },
    {
     "name": "stdout",
     "output_type": "stream",
     "text": [
      "difference of ALM coefficient is 0.0008842934979758355 and B = [0.163555, 0.956602, 0.168359, 0.952524]\n",
      " --- Iteration over ALM coefficient: 22 ---\n"
     ]
    },
    {
     "name": "stderr",
     "output_type": "stream",
     "text": [
      "\u001b[32msimulating aggregate path ...100%|██████████████████████| Time: 0:00:46\u001b[39m\n",
      "\u001b[32mSolving individual UMP by VFI:  (thresh = 1e-08, value = 1.09122e-08)\u001b[39m"
     ]
    },
    {
     "name": "stdout",
     "output_type": "stream",
     "text": [
      " ** VFI converged successfully!! dif = 9.909769005389535e-9\n"
     ]
    },
    {
     "name": "stderr",
     "output_type": "stream",
     "text": [
      "\u001b[32mSolving individual UMP by VFI:  Time: 0:03:40 (803 iterations)\u001b[39m\n",
      "\u001b[32msimulating aggregate path ...100%|██████████████████████|  ETA: 0:00:00\u001b[39m"
     ]
    },
    {
     "name": "stdout",
     "output_type": "stream",
     "text": [
      "difference of ALM coefficient is 0.000674766024827439 and B = [0.16356, 0.9566, 0.168415, 0.952509]\n",
      " --- Iteration over ALM coefficient: 23 ---\n"
     ]
    },
    {
     "name": "stderr",
     "output_type": "stream",
     "text": [
      "\u001b[32msimulating aggregate path ...100%|██████████████████████| Time: 0:00:54\u001b[39m\n",
      "\u001b[32mSolving individual UMP by VFI:  (thresh = 1e-08, value = 1.00112e-08)\u001b[39m"
     ]
    },
    {
     "name": "stdout",
     "output_type": "stream",
     "text": [
      " ** VFI converged successfully!! dif = 9.898798225549399e-9\n"
     ]
    },
    {
     "name": "stderr",
     "output_type": "stream",
     "text": [
      "\u001b[32mSolving individual UMP by VFI:  Time: 0:04:32 (775 iterations)\u001b[39m\n",
      "\u001b[32msimulating aggregate path ... 99%|██████████████████████|  ETA: 0:00:01\u001b[39m"
     ]
    },
    {
     "name": "stdout",
     "output_type": "stream",
     "text": [
      "difference of ALM coefficient is 0.0005106194139591347 and B = [0.163563, 0.9566, 0.168453, 0.952499]\n",
      " --- Iteration over ALM coefficient: 24 ---\n"
     ]
    },
    {
     "name": "stderr",
     "output_type": "stream",
     "text": [
      "\u001b[32msimulating aggregate path ...100%|██████████████████████| Time: 0:00:48\u001b[39m\n",
      "\u001b[32mSolving individual UMP by VFI:  (thresh = 1e-08, value = 1.00563e-08)\u001b[39m"
     ]
    },
    {
     "name": "stdout",
     "output_type": "stream",
     "text": [
      " ** VFI converged successfully!! dif = 9.943363465936272e-9\n"
     ]
    },
    {
     "name": "stderr",
     "output_type": "stream",
     "text": [
      "\u001b[32mSolving individual UMP by VFI:  Time: 0:03:56 (747 iterations)\u001b[39m\n",
      "\u001b[32msimulating aggregate path ... 99%|██████████████████████|  ETA: 0:00:00\u001b[39m"
     ]
    },
    {
     "name": "stdout",
     "output_type": "stream",
     "text": [
      "difference of ALM coefficient is 0.0003846782282793948 and B = [0.163565, 0.956599, 0.16848, 0.952492]\n",
      " --- Iteration over ALM coefficient: 25 ---\n"
     ]
    },
    {
     "name": "stderr",
     "output_type": "stream",
     "text": [
      "\u001b[32msimulating aggregate path ...100%|██████████████████████| Time: 0:00:46\u001b[39m\n",
      "\u001b[32mSolving individual UMP by VFI:  (thresh = 1e-08, value = 1.00062e-08)\u001b[39m"
     ]
    },
    {
     "name": "stdout",
     "output_type": "stream",
     "text": [
      " ** VFI converged successfully!! dif = 9.893796004689648e-9\n"
     ]
    },
    {
     "name": "stderr",
     "output_type": "stream",
     "text": [
      "\u001b[32mSolving individual UMP by VFI:  Time: 0:03:26 (720 iterations)\u001b[39m\n",
      "\u001b[32msimulating aggregate path ... 99%|██████████████████████|  ETA: 0:00:00\u001b[39m"
     ]
    },
    {
     "name": "stdout",
     "output_type": "stream",
     "text": [
      "difference of ALM coefficient is 0.0002888812961046039 and B = [0.163566, 0.956599, 0.1685, 0.952486]\n",
      " --- Iteration over ALM coefficient: 26 ---\n"
     ]
    },
    {
     "name": "stderr",
     "output_type": "stream",
     "text": [
      "\u001b[32msimulating aggregate path ...100%|██████████████████████| Time: 0:00:58\u001b[39m\n",
      "\u001b[32mSolving individual UMP by VFI:  (thresh = 1e-08, value = 1.01011e-08)\u001b[39m"
     ]
    },
    {
     "name": "stdout",
     "output_type": "stream",
     "text": [
      " ** VFI converged successfully!! dif = 9.987587645809981e-9\n"
     ]
    },
    {
     "name": "stderr",
     "output_type": "stream",
     "text": [
      "\u001b[32mSolving individual UMP by VFI:  Time: 0:03:20 (692 iterations)\u001b[39m\n",
      "\u001b[32msimulating aggregate path ... 98%|█████████████████████ |  ETA: 0:00:01\u001b[39m\r"
     ]
    },
    {
     "name": "stdout",
     "output_type": "stream",
     "text": [
      "difference of ALM coefficient is 0.00021643666432391573 and B = [0.163567, 0.956599, 0.168514, 0.952482]\n",
      " --- Iteration over ALM coefficient: 27 ---\n"
     ]
    },
    {
     "name": "stderr",
     "output_type": "stream",
     "text": [
      "\u001b[32msimulating aggregate path ...100%|██████████████████████| Time: 0:00:47\u001b[39m\n",
      "\u001b[32mSolving individual UMP by VFI:  (thresh = 1e-08, value = 1.01056e-08)\u001b[39m"
     ]
    },
    {
     "name": "stdout",
     "output_type": "stream",
     "text": [
      " ** VFI converged successfully!! dif = 9.991936167352833e-9"
     ]
    },
    {
     "name": "stderr",
     "output_type": "stream",
     "text": [
      "\r",
      "\u001b[32mSolving individual UMP by VFI:  Time: 0:02:59 (665 iterations)\u001b[39m\n"
     ]
    },
    {
     "name": "stdout",
     "output_type": "stream",
     "text": [
      "\n"
     ]
    },
    {
     "name": "stderr",
     "output_type": "stream",
     "text": [
      "\u001b[32msimulating aggregate path ... 99%|██████████████████████|  ETA: 0:00:00\u001b[39m"
     ]
    },
    {
     "name": "stdout",
     "output_type": "stream",
     "text": [
      "difference of ALM coefficient is 0.0001618659953891155 and B = [0.163567, 0.956598, 0.168524, 0.95248]\n",
      " --- Iteration over ALM coefficient: 28 ---"
     ]
    },
    {
     "name": "stderr",
     "output_type": "stream",
     "text": [
      "\r",
      "\u001b[32msimulating aggregate path ...100%|██████████████████████| Time: 0:00:47\u001b[39m\n"
     ]
    },
    {
     "name": "stdout",
     "output_type": "stream",
     "text": [
      "\n"
     ]
    },
    {
     "name": "stderr",
     "output_type": "stream",
     "text": [
      "\u001b[32mSolving individual UMP by VFI:  (thresh = 1e-08, value = 1.0001e-08)\u001b[39mm"
     ]
    },
    {
     "name": "stdout",
     "output_type": "stream",
     "text": [
      " ** VFI converged successfully!! dif = 9.888594831863884e-9\n"
     ]
    },
    {
     "name": "stderr",
     "output_type": "stream",
     "text": [
      "\u001b[32mSolving individual UMP by VFI:  Time: 0:02:49 (639 iterations)\u001b[39m\n",
      "\u001b[32msimulating aggregate path ...100%|██████████████████████|  ETA: 0:00:00\u001b[39m"
     ]
    },
    {
     "name": "stdout",
     "output_type": "stream",
     "text": [
      "difference of ALM coefficient is 0.00012089161058800868 and B = [0.163567, 0.956598, 0.168532, 0.952478]\n",
      " --- Iteration over ALM coefficient: 29 ---\n"
     ]
    },
    {
     "name": "stderr",
     "output_type": "stream",
     "text": [
      "\u001b[32msimulating aggregate path ...100%|██████████████████████| Time: 0:00:47\u001b[39m\n",
      "\u001b[32mSolving individual UMP by VFI:  (thresh = 1e-08, value = 1.00253e-08)\u001b[39m"
     ]
    },
    {
     "name": "stdout",
     "output_type": "stream",
     "text": [
      " ** VFI converged successfully!! dif = 9.912412224366562e-9\n"
     ]
    },
    {
     "name": "stderr",
     "output_type": "stream",
     "text": [
      "\u001b[32mSolving individual UMP by VFI:  Time: 0:02:44 (612 iterations)\u001b[39m\n",
      "\u001b[32msimulating aggregate path ... 99%|██████████████████████|  ETA: 0:00:01\u001b[39m"
     ]
    },
    {
     "name": "stdout",
     "output_type": "stream",
     "text": [
      "difference of ALM coefficient is 9.022288681753698e-5 and B = [0.163567, 0.956598, 0.168537, 0.952476]\n",
      " --- Iteration over ALM coefficient: 30 ---\n"
     ]
    },
    {
     "name": "stderr",
     "output_type": "stream",
     "text": [
      "\u001b[32msimulating aggregate path ...100%|██████████████████████| Time: 0:00:51\u001b[39m\n",
      "\u001b[32mSolving individual UMP by VFI:  (thresh = 1e-08, value = 1.00806e-08)\u001b[39m"
     ]
    },
    {
     "name": "stdout",
     "output_type": "stream",
     "text": [
      " ** VFI converged successfully!! dif = 9.967209280148381e-9\n"
     ]
    },
    {
     "name": "stderr",
     "output_type": "stream",
     "text": [
      "\u001b[32mSolving individual UMP by VFI:  Time: 0:02:46 (585 iterations)\u001b[39m\n",
      "\u001b[32msimulating aggregate path ... 99%|██████████████████████|  ETA: 0:00:01\u001b[39m"
     ]
    },
    {
     "name": "stdout",
     "output_type": "stream",
     "text": [
      "difference of ALM coefficient is 6.736765290665803e-5 and B = [0.163568, 0.956598, 0.168542, 0.952475]\n"
     ]
    },
    {
     "name": "stderr",
     "output_type": "stream",
     "text": [
      "\r",
      "\u001b[32msimulating aggregate path ...100%|██████████████████████|  ETA: 0:00:00\u001b[39m\r",
      "\u001b[32msimulating aggregate path ...100%|██████████████████████| Time: 0:00:47\u001b[39m\n"
     ]
    },
    {
     "name": "stdout",
     "output_type": "stream",
     "text": [
      " --- Iteration over ALM coefficient: 31 ---\n"
     ]
    },
    {
     "name": "stderr",
     "output_type": "stream",
     "text": [
      "\u001b[32mSolving individual UMP by VFI:  (thresh = 1e-08, value = 1.00151e-08)\u001b[39m"
     ]
    },
    {
     "name": "stdout",
     "output_type": "stream",
     "text": [
      " ** VFI converged successfully!! dif = 9.90237936093763e-9\n"
     ]
    },
    {
     "name": "stderr",
     "output_type": "stream",
     "text": [
      "\u001b[32mSolving individual UMP by VFI:  Time: 0:02:27 (559 iterations)\u001b[39m\n",
      "\u001b[32msimulating aggregate path ...100%|██████████████████████|  ETA: 0:00:00\u001b[39m"
     ]
    },
    {
     "name": "stdout",
     "output_type": "stream",
     "text": [
      "difference of ALM coefficient is 5.021474791880309e-5 and B = [0.163568, 0.956598, 0.168545, 0.952474]\n",
      " --- Iteration over ALM coefficient: 32 ---\n"
     ]
    },
    {
     "name": "stderr",
     "output_type": "stream",
     "text": [
      "\u001b[32msimulating aggregate path ...100%|██████████████████████| Time: 0:00:47\u001b[39m\n",
      "\u001b[32mSolving individual UMP by VFI:  (thresh = 1e-08, value = 1.01075e-08)\u001b[39m"
     ]
    },
    {
     "name": "stdout",
     "output_type": "stream",
     "text": [
      " ** VFI converged successfully!! dif = 9.993783578465809e-9\n"
     ]
    },
    {
     "name": "stderr",
     "output_type": "stream",
     "text": [
      "\u001b[32mSolving individual UMP by VFI:  Time: 0:02:20 (532 iterations)\u001b[39m\n",
      "\u001b[32msimulating aggregate path ... 99%|██████████████████████|  ETA: 0:00:00\u001b[39m"
     ]
    },
    {
     "name": "stdout",
     "output_type": "stream",
     "text": [
      "difference of ALM coefficient is 3.742629943176423e-5 and B = [0.163568, 0.956598, 0.168547, 0.952474]\n",
      " --- Iteration over ALM coefficient: 33 ---\n"
     ]
    },
    {
     "name": "stderr",
     "output_type": "stream",
     "text": [
      "\u001b[32msimulating aggregate path ...100%|██████████████████████| Time: 0:00:46\u001b[39m\n",
      "\u001b[32mSolving individual UMP by VFI:  (thresh = 1e-08, value = 1.00571e-08)\u001b[39m"
     ]
    },
    {
     "name": "stdout",
     "output_type": "stream",
     "text": [
      " ** VFI converged successfully!! dif = 9.94387505670602e-9\n"
     ]
    },
    {
     "name": "stderr",
     "output_type": "stream",
     "text": [
      "\u001b[32mSolving individual UMP by VFI:  Time: 0:02:22 (506 iterations)\u001b[39m\n",
      "\u001b[32msimulating aggregate path ... 99%|██████████████████████|  ETA: 0:00:00\u001b[39m"
     ]
    },
    {
     "name": "stdout",
     "output_type": "stream",
     "text": [
      "difference of ALM coefficient is 2.7849838421550865e-5 and B = [0.163568, 0.956598, 0.168549, 0.952473]\n",
      " --- Iteration over ALM coefficient: 34 ---\n"
     ]
    },
    {
     "name": "stderr",
     "output_type": "stream",
     "text": [
      "\u001b[32msimulating aggregate path ...100%|██████████████████████| Time: 0:00:60\u001b[39m\n",
      "\u001b[32mSolving individual UMP by VFI:  (thresh = 1e-08, value = 1.18309e-08)\u001b[39m"
     ]
    },
    {
     "name": "stdout",
     "output_type": "stream",
     "text": [
      " ** VFI converged successfully!! dif = 9.914003840094665e-9\n"
     ]
    },
    {
     "name": "stderr",
     "output_type": "stream",
     "text": [
      "\u001b[32mSolving individual UMP by VFI:  Time: 0:02:16 (480 iterations)\u001b[39m\n",
      "\u001b[32msimulating aggregate path ... 99%|██████████████████████|  ETA: 0:00:01\u001b[39m"
     ]
    },
    {
     "name": "stdout",
     "output_type": "stream",
     "text": [
      "difference of ALM coefficient is 2.06760543511042e-5 and B = [0.163568, 0.956598, 0.16855, 0.952473]\n",
      " --- Iteration over ALM coefficient: 35 ---\n"
     ]
    },
    {
     "name": "stderr",
     "output_type": "stream",
     "text": [
      "\u001b[32msimulating aggregate path ...100%|██████████████████████| Time: 0:00:49\u001b[39m\n",
      "\u001b[32mSolving individual UMP by VFI:  (thresh = 1e-08, value = 1.00188e-08)\u001b[39m"
     ]
    },
    {
     "name": "stdout",
     "output_type": "stream",
     "text": [
      " ** VFI converged successfully!! dif = 9.90593207461643e-9\n"
     ]
    },
    {
     "name": "stderr",
     "output_type": "stream",
     "text": [
      "\u001b[32mSolving individual UMP by VFI:  Time: 0:02:06 (454 iterations)\u001b[39m\n",
      "\u001b[32msimulating aggregate path ... 99%|██████████████████████|  ETA: 0:00:00\u001b[39m"
     ]
    },
    {
     "name": "stdout",
     "output_type": "stream",
     "text": [
      "difference of ALM coefficient is 1.548831099887349e-5 and B = [0.163568, 0.956598, 0.168551, 0.952472]\n",
      " --- Iteration over ALM coefficient: 36 ---\n"
     ]
    },
    {
     "name": "stderr",
     "output_type": "stream",
     "text": [
      "\u001b[32msimulating aggregate path ...100%|██████████████████████| Time: 0:00:49\u001b[39m\n",
      "\u001b[32mSolving individual UMP by VFI:  (thresh = 1e-08, value = 1.00035e-08)\u001b[39m"
     ]
    },
    {
     "name": "stdout",
     "output_type": "stream",
     "text": [
      " ** VFI converged successfully!! dif = 9.890754881780595e-9"
     ]
    },
    {
     "name": "stderr",
     "output_type": "stream",
     "text": [
      "\r",
      "\u001b[32mSolving individual UMP by VFI:  Time: 0:02:02 (428 iterations)\u001b[39m\n"
     ]
    },
    {
     "name": "stdout",
     "output_type": "stream",
     "text": [
      "\n"
     ]
    },
    {
     "name": "stderr",
     "output_type": "stream",
     "text": [
      "\u001b[32msimulating aggregate path ... 99%|██████████████████████|  ETA: 0:00:01\u001b[39m"
     ]
    },
    {
     "name": "stdout",
     "output_type": "stream",
     "text": [
      "difference of ALM coefficient is 1.1489728392627407e-5 and B = [0.163568, 0.956598, 0.168551, 0.952472]\n",
      " --- Iteration over ALM coefficient: 37 ---\n"
     ]
    },
    {
     "name": "stderr",
     "output_type": "stream",
     "text": [
      "\u001b[32msimulating aggregate path ...100%|██████████████████████| Time: 0:00:47\u001b[39m\n",
      "\u001b[32mSolving individual UMP by VFI:  (thresh = 1e-08, value = 1.01666e-08)\u001b[39m"
     ]
    },
    {
     "name": "stdout",
     "output_type": "stream",
     "text": [
      " ** VFI converged successfully!! dif = 9.998188943427522e-9\n"
     ]
    },
    {
     "name": "stderr",
     "output_type": "stream",
     "text": [
      "\u001b[32mSolving individual UMP by VFI:  Time: 0:01:47 (401 iterations)\u001b[39m\n",
      "\u001b[32msimulating aggregate path ... 99%|██████████████████████|  ETA: 0:00:01\u001b[39m"
     ]
    },
    {
     "name": "stdout",
     "output_type": "stream",
     "text": [
      "difference of ALM coefficient is 8.54165943242613e-6 and B = [0.163568, 0.956598, 0.168552, 0.952472]\n",
      " --- Iteration over ALM coefficient: 38 ---\n"
     ]
    },
    {
     "name": "stderr",
     "output_type": "stream",
     "text": [
      "\u001b[32msimulating aggregate path ...100%|██████████████████████| Time: 0:00:47\u001b[39m\n",
      "\u001b[32mSolving individual UMP by VFI:  (thresh = 1e-08, value = 1.01127e-08)\u001b[39m"
     ]
    },
    {
     "name": "stdout",
     "output_type": "stream",
     "text": [
      " ** VFI converged successfully!! dif = 9.998615269068978e-9\n"
     ]
    },
    {
     "name": "stderr",
     "output_type": "stream",
     "text": [
      "\u001b[32mSolving individual UMP by VFI:  Time: 0:01:38 (375 iterations)\u001b[39m\n",
      "\u001b[32msimulating aggregate path ... 99%|██████████████████████|  ETA: 0:00:00\u001b[39m"
     ]
    },
    {
     "name": "stdout",
     "output_type": "stream",
     "text": [
      "difference of ALM coefficient is 6.390070626305366e-6 and B = [0.163568, 0.956598, 0.168552, 0.952472]\n",
      " --- Iteration over ALM coefficient: 39 ---\n"
     ]
    },
    {
     "name": "stderr",
     "output_type": "stream",
     "text": [
      "\u001b[32msimulating aggregate path ...100%|██████████████████████| Time: 0:00:47\u001b[39m\n",
      "\u001b[32mSolving individual UMP by VFI:  (thresh = 1e-08, value = 1.00221e-08)\u001b[39m"
     ]
    },
    {
     "name": "stdout",
     "output_type": "stream",
     "text": [
      " ** VFI converged successfully!! dif = 9.909143727782066e-9\n"
     ]
    },
    {
     "name": "stderr",
     "output_type": "stream",
     "text": [
      "\u001b[32mSolving individual UMP by VFI:  Time: 0:01:33 (350 iterations)\u001b[39m\n",
      "\u001b[32msimulating aggregate path ... 99%|██████████████████████|  ETA: 0:00:00\u001b[39m"
     ]
    },
    {
     "name": "stdout",
     "output_type": "stream",
     "text": [
      "difference of ALM coefficient is 4.754735674711297e-6 and B = [0.163568, 0.956598, 0.168553, 0.952472]\n",
      " --- Iteration over ALM coefficient: 40 ---\n"
     ]
    },
    {
     "name": "stderr",
     "output_type": "stream",
     "text": [
      "\u001b[32msimulating aggregate path ...100%|██████████████████████| Time: 0:00:49\u001b[39m\n",
      "\u001b[32mSolving individual UMP by VFI:  (thresh = 1e-08, value = 1.00272e-08)\u001b[39m"
     ]
    },
    {
     "name": "stdout",
     "output_type": "stream",
     "text": [
      " ** VFI converged successfully!! dif = 9.913833309838083e-9\n"
     ]
    },
    {
     "name": "stderr",
     "output_type": "stream",
     "text": [
      "\u001b[32mSolving individual UMP by VFI:  Time: 0:01:33 (325 iterations)\u001b[39m\n",
      "\u001b[32msimulating aggregate path ...100%|██████████████████████|  ETA: 0:00:00\u001b[39m"
     ]
    },
    {
     "name": "stdout",
     "output_type": "stream",
     "text": [
      "difference of ALM coefficient is 3.5262605686259274e-6 and B = [0.163568, 0.956598, 0.168553, 0.952472]\n",
      " --- Iteration over ALM coefficient: 41 ---"
     ]
    },
    {
     "name": "stderr",
     "output_type": "stream",
     "text": [
      "\r",
      "\u001b[32msimulating aggregate path ...100%|██████████████████████| Time: 0:00:48\u001b[39m\n"
     ]
    },
    {
     "name": "stdout",
     "output_type": "stream",
     "text": [
      "\n"
     ]
    },
    {
     "name": "stderr",
     "output_type": "stream",
     "text": [
      "\u001b[32mSolving individual UMP by VFI:  (thresh = 1e-08, value = 1.00666e-08)\u001b[39m"
     ]
    },
    {
     "name": "stdout",
     "output_type": "stream",
     "text": [
      " ** VFI converged successfully!! dif = 9.952827895176597e-9\n"
     ]
    },
    {
     "name": "stderr",
     "output_type": "stream",
     "text": [
      "\u001b[32mSolving individual UMP by VFI:  Time: 0:01:19 (299 iterations)\u001b[39m\n",
      "\u001b[32msimulating aggregate path ... 99%|██████████████████████|  ETA: 0:00:01\u001b[39m"
     ]
    },
    {
     "name": "stdout",
     "output_type": "stream",
     "text": [
      "difference of ALM coefficient is 2.6084375954193995e-6 and B = [0.163568, 0.956598, 0.168553, 0.952472]\n",
      " --- Iteration over ALM coefficient: 42 ---\n"
     ]
    },
    {
     "name": "stderr",
     "output_type": "stream",
     "text": [
      "\u001b[32msimulating aggregate path ...100%|██████████████████████| Time: 0:00:47\u001b[39m\n",
      "\u001b[32mSolving individual UMP by VFI:  (thresh = 1e-08, value = 1.01039e-08)\u001b[39m"
     ]
    },
    {
     "name": "stdout",
     "output_type": "stream",
     "text": [
      " ** VFI converged successfully!! dif = 9.98960558717954e-9\n"
     ]
    },
    {
     "name": "stderr",
     "output_type": "stream",
     "text": [
      "\u001b[32mSolving individual UMP by VFI:  Time: 0:01:12 (272 iterations)\u001b[39m\n",
      "\u001b[32msimulating aggregate path ... 99%|██████████████████████|  ETA: 0:00:01\u001b[39m"
     ]
    },
    {
     "name": "stdout",
     "output_type": "stream",
     "text": [
      "difference of ALM coefficient is 1.945662049473995e-6 and B = [0.163568, 0.956598, 0.168553, 0.952472]\n",
      " --- Iteration over ALM coefficient: 43 ---\n"
     ]
    },
    {
     "name": "stderr",
     "output_type": "stream",
     "text": [
      "\u001b[32msimulating aggregate path ...100%|██████████████████████| Time: 0:00:46\u001b[39m\n",
      "\u001b[32mSolving individual UMP by VFI:  (thresh = 1e-08, value = 1.00068e-08)\u001b[39m"
     ]
    },
    {
     "name": "stdout",
     "output_type": "stream",
     "text": [
      " ** VFI converged successfully!! dif = 9.893682317851926e-9\n"
     ]
    },
    {
     "name": "stderr",
     "output_type": "stream",
     "text": [
      "\u001b[32mSolving individual UMP by VFI:  Time: 0:01:06 (250 iterations)\u001b[39m\n",
      "\u001b[32msimulating aggregate path ... 99%|██████████████████████|  ETA: 0:00:01\u001b[39m"
     ]
    },
    {
     "name": "stdout",
     "output_type": "stream",
     "text": [
      "difference of ALM coefficient is 1.459830877736934e-6 and B = [0.163568, 0.956598, 0.168553, 0.952472]\n",
      " --- Iteration over ALM coefficient: 44 ---\n"
     ]
    },
    {
     "name": "stderr",
     "output_type": "stream",
     "text": [
      "\u001b[32msimulating aggregate path ...100%|██████████████████████| Time: 0:00:46\u001b[39m\n",
      "\u001b[32mSolving individual UMP by VFI:  (thresh = 1e-08, value = 1.00324e-08)\u001b[39m"
     ]
    },
    {
     "name": "stdout",
     "output_type": "stream",
     "text": [
      " ** VFI converged successfully!! dif = 9.918636578731821e-9\n"
     ]
    },
    {
     "name": "stderr",
     "output_type": "stream",
     "text": [
      "\u001b[32mSolving individual UMP by VFI:  Time: 0:00:59 (226 iterations)\u001b[39m\n",
      "\u001b[32msimulating aggregate path ... 99%|██████████████████████|  ETA: 0:00:01\u001b[39m"
     ]
    },
    {
     "name": "stdout",
     "output_type": "stream",
     "text": [
      "difference of ALM coefficient is 1.082145164671422e-6 and B = [0.163568, 0.956598, 0.168553, 0.952472]\n",
      " --- Iteration over ALM coefficient: 45 ---\n"
     ]
    },
    {
     "name": "stderr",
     "output_type": "stream",
     "text": [
      "\u001b[32msimulating aggregate path ...100%|██████████████████████| Time: 0:00:48\u001b[39m\n",
      "\u001b[32mSolving individual UMP by VFI:  (thresh = 1e-08, value = 1.00874e-08)\u001b[39m"
     ]
    },
    {
     "name": "stdout",
     "output_type": "stream",
     "text": [
      " ** VFI converged successfully!! dif = 9.973206260838197e-9\n"
     ]
    },
    {
     "name": "stderr",
     "output_type": "stream",
     "text": [
      "\u001b[32mSolving individual UMP by VFI:  Time: 0:00:56 (203 iterations)\u001b[39m\n",
      "\u001b[32msimulating aggregate path ...100%|██████████████████████|  ETA: 0:00:00\u001b[39m"
     ]
    },
    {
     "name": "stdout",
     "output_type": "stream",
     "text": [
      "difference of ALM coefficient is 8.559059145596404e-7 and B = [0.163568, 0.956598, 0.168553, 0.952472]\n",
      " --- Iteration over ALM coefficient: 46 ---"
     ]
    },
    {
     "name": "stderr",
     "output_type": "stream",
     "text": [
      "\r",
      "\u001b[32msimulating aggregate path ...100%|██████████████████████| Time: 0:00:47\u001b[39m\n"
     ]
    },
    {
     "name": "stdout",
     "output_type": "stream",
     "text": [
      "\n"
     ]
    },
    {
     "name": "stderr",
     "output_type": "stream",
     "text": [
      "\u001b[32mSolving individual UMP by VFI:  (thresh = 1e-08, value = 1.00173e-08)\u001b[39m"
     ]
    },
    {
     "name": "stdout",
     "output_type": "stream",
     "text": [
      " ** VFI converged successfully!! dif = 9.903601494443137e-9\n"
     ]
    },
    {
     "name": "stderr",
     "output_type": "stream",
     "text": [
      "\u001b[32mSolving individual UMP by VFI:  Time: 0:00:45 (177 iterations)\u001b[39m\n",
      "\u001b[32msimulating aggregate path ...100%|██████████████████████|  ETA: 0:00:00\u001b[39m"
     ]
    },
    {
     "name": "stdout",
     "output_type": "stream",
     "text": [
      "difference of ALM coefficient is 5.928801917465254e-7 and B = [0.163568, 0.956598, 0.168553, 0.952472]\n",
      " --- Iteration over ALM coefficient: 47 ---\n"
     ]
    },
    {
     "name": "stderr",
     "output_type": "stream",
     "text": [
      "\u001b[32msimulating aggregate path ...100%|██████████████████████| Time: 0:00:46\u001b[39m\n",
      "\u001b[32mSolving individual UMP by VFI:  (thresh = 1e-08, value = 1.01044e-08)\u001b[39m"
     ]
    },
    {
     "name": "stdout",
     "output_type": "stream",
     "text": [
      " ** VFI converged successfully!! dif = 9.989207683247514e-9\n"
     ]
    },
    {
     "name": "stderr",
     "output_type": "stream",
     "text": [
      "\u001b[32mSolving individual UMP by VFI:  Time: 0:00:41 (160 iterations)\u001b[39m\n",
      "\u001b[32msimulating aggregate path ...100%|██████████████████████|  ETA: 0:00:00\u001b[39m"
     ]
    },
    {
     "name": "stdout",
     "output_type": "stream",
     "text": [
      "difference of ALM coefficient is 4.5856017519274594e-7 and B = [0.163568, 0.956598, 0.168553, 0.952472]\n",
      " --- Iteration over ALM coefficient: 48 ---\n"
     ]
    },
    {
     "name": "stderr",
     "output_type": "stream",
     "text": [
      "\u001b[32msimulating aggregate path ...100%|██████████████████████| Time: 0:00:47\u001b[39m\n",
      "\u001b[32mSolving individual UMP by VFI:  (thresh = 1e-08, value = 1.00582e-08)\u001b[39m"
     ]
    },
    {
     "name": "stdout",
     "output_type": "stream",
     "text": [
      " ** VFI converged successfully!! dif = 9.941715006789309e-9\n"
     ]
    },
    {
     "name": "stderr",
     "output_type": "stream",
     "text": [
      "\u001b[32mSolving individual UMP by VFI:  Time: 0:00:37 (135 iterations)\u001b[39m\n",
      "\u001b[32msimulating aggregate path ... 99%|██████████████████████|  ETA: 0:00:01\u001b[39m"
     ]
    },
    {
     "name": "stdout",
     "output_type": "stream",
     "text": [
      "difference of ALM coefficient is 3.0224917219046077e-7 and B = [0.163568, 0.956598, 0.168553, 0.952472]\n",
      " --- Iteration over ALM coefficient: 49 ---\n"
     ]
    },
    {
     "name": "stderr",
     "output_type": "stream",
     "text": [
      "\u001b[32msimulating aggregate path ...100%|██████████████████████| Time: 0:00:46\u001b[39m\n",
      "\u001b[32mSolving individual UMP by VFI:  (thresh = 1e-08, value = 1.00386e-08)\u001b[39m"
     ]
    },
    {
     "name": "stdout",
     "output_type": "stream",
     "text": [
      " ** VFI converged successfully!! dif = 9.919830290527898e-9\n"
     ]
    },
    {
     "name": "stderr",
     "output_type": "stream",
     "text": [
      "\u001b[32mSolving individual UMP by VFI:  Time: 0:00:30 (114 iterations)\u001b[39m\n",
      "\u001b[32msimulating aggregate path ... 99%|██████████████████████|  ETA: 0:00:01\u001b[39m"
     ]
    },
    {
     "name": "stdout",
     "output_type": "stream",
     "text": [
      "difference of ALM coefficient is 2.7203723515500933e-7 and B = [0.163568, 0.956598, 0.168553, 0.952472]\n",
      " --- Iteration over ALM coefficient: 50 ---\n"
     ]
    },
    {
     "name": "stderr",
     "output_type": "stream",
     "text": [
      "\u001b[32msimulating aggregate path ...100%|██████████████████████| Time: 0:00:46\u001b[39m\n",
      "\u001b[32mSolving individual UMP by VFI:  (thresh = 1e-08, value = 1.01553e-08)\u001b[39m\r"
     ]
    },
    {
     "name": "stdout",
     "output_type": "stream",
     "text": [
      " ** VFI converged successfully!! dif = 9.900105624183198e-9\n"
     ]
    },
    {
     "name": "stderr",
     "output_type": "stream",
     "text": [
      "\u001b[32mSolving individual UMP by VFI:  Time: 0:00:26 (102 iterations)\u001b[39m8)\u001b[39m\n",
      "\u001b[32msimulating aggregate path ... 99%|██████████████████████|  ETA: 0:00:00\u001b[39m"
     ]
    },
    {
     "name": "stdout",
     "output_type": "stream",
     "text": [
      "difference of ALM coefficient is 2.3695260301104248e-7 and B = [0.163568, 0.956598, 0.168554, 0.952472]\n",
      " --- Iteration over ALM coefficient: 51 ---\n"
     ]
    },
    {
     "name": "stderr",
     "output_type": "stream",
     "text": [
      "\u001b[32msimulating aggregate path ...100%|██████████████████████| Time: 0:00:46\u001b[39m\n",
      "\u001b[32mSolving individual UMP by VFI:  (thresh = 1e-08, value = 1.00491e-08)\u001b[39m"
     ]
    },
    {
     "name": "stdout",
     "output_type": "stream",
     "text": [
      " ** VFI converged successfully!! dif = 9.90877424555947e-9\n"
     ]
    },
    {
     "name": "stderr",
     "output_type": "stream",
     "text": [
      "\u001b[32mSolving individual UMP by VFI:  Time: 0:00:23 (91 iterations)\u001b[39m\n",
      "\u001b[32msimulating aggregate path ...100%|██████████████████████|  ETA: 0:00:00\u001b[39m"
     ]
    },
    {
     "name": "stdout",
     "output_type": "stream",
     "text": [
      "difference of ALM coefficient is 1.254306560283247e-7 and B = [0.163568, 0.956598, 0.168553, 0.952472]\n",
      " --- Iteration over ALM coefficient: 52 ---"
     ]
    },
    {
     "name": "stderr",
     "output_type": "stream",
     "text": [
      "\r",
      "\u001b[32msimulating aggregate path ...100%|██████████████████████| Time: 0:00:46\u001b[39m\n"
     ]
    },
    {
     "name": "stdout",
     "output_type": "stream",
     "text": [
      "\n"
     ]
    },
    {
     "name": "stderr",
     "output_type": "stream",
     "text": [
      "\u001b[32mSolving individual UMP by VFI:  (thresh = 1e-08, value = 1.01161e-08)\u001b[39m"
     ]
    },
    {
     "name": "stdout",
     "output_type": "stream",
     "text": [
      " ** VFI converged successfully!! dif = 9.996739436246571e-9\n"
     ]
    },
    {
     "name": "stderr",
     "output_type": "stream",
     "text": [
      "\u001b[32mSolving individual UMP by VFI:  Time: 0:00:16 (64 iterations)\u001b[39m\n",
      "\u001b[32msimulating aggregate path ... 99%|██████████████████████|  ETA: 0:00:00\u001b[39m"
     ]
    },
    {
     "name": "stdout",
     "output_type": "stream",
     "text": [
      "difference of ALM coefficient is 1.0716466727900276e-7 and B = [0.163568, 0.956598, 0.168553, 0.952472]\n",
      " --- Iteration over ALM coefficient: 53 ---\n"
     ]
    },
    {
     "name": "stderr",
     "output_type": "stream",
     "text": [
      "\u001b[32msimulating aggregate path ...100%|██████████████████████| Time: 0:00:53\u001b[39m\n",
      "\u001b[32mSolving individual UMP by VFI:  (thresh = 1e-08, value = 1.00586e-08)\u001b[39m"
     ]
    },
    {
     "name": "stdout",
     "output_type": "stream",
     "text": [
      " ** VFI converged successfully!! dif = 9.875861906039063e-9\n"
     ]
    },
    {
     "name": "stderr",
     "output_type": "stream",
     "text": [
      "\u001b[32mSolving individual UMP by VFI:  Time: 0:00:16 (62 iterations)\u001b[39m\n",
      "\u001b[32msimulating aggregate path ... 99%|██████████████████████|  ETA: 0:00:01\u001b[39m"
     ]
    },
    {
     "name": "stdout",
     "output_type": "stream",
     "text": [
      "difference of ALM coefficient is 8.263041079148437e-8 and B = [0.163568, 0.956598, 0.168553, 0.952472]\n",
      " --- Iteration over ALM coefficient: 54 ---\n"
     ]
    },
    {
     "name": "stderr",
     "output_type": "stream",
     "text": [
      "\u001b[32msimulating aggregate path ...100%|██████████████████████| Time: 0:00:47\u001b[39m\n",
      "\u001b[32mSolving individual UMP by VFI:  (thresh = 1e-08, value = 1.01234e-08)\u001b[39m"
     ]
    },
    {
     "name": "stdout",
     "output_type": "stream",
     "text": [
      " ** VFI converged successfully!! dif = 9.930232636179426e-9\n"
     ]
    },
    {
     "name": "stderr",
     "output_type": "stream",
     "text": [
      "\u001b[32mSolving individual UMP by VFI:  Time: 0:00:19 (53 iterations)\u001b[39m\n",
      "\u001b[32msimulating aggregate path ...100%|██████████████████████|  ETA: 0:00:00\u001b[39m"
     ]
    },
    {
     "name": "stdout",
     "output_type": "stream",
     "text": [
      "difference of ALM coefficient is 7.70773453673268e-8 and B = [0.163568, 0.956598, 0.168553, 0.952472]\n",
      " --- Iteration over ALM coefficient: 55 ---\n"
     ]
    },
    {
     "name": "stderr",
     "output_type": "stream",
     "text": [
      "\u001b[32msimulating aggregate path ...100%|██████████████████████| Time: 0:00:53\u001b[39m\n",
      "\u001b[32mSolving individual UMP by VFI:  (thresh = 1e-08, value = 1.00312e-08)\u001b[39m"
     ]
    },
    {
     "name": "stdout",
     "output_type": "stream",
     "text": [
      " ** VFI converged successfully!! dif = 9.85389192464936e-9\n"
     ]
    },
    {
     "name": "stderr",
     "output_type": "stream",
     "text": [
      "\u001b[32mSolving individual UMP by VFI:  Time: 0:00:11 (37 iterations)\u001b[39m\n",
      "\u001b[32msimulating aggregate path ... 99%|██████████████████████|  ETA: 0:00:00\u001b[39m"
     ]
    },
    {
     "name": "stdout",
     "output_type": "stream",
     "text": [
      "difference of ALM coefficient is 6.289005560766725e-8 and B = [0.163568, 0.956598, 0.168554, 0.952472]\n",
      " --- Iteration over ALM coefficient: 56 ---\n"
     ]
    },
    {
     "name": "stderr",
     "output_type": "stream",
     "text": [
      "\u001b[32msimulating aggregate path ...100%|██████████████████████| Time: 0:00:46\u001b[39m\n",
      "\u001b[32mSolving individual UMP by VFI:  (thresh = 1e-08, value = 1.01698e-08)\u001b[39m"
     ]
    },
    {
     "name": "stdout",
     "output_type": "stream",
     "text": [
      " ** VFI converged successfully!! dif = 9.926424127115752e-9\n"
     ]
    },
    {
     "name": "stderr",
     "output_type": "stream",
     "text": [
      "\u001b[32mSolving individual UMP by VFI:  Time: 0:00:12 (44 iterations)\u001b[39m\n",
      "\u001b[32msimulating aggregate path ... 99%|██████████████████████|  ETA: 0:00:00\u001b[39m"
     ]
    },
    {
     "name": "stdout",
     "output_type": "stream",
     "text": [
      "difference of ALM coefficient is 3.8497884324861786e-8 and B = [0.163568, 0.956598, 0.168553, 0.952472]\n",
      " --- Iteration over ALM coefficient: 57 ---\n"
     ]
    },
    {
     "name": "stderr",
     "output_type": "stream",
     "text": [
      "\u001b[32msimulating aggregate path ...100%|██████████████████████| Time: 0:00:47\u001b[39m\n",
      "\u001b[32mSolving individual UMP by VFI:  (thresh = 1e-08, value = 1.0109e-08)\u001b[39mm"
     ]
    },
    {
     "name": "stdout",
     "output_type": "stream",
     "text": [
      " ** VFI converged successfully!! dif = 9.653746246840456e-9\n"
     ]
    },
    {
     "name": "stderr",
     "output_type": "stream",
     "text": [
      "\u001b[32mSolving individual UMP by VFI:  Time: 0:00:03 (12 iterations)\u001b[39m\n",
      "\u001b[32msimulating aggregate path ... 99%|██████████████████████|  ETA: 0:00:00\u001b[39m"
     ]
    },
    {
     "name": "stdout",
     "output_type": "stream",
     "text": [
      "difference of ALM coefficient is 1.1420190931810126e-8 and B = [0.163568, 0.956598, 0.168553, 0.952472]\n",
      " --- Iteration over ALM coefficient: 58 ---\n"
     ]
    },
    {
     "name": "stderr",
     "output_type": "stream",
     "text": [
      "\u001b[32msimulating aggregate path ...100%|██████████████████████| Time: 0:00:50\u001b[39m\n",
      "\u001b[32mSolving individual UMP by VFI:  (thresh = 1e-08, value = 1.00222e-08)\u001b[39m"
     ]
    },
    {
     "name": "stdout",
     "output_type": "stream",
     "text": [
      " ** VFI converged successfully!! dif = 9.835076753006433e-9\n"
     ]
    },
    {
     "name": "stderr",
     "output_type": "stream",
     "text": [
      "\u001b[32mSolving individual UMP by VFI:  Time: 0:00:04 (14 iterations)\u001b[39m\n",
      "\u001b[32msimulating aggregate path ...100%|██████████████████████|  ETA: 0:00:00\u001b[39m"
     ]
    },
    {
     "name": "stdout",
     "output_type": "stream",
     "text": [
      "difference of ALM coefficient is 3.83765389466717e-8 and B = [0.163568, 0.956598, 0.168553, 0.952472]\n",
      " --- Iteration over ALM coefficient: 59 ---\n"
     ]
    },
    {
     "name": "stderr",
     "output_type": "stream",
     "text": [
      "\u001b[32msimulating aggregate path ...100%|██████████████████████| Time: 0:00:49\u001b[39m\n",
      "\u001b[32mSolving individual UMP by VFI:  (thresh = 1e-08, value = 1.01761e-08)\u001b[39m"
     ]
    },
    {
     "name": "stdout",
     "output_type": "stream",
     "text": [
      " ** VFI converged successfully!! dif = 9.984773896576371e-9\n"
     ]
    },
    {
     "name": "stderr",
     "output_type": "stream",
     "text": [
      "\u001b[32mSolving individual UMP by VFI:  Time: 0:00:19 (29 iterations)\u001b[39m\n",
      "\u001b[32msimulating aggregate path ... 99%|██████████████████████|  ETA: 0:00:00\u001b[39m"
     ]
    },
    {
     "name": "stdout",
     "output_type": "stream",
     "text": [
      "difference of ALM coefficient is 5.610288508761663e-8 and B = [0.163568, 0.956598, 0.168554, 0.952472]\n",
      " --- Iteration over ALM coefficient: 60 ---\n"
     ]
    },
    {
     "name": "stderr",
     "output_type": "stream",
     "text": [
      "\u001b[32msimulating aggregate path ...100%|██████████████████████| Time: 0:01:02\u001b[39m\n",
      "\u001b[32mSolving individual UMP by VFI:  (thresh = 1e-08, value = 1.00211e-08)\u001b[39m"
     ]
    },
    {
     "name": "stdout",
     "output_type": "stream",
     "text": [
      " ** VFI converged successfully!! dif = 9.742166184878442e-9\n"
     ]
    },
    {
     "name": "stderr",
     "output_type": "stream",
     "text": [
      "\u001b[32mSolving individual UMP by VFI:  Time: 0:00:09 (32 iterations)\u001b[39m\n",
      "\u001b[32msimulating aggregate path ... 99%|██████████████████████|  ETA: 0:00:00\u001b[39m"
     ]
    },
    {
     "name": "stdout",
     "output_type": "stream",
     "text": [
      "difference of ALM coefficient is 1.0657723009677156e-8 and B = [0.163568, 0.956598, 0.168553, 0.952472]\n",
      " --- Iteration over ALM coefficient: 61 ---\n"
     ]
    },
    {
     "name": "stderr",
     "output_type": "stream",
     "text": [
      "\u001b[32msimulating aggregate path ...100%|██████████████████████| Time: 0:00:48\u001b[39m\n",
      "\u001b[32mSolving individual UMP by VFI:  (thresh = 1e-08, value = 1.01125e-08)\u001b[39m"
     ]
    },
    {
     "name": "stdout",
     "output_type": "stream",
     "text": [
      " ** VFI converged successfully!! dif = 9.302198122895788e-9\n"
     ]
    },
    {
     "name": "stderr",
     "output_type": "stream",
     "text": [
      "\u001b[32mSolving individual UMP by VFI:  Time: 0:00:02 (7 iterations)\u001b[39m\n",
      "\u001b[32msimulating aggregate path ... 99%|██████████████████████|  ETA: 0:00:00\u001b[39m"
     ]
    },
    {
     "name": "stdout",
     "output_type": "stream",
     "text": [
      "difference of ALM coefficient is 2.8210742242240627e-8 and B = [0.163568, 0.956598, 0.168553, 0.952472]\n",
      " --- Iteration over ALM coefficient: 62 ---\n"
     ]
    },
    {
     "name": "stderr",
     "output_type": "stream",
     "text": [
      "\u001b[32msimulating aggregate path ...100%|██████████████████████| Time: 0:00:49\u001b[39m\n",
      "\u001b[32mSolving individual UMP by VFI:  (thresh = 1e-08, value = 1.02092e-08)\u001b[39m"
     ]
    },
    {
     "name": "stdout",
     "output_type": "stream",
     "text": [
      " ** VFI converged successfully!! dif = 9.821661706155282e-9\n"
     ]
    },
    {
     "name": "stderr",
     "output_type": "stream",
     "text": [
      "\u001b[32mSolving individual UMP by VFI:  Time: 0:00:04 (16 iterations)\u001b[39m\n",
      "\u001b[32msimulating aggregate path ... 99%|██████████████████████|  ETA: 0:00:01\u001b[39m"
     ]
    },
    {
     "name": "stdout",
     "output_type": "stream",
     "text": [
      "difference of ALM coefficient is 2.7284448506081915e-8 and B = [0.163568, 0.956598, 0.168553, 0.952472]\n",
      " --- Iteration over ALM coefficient: 63 ---\n"
     ]
    },
    {
     "name": "stderr",
     "output_type": "stream",
     "text": [
      "\u001b[32msimulating aggregate path ...100%|██████████████████████| Time: 0:00:56\u001b[39m\n",
      "\u001b[32mSolving individual UMP by VFI:  (thresh = 1e-08, value = 1.03412e-08)\u001b[39m"
     ]
    },
    {
     "name": "stdout",
     "output_type": "stream",
     "text": [
      " ** VFI converged successfully!! dif = 9.773799547474482e-9\n"
     ]
    },
    {
     "name": "stderr",
     "output_type": "stream",
     "text": [
      "\u001b[32mSolving individual UMP by VFI:  Time: 0:00:03 (10 iterations)\u001b[39m\n",
      "\u001b[32msimulating aggregate path ... 99%|██████████████████████|  ETA: 0:00:01\u001b[39m\r"
     ]
    },
    {
     "name": "stdout",
     "output_type": "stream",
     "text": [
      "difference of ALM coefficient is 2.6827126103912136e-8 and B = [0.163568, 0.956598, 0.168553, 0.952472]\n",
      " --- Iteration over ALM coefficient: 64 ---\n"
     ]
    },
    {
     "name": "stderr",
     "output_type": "stream",
     "text": [
      "\u001b[32msimulating aggregate path ...100%|██████████████████████| Time: 0:00:55\u001b[39m\n",
      "\u001b[32mSolving individual UMP by VFI:  (thresh = 1e-08, value = 1.02028e-08)\u001b[39m"
     ]
    },
    {
     "name": "stdout",
     "output_type": "stream",
     "text": [
      " ** VFI converged successfully!! dif = 9.798043265618617e-9\n"
     ]
    },
    {
     "name": "stderr",
     "output_type": "stream",
     "text": [
      "\u001b[32mSolving individual UMP by VFI:  Time: 0:00:09 (23 iterations)\u001b[39m\n",
      "\u001b[32msimulating aggregate path ... 99%|██████████████████████|  ETA: 0:00:00\u001b[39m"
     ]
    },
    {
     "name": "stdout",
     "output_type": "stream",
     "text": [
      "difference of ALM coefficient is 1.1894435769654876e-8 and B = [0.163568, 0.956598, 0.168553, 0.952472]\n",
      " --- Iteration over ALM coefficient: 65 ---\n"
     ]
    },
    {
     "name": "stderr",
     "output_type": "stream",
     "text": [
      "\u001b[32msimulating aggregate path ...100%|██████████████████████| Time: 0:01:06\u001b[39m\n",
      "\u001b[32mSolving individual UMP by VFI:  (thresh = 1e-08, value = 1.0246e-08)\u001b[39m"
     ]
    },
    {
     "name": "stdout",
     "output_type": "stream",
     "text": [
      " ** VFI converged successfully!! dif = 8.452929023405886e-9\n"
     ]
    },
    {
     "name": "stderr",
     "output_type": "stream",
     "text": [
      "\u001b[32mSolving individual UMP by VFI:  Time: 0:00:01 (2 iterations)\u001b[39m\n",
      "\u001b[32msimulating aggregate path ...100%|██████████████████████|  ETA: 0:00:00\u001b[39m"
     ]
    },
    {
     "name": "stdout",
     "output_type": "stream",
     "text": [
      "difference of ALM coefficient is 3.481266289129259e-8 and B = [0.163568, 0.956598, 0.168553, 0.952472]\n",
      " --- Iteration over ALM coefficient: 66 ---\n"
     ]
    },
    {
     "name": "stderr",
     "output_type": "stream",
     "text": [
      "\u001b[32msimulating aggregate path ...100%|██████████████████████| Time: 0:01:10\u001b[39m\n",
      "\u001b[32mSolving individual UMP by VFI:  (thresh = 1e-08, value = 1.0027e-08)\u001b[39mm"
     ]
    },
    {
     "name": "stdout",
     "output_type": "stream",
     "text": [
      " ** VFI converged successfully!! dif = 9.654883115217672e-9\n"
     ]
    },
    {
     "name": "stderr",
     "output_type": "stream",
     "text": [
      "\u001b[32mSolving individual UMP by VFI:  Time: 0:00:07 (16 iterations)\u001b[39m\n",
      "\u001b[32msimulating aggregate path ... 99%|██████████████████████|  ETA: 0:00:01\u001b[39m"
     ]
    },
    {
     "name": "stdout",
     "output_type": "stream",
     "text": [
      "difference of ALM coefficient is 7.605357332796103e-8 and B = [0.163568, 0.956598, 0.168553, 0.952472]\n",
      " --- Iteration over ALM coefficient: 67 ---\n"
     ]
    },
    {
     "name": "stderr",
     "output_type": "stream",
     "text": [
      "\u001b[32msimulating aggregate path ...100%|██████████████████████| Time: 0:01:25\u001b[39m\n",
      "\u001b[32mSolving individual UMP by VFI:  (thresh = 1e-08, value = 1.00921e-08)\u001b[39m"
     ]
    },
    {
     "name": "stdout",
     "output_type": "stream",
     "text": [
      " ** VFI converged successfully!! dif = 9.494698360867915e-9\n"
     ]
    },
    {
     "name": "stderr",
     "output_type": "stream",
     "text": [
      "\u001b[32mSolving individual UMP by VFI:  Time: 0:00:07 (18 iterations)\u001b[39m\n",
      "\u001b[32msimulating aggregate path ...100%|██████████████████████|  ETA: 0:00:00\u001b[39m"
     ]
    },
    {
     "name": "stdout",
     "output_type": "stream",
     "text": [
      "difference of ALM coefficient is 2.2512860464729556e-8 and B = [0.163568, 0.956598, 0.168553, 0.952472]\n",
      " --- Iteration over ALM coefficient: 68 ---\n"
     ]
    },
    {
     "name": "stderr",
     "output_type": "stream",
     "text": [
      "\u001b[32msimulating aggregate path ...100%|██████████████████████| Time: 0:01:08\u001b[39m\n",
      "\u001b[32mSolving individual UMP by VFI:  (thresh = 1e-08, value = 1.03532e-08)\u001b[39m"
     ]
    },
    {
     "name": "stdout",
     "output_type": "stream",
     "text": [
      " ** VFI converged successfully!! dif = 9.90937110145751e-9\n"
     ]
    },
    {
     "name": "stderr",
     "output_type": "stream",
     "text": [
      "\u001b[32mSolving individual UMP by VFI:  Time: 0:00:04 (9 iterations)\u001b[39m\n",
      "\u001b[32msimulating aggregate path ... 98%|██████████████████████|  ETA: 0:00:01\u001b[39m\r"
     ]
    },
    {
     "name": "stdout",
     "output_type": "stream",
     "text": [
      "difference of ALM coefficient is 7.537842713900567e-8 and B = [0.163568, 0.956598, 0.168553, 0.952472]\n",
      " --- Iteration over ALM coefficient: 69 ---\n"
     ]
    },
    {
     "name": "stderr",
     "output_type": "stream",
     "text": [
      "\u001b[32msimulating aggregate path ...100%|██████████████████████| Time: 0:01:09\u001b[39m\n",
      "\u001b[32mSolving individual UMP by VFI:  (thresh = 1e-08, value = 1.04352e-08)\u001b[39m"
     ]
    },
    {
     "name": "stdout",
     "output_type": "stream",
     "text": [
      " ** VFI converged successfully!! dif = 9.676000445324462e-9\n"
     ]
    },
    {
     "name": "stderr",
     "output_type": "stream",
     "text": [
      "\u001b[32mSolving individual UMP by VFI:  Time: 0:00:06 (13 iterations)\u001b[39m\n",
      "\u001b[32msimulating aggregate path ... 99%|██████████████████████|  ETA: 0:00:01\u001b[39m"
     ]
    },
    {
     "name": "stdout",
     "output_type": "stream",
     "text": [
      "difference of ALM coefficient is 1.9365127945647487e-8 and B = [0.163568, 0.956598, 0.168553, 0.952472]\n",
      " --- Iteration over ALM coefficient: 70 ---\n"
     ]
    },
    {
     "name": "stderr",
     "output_type": "stream",
     "text": [
      "\u001b[32msimulating aggregate path ...100%|██████████████████████| Time: 0:01:38\u001b[39m\n",
      "\u001b[32mSolving individual UMP by VFI:  (thresh = 1e-08, value = 1.17131e-08)\u001b[39m"
     ]
    },
    {
     "name": "stdout",
     "output_type": "stream",
     "text": [
      " ** VFI converged successfully!! dif = 9.706212722448981e-9\n"
     ]
    },
    {
     "name": "stderr",
     "output_type": "stream",
     "text": [
      "\u001b[32mSolving individual UMP by VFI:  Time: 0:00:02 (3 iterations)\u001b[39m\n",
      "\u001b[32msimulating aggregate path ... 99%|██████████████████████|  ETA: 0:00:01\u001b[39m"
     ]
    },
    {
     "name": "stdout",
     "output_type": "stream",
     "text": [
      "difference of ALM coefficient is 3.083794380964733e-8 and B = [0.163568, 0.956598, 0.168554, 0.952472]\n",
      " --- Iteration over ALM coefficient: 71 ---\n"
     ]
    },
    {
     "name": "stderr",
     "output_type": "stream",
     "text": [
      "\u001b[32msimulating aggregate path ...100%|██████████████████████| Time: 0:01:16\u001b[39m\n",
      "\u001b[32mSolving individual UMP by VFI:  (thresh = 1e-08, value = 1.03949e-08)\u001b[39m"
     ]
    },
    {
     "name": "stdout",
     "output_type": "stream",
     "text": [
      " ** VFI converged successfully!! dif = 9.901981457005604e-9\n"
     ]
    },
    {
     "name": "stderr",
     "output_type": "stream",
     "text": [
      "\u001b[32mSolving individual UMP by VFI:  Time: 0:00:08 (20 iterations)\u001b[39m\n",
      "\u001b[32msimulating aggregate path ... 99%|██████████████████████|  ETA: 0:00:00\u001b[39m"
     ]
    },
    {
     "name": "stdout",
     "output_type": "stream",
     "text": [
      "difference of ALM coefficient is 4.1694494246069524e-8 and B = [0.163568, 0.956598, 0.168554, 0.952472]\n",
      " --- Iteration over ALM coefficient: 72 ---\n"
     ]
    },
    {
     "name": "stderr",
     "output_type": "stream",
     "text": [
      "\u001b[32msimulating aggregate path ...100%|██████████████████████| Time: 0:01:03\u001b[39m\n",
      "\u001b[32mSolving individual UMP by VFI:  (thresh = 1e-08, value = 1.01624e-08)\u001b[39m"
     ]
    },
    {
     "name": "stdout",
     "output_type": "stream",
     "text": [
      " ** VFI converged successfully!! dif = 9.609266271581873e-9\n"
     ]
    },
    {
     "name": "stderr",
     "output_type": "stream",
     "text": [
      "\u001b[32mSolving individual UMP by VFI:  Time: 0:00:07 (18 iterations)\u001b[39m\n",
      "\u001b[32msimulating aggregate path ...100%|██████████████████████|  ETA: 0:00:00\u001b[39m"
     ]
    },
    {
     "name": "stdout",
     "output_type": "stream",
     "text": [
      "difference of ALM coefficient is 5.794263568947855e-8 and B = [0.163568, 0.956598, 0.168554, 0.952472]\n",
      " --- Iteration over ALM coefficient: 73 ---\n"
     ]
    },
    {
     "name": "stderr",
     "output_type": "stream",
     "text": [
      "\u001b[32msimulating aggregate path ...100%|██████████████████████| Time: 0:01:04\u001b[39m\n",
      "\u001b[32mSolving individual UMP by VFI:  (thresh = 1e-08, value = 1.00909e-08)\u001b[39m"
     ]
    },
    {
     "name": "stdout",
     "output_type": "stream",
     "text": [
      " ** VFI converged successfully!! dif = 9.67088453762699e-9\n"
     ]
    },
    {
     "name": "stderr",
     "output_type": "stream",
     "text": [
      "\u001b[32mSolving individual UMP by VFI:  Time: 0:00:12 (28 iterations)\u001b[39m\n",
      "\u001b[32msimulating aggregate path ...100%|██████████████████████|  ETA: 0:00:00\u001b[39m"
     ]
    },
    {
     "name": "stdout",
     "output_type": "stream",
     "text": [
      "difference of ALM coefficient is 2.303606819187287e-8 and B = [0.163568, 0.956598, 0.168553, 0.952472]\n",
      " --- Iteration over ALM coefficient: 74 ---\n"
     ]
    },
    {
     "name": "stderr",
     "output_type": "stream",
     "text": [
      "\u001b[32msimulating aggregate path ...100%|██████████████████████| Time: 0:01:05\u001b[39m\n",
      "\u001b[32mSolving individual UMP by VFI:  (thresh = 1e-08, value = 1.08491e-08)\u001b[39m"
     ]
    },
    {
     "name": "stdout",
     "output_type": "stream",
     "text": [
      " ** VFI converged successfully!! dif = 9.860514182946645e-9\n"
     ]
    },
    {
     "name": "stderr",
     "output_type": "stream",
     "text": [
      "\u001b[32mSolving individual UMP by VFI:  Time: 0:00:02 (5 iterations)\u001b[39m\n",
      "\u001b[32msimulating aggregate path ... 99%|██████████████████████|  ETA: 0:00:00\u001b[39m"
     ]
    },
    {
     "name": "stdout",
     "output_type": "stream",
     "text": [
      "difference of ALM coefficient is 1.9473479412335237e-8 and B = [0.163568, 0.956598, 0.168553, 0.952472]\n",
      " --- Iteration over ALM coefficient: 75 ---\n"
     ]
    },
    {
     "name": "stderr",
     "output_type": "stream",
     "text": [
      "\u001b[32msimulating aggregate path ...100%|██████████████████████| Time: 0:00:55\u001b[39m\n",
      "\u001b[32mSolving individual UMP by VFI:  (thresh = 1e-08, value = 1.04268e-08)\u001b[39m"
     ]
    },
    {
     "name": "stdout",
     "output_type": "stream",
     "text": [
      " ** VFI converged successfully!! dif = 9.954675306289573e-9\n"
     ]
    },
    {
     "name": "stderr",
     "output_type": "stream",
     "text": [
      "\u001b[32mSolving individual UMP by VFI:  Time: 0:00:06 (17 iterations)\u001b[39m\n",
      "\u001b[32msimulating aggregate path ... 99%|██████████████████████|  ETA: 0:00:01\u001b[39m"
     ]
    },
    {
     "name": "stdout",
     "output_type": "stream",
     "text": [
      "difference of ALM coefficient is 5.3107950648279e-8 and B = [0.163568, 0.956598, 0.168554, 0.952472]\n",
      " --- Iteration over ALM coefficient: 76 ---\n"
     ]
    },
    {
     "name": "stderr",
     "output_type": "stream",
     "text": [
      "\u001b[32msimulating aggregate path ...100%|██████████████████████| Time: 0:00:60\u001b[39m\n",
      "\u001b[32mSolving individual UMP by VFI:  (thresh = 1e-08, value = 1.00475e-08)\u001b[39m"
     ]
    },
    {
     "name": "stdout",
     "output_type": "stream",
     "text": [
      " ** VFI converged successfully!! dif = 9.630440445107524e-9\n"
     ]
    },
    {
     "name": "stderr",
     "output_type": "stream",
     "text": [
      "\u001b[32mSolving individual UMP by VFI:  Time: 0:00:09 (28 iterations)\u001b[39m\n",
      "\u001b[32msimulating aggregate path ... 99%|██████████████████████|  ETA: 0:00:01\u001b[39m"
     ]
    },
    {
     "name": "stdout",
     "output_type": "stream",
     "text": [
      "difference of ALM coefficient is 3.733898160107607e-8 and B = [0.163568, 0.956598, 0.168554, 0.952472]\n",
      " --- Iteration over ALM coefficient: 77 ---\n"
     ]
    },
    {
     "name": "stderr",
     "output_type": "stream",
     "text": [
      "\u001b[32msimulating aggregate path ...100%|██████████████████████| Time: 0:00:59\u001b[39m\n",
      "\u001b[32mSolving individual UMP by VFI:  (thresh = 1e-08, value = 1.01231e-08)\u001b[39m"
     ]
    },
    {
     "name": "stdout",
     "output_type": "stream",
     "text": [
      " ** VFI converged successfully!! dif = 9.615149565433967e-9\n"
     ]
    },
    {
     "name": "stderr",
     "output_type": "stream",
     "text": [
      "\u001b[32mSolving individual UMP by VFI:  Time: 0:00:02 (6 iterations)\u001b[39m\n",
      "\u001b[32msimulating aggregate path ...100%|██████████████████████|  ETA: 0:00:00\u001b[39m"
     ]
    },
    {
     "name": "stdout",
     "output_type": "stream",
     "text": [
      "difference of ALM coefficient is 3.9481877128766385e-8 and B = [0.163568, 0.956598, 0.168554, 0.952472]\n",
      " --- Iteration over ALM coefficient: 78 ---\n"
     ]
    },
    {
     "name": "stderr",
     "output_type": "stream",
     "text": [
      "\u001b[32msimulating aggregate path ...100%|██████████████████████| Time: 0:00:55\u001b[39m\n",
      "\u001b[32mSolving individual UMP by VFI:  (thresh = 1e-08, value = 1.0156e-08)\u001b[39mm"
     ]
    },
    {
     "name": "stdout",
     "output_type": "stream",
     "text": [
      " ** VFI converged successfully!! dif = 9.544777412884287e-9\n"
     ]
    },
    {
     "name": "stderr",
     "output_type": "stream",
     "text": [
      "\u001b[32mSolving individual UMP by VFI:  Time: 0:00:04 (15 iterations)\u001b[39m\n",
      "\u001b[32msimulating aggregate path ... 99%|██████████████████████|  ETA: 0:00:01\u001b[39m"
     ]
    },
    {
     "name": "stdout",
     "output_type": "stream",
     "text": [
      "difference of ALM coefficient is 4.668653294515046e-8 and B = [0.163568, 0.956598, 0.168553, 0.952472]\n",
      " --- Iteration over ALM coefficient: 79 ---\n"
     ]
    },
    {
     "name": "stderr",
     "output_type": "stream",
     "text": [
      "\u001b[32msimulating aggregate path ...100%|██████████████████████| Time: 0:01:03\u001b[39m\n",
      "\u001b[32mSolving individual UMP by VFI:  (thresh = 1e-08, value = 1.03149e-08)\u001b[39m"
     ]
    },
    {
     "name": "stdout",
     "output_type": "stream",
     "text": [
      " ** VFI converged successfully!! dif = 9.762601393958903e-9\n"
     ]
    },
    {
     "name": "stderr",
     "output_type": "stream",
     "text": [
      "\u001b[32mSolving individual UMP by VFI:  Time: 0:00:05 (15 iterations)\u001b[39m\n",
      "\u001b[32msimulating aggregate path ...100%|██████████████████████|  ETA: 0:00:00\u001b[39m"
     ]
    },
    {
     "name": "stdout",
     "output_type": "stream",
     "text": [
      "difference of ALM coefficient is 1.6328007695909363e-8 and B = [0.163568, 0.956598, 0.168554, 0.952472]\n",
      " --- Iteration over ALM coefficient: 80 ---\n"
     ]
    },
    {
     "name": "stderr",
     "output_type": "stream",
     "text": [
      "\u001b[32msimulating aggregate path ...100%|██████████████████████| Time: 0:00:56\u001b[39m\n",
      "\u001b[32mSolving individual UMP by VFI:  (thresh = 1e-08, value = 1.08415e-08)\u001b[39m"
     ]
    },
    {
     "name": "stdout",
     "output_type": "stream",
     "text": [
      " ** VFI converged successfully!! dif = 9.012239843286807e-9\n"
     ]
    },
    {
     "name": "stderr",
     "output_type": "stream",
     "text": [
      "\u001b[32mSolving individual UMP by VFI:  Time: 0:00:01 (3 iterations)\u001b[39m\n",
      "\u001b[32msimulating aggregate path ...100%|██████████████████████|  ETA: 0:00:00\u001b[39m"
     ]
    },
    {
     "name": "stdout",
     "output_type": "stream",
     "text": [
      "difference of ALM coefficient is 5.0306396659483e-8 and B = [0.163568, 0.956598, 0.168554, 0.952472]\n",
      " --- Iteration over ALM coefficient: 81 ---\n"
     ]
    },
    {
     "name": "stderr",
     "output_type": "stream",
     "text": [
      "\u001b[32msimulating aggregate path ...100%|██████████████████████| Time: 0:01:05\u001b[39m\n",
      "\u001b[32mSolving individual UMP by VFI:  (thresh = 1e-08, value = 1.07475e-08)\u001b[39m"
     ]
    },
    {
     "name": "stdout",
     "output_type": "stream",
     "text": [
      " ** VFI converged successfully!! dif = 8.433829634668655e-9\n"
     ]
    },
    {
     "name": "stderr",
     "output_type": "stream",
     "text": [
      "\u001b[32mSolving individual UMP by VFI:  Time: 0:00:03 (7 iterations)\u001b[39m\n",
      "\u001b[32msimulating aggregate path ... 99%|██████████████████████|  ETA: 0:00:00\u001b[39m"
     ]
    },
    {
     "name": "stdout",
     "output_type": "stream",
     "text": [
      "difference of ALM coefficient is 3.218024896556315e-8 and B = [0.163568, 0.956598, 0.168554, 0.952472]\n",
      " --- Iteration over ALM coefficient: 82 ---\n"
     ]
    },
    {
     "name": "stderr",
     "output_type": "stream",
     "text": [
      "\u001b[32msimulating aggregate path ...100%|██████████████████████| Time: 0:01:01\u001b[39m\n",
      "\u001b[32mSolving individual UMP by VFI:  (thresh = 1e-08, value = 1.02466e-08)\u001b[39m"
     ]
    },
    {
     "name": "stdout",
     "output_type": "stream",
     "text": [
      " ** VFI converged successfully!! dif = 9.814527857088251e-9\n"
     ]
    },
    {
     "name": "stderr",
     "output_type": "stream",
     "text": [
      "\u001b[32mSolving individual UMP by VFI:  Time: 0:00:04 (13 iterations)\u001b[39m\n",
      "\u001b[32msimulating aggregate path ... 99%|██████████████████████|  ETA: 0:00:00\u001b[39m"
     ]
    },
    {
     "name": "stdout",
     "output_type": "stream",
     "text": [
      "difference of ALM coefficient is 4.475541490189805e-8 and B = [0.163568, 0.956598, 0.168554, 0.952472]\n",
      " --- Iteration over ALM coefficient: 83 ---\n"
     ]
    },
    {
     "name": "stderr",
     "output_type": "stream",
     "text": [
      "\u001b[32msimulating aggregate path ...100%|██████████████████████| Time: 0:00:52\u001b[39m\n",
      "\u001b[32mSolving individual UMP by VFI:  (thresh = 1e-08, value = 1.06313e-08)\u001b[39m\r"
     ]
    },
    {
     "name": "stdout",
     "output_type": "stream",
     "text": [
      " ** VFI converged successfully!! dif = 9.5682537448738e-9"
     ]
    },
    {
     "name": "stderr",
     "output_type": "stream",
     "text": [
      "\u001b[32mSolving individual UMP by VFI:  (thresh = 1e-08, value = 1.0083e-08)\u001b[39m\r",
      "\u001b[32mSolving individual UMP by VFI:  Time: 0:00:06 (21 iterations)\u001b[39m\n"
     ]
    },
    {
     "name": "stdout",
     "output_type": "stream",
     "text": [
      "\n"
     ]
    },
    {
     "name": "stderr",
     "output_type": "stream",
     "text": [
      "\u001b[32msimulating aggregate path ... 99%|██████████████████████|  ETA: 0:00:00\u001b[39m"
     ]
    },
    {
     "name": "stdout",
     "output_type": "stream",
     "text": [
      "difference of ALM coefficient is 9.932404179679999e-8 and B = [0.163568, 0.956598, 0.168554, 0.952472]\n",
      " --- Iteration over ALM coefficient: 84 ---\n"
     ]
    },
    {
     "name": "stderr",
     "output_type": "stream",
     "text": [
      "\u001b[32msimulating aggregate path ...100%|██████████████████████| Time: 0:00:58\u001b[39m\n",
      "\u001b[32mSolving individual UMP by VFI:  (thresh = 1e-08, value = 1.04108e-08)\u001b[39m"
     ]
    },
    {
     "name": "stdout",
     "output_type": "stream",
     "text": [
      " ** VFI converged successfully!! dif = 9.927845212587272e-9\n"
     ]
    },
    {
     "name": "stderr",
     "output_type": "stream",
     "text": [
      "\u001b[32mSolving individual UMP by VFI:  Time: 0:00:11 (32 iterations)\u001b[39m\n",
      "\u001b[32msimulating aggregate path ... 99%|██████████████████████|  ETA: 0:00:01\u001b[39m"
     ]
    },
    {
     "name": "stdout",
     "output_type": "stream",
     "text": [
      "difference of ALM coefficient is 3.319129596168757e-8 and B = [0.163568, 0.956598, 0.168554, 0.952472]\n",
      " --- Iteration over ALM coefficient: 85 ---\n"
     ]
    },
    {
     "name": "stderr",
     "output_type": "stream",
     "text": [
      "\u001b[32msimulating aggregate path ...100%|██████████████████████| Time: 0:00:58\u001b[39m\n",
      "\u001b[32mSolving individual UMP by VFI:  (thresh = 1e-08, value = 1.01126e-08)\u001b[39m"
     ]
    },
    {
     "name": "stdout",
     "output_type": "stream",
     "text": [
      " ** VFI converged successfully!! dif = 9.741484063852113e-9\n"
     ]
    },
    {
     "name": "stderr",
     "output_type": "stream",
     "text": [
      "\u001b[32mSolving individual UMP by VFI:  Time: 0:00:05 (19 iterations)\u001b[39m\n",
      "\u001b[32msimulating aggregate path ... 99%|██████████████████████|  ETA: 0:00:00\u001b[39m"
     ]
    },
    {
     "name": "stdout",
     "output_type": "stream",
     "text": [
      "difference of ALM coefficient is 1.0062924091225334e-7 and B = [0.163568, 0.956598, 0.168553, 0.952472]\n",
      " --- Iteration over ALM coefficient: 86 ---\n"
     ]
    },
    {
     "name": "stderr",
     "output_type": "stream",
     "text": [
      "\u001b[32msimulating aggregate path ...100%|██████████████████████| Time: 0:00:46\u001b[39m\n",
      "\u001b[32mSolving individual UMP by VFI:  (thresh = 1e-08, value = 1.02828e-08)\u001b[39m"
     ]
    },
    {
     "name": "stdout",
     "output_type": "stream",
     "text": [
      " ** VFI converged successfully!! dif = 9.676256240709336e-9\n"
     ]
    },
    {
     "name": "stderr",
     "output_type": "stream",
     "text": [
      "\u001b[32mSolving individual UMP by VFI:  Time: 0:00:07 (29 iterations)\u001b[39m\n",
      "\u001b[32msimulating aggregate path ... 99%|██████████████████████|  ETA: 0:00:01\u001b[39m"
     ]
    },
    {
     "name": "stdout",
     "output_type": "stream",
     "text": [
      "difference of ALM coefficient is 2.699527898442078e-8 and B = [0.163568, 0.956598, 0.168553, 0.952472]\n",
      " --- Iteration over ALM coefficient: 87 ---\n"
     ]
    },
    {
     "name": "stderr",
     "output_type": "stream",
     "text": [
      "\u001b[32msimulating aggregate path ...100%|██████████████████████| Time: 0:00:45\u001b[39m\n",
      "\u001b[32mSolving individual UMP by VFI:  (thresh = 1e-08, value = 1.04966e-08)\u001b[39m"
     ]
    },
    {
     "name": "stdout",
     "output_type": "stream",
     "text": [
      " ** VFI converged successfully!! dif = 9.923383004206698e-9\n"
     ]
    },
    {
     "name": "stderr",
     "output_type": "stream",
     "text": [
      "\u001b[32mSolving individual UMP by VFI:  Time: 0:00:04 (18 iterations)\u001b[39m\n",
      "\u001b[32msimulating aggregate path ... 99%|██████████████████████|  ETA: 0:00:00\u001b[39m"
     ]
    },
    {
     "name": "stdout",
     "output_type": "stream",
     "text": [
      "difference of ALM coefficient is 2.4036216766942786e-8 and B = [0.163568, 0.956598, 0.168553, 0.952472]\n",
      " --- Iteration over ALM coefficient: 88 ---\n"
     ]
    },
    {
     "name": "stderr",
     "output_type": "stream",
     "text": [
      "\u001b[32msimulating aggregate path ...100%|██████████████████████| Time: 0:00:46\u001b[39m\n",
      "\u001b[32mSolving individual UMP by VFI:  (thresh = 1e-08, value = 1.04563e-08)\u001b[39m"
     ]
    },
    {
     "name": "stdout",
     "output_type": "stream",
     "text": [
      " ** VFI converged successfully!! dif = 9.759219210536685e-9\n"
     ]
    },
    {
     "name": "stderr",
     "output_type": "stream",
     "text": [
      "\u001b[32mSolving individual UMP by VFI:  Time: 0:00:03 (11 iterations)\u001b[39m\n",
      "\u001b[32msimulating aggregate path ... 99%|██████████████████████|  ETA: 0:00:00\u001b[39m"
     ]
    },
    {
     "name": "stdout",
     "output_type": "stream",
     "text": [
      "difference of ALM coefficient is 4.565146086155103e-8 and B = [0.163568, 0.956598, 0.168554, 0.952472]\n",
      " --- Iteration over ALM coefficient: 89 ---\n"
     ]
    },
    {
     "name": "stderr",
     "output_type": "stream",
     "text": [
      "\u001b[32msimulating aggregate path ...100%|██████████████████████| Time: 0:00:47\u001b[39m\n",
      "\u001b[32mSolving individual UMP by VFI:  (thresh = 1e-08, value = 1.01235e-08)\u001b[39m"
     ]
    },
    {
     "name": "stdout",
     "output_type": "stream",
     "text": [
      " ** VFI converged successfully!! dif = 9.646839771448867e-9\n"
     ]
    },
    {
     "name": "stderr",
     "output_type": "stream",
     "text": [
      "\u001b[32mSolving individual UMP by VFI:  Time: 0:00:06 (21 iterations)\u001b[39m\n",
      "\u001b[32msimulating aggregate path ... 99%|██████████████████████|  ETA: 0:00:00\u001b[39m"
     ]
    },
    {
     "name": "stdout",
     "output_type": "stream",
     "text": [
      "difference of ALM coefficient is 6.199440294452074e-9 and B = [0.163568, 0.956598, 0.168554, 0.952472]\n",
      "-----------------------------------------------------\n",
      "ALM coefficient successfully converged : dif = 6.199440294452074e-9\n",
      "-----------------------------------------------------\n",
      "15744.605371 seconds (105.99 G allocations: 18.170 TiB, 14.29% gc time)\n"
     ]
    },
    {
     "name": "stderr",
     "output_type": "stream",
     "text": [
      "\r",
      "\u001b[32msimulating aggregate path ...100%|██████████████████████| Time: 0:00:47\u001b[39m\n"
     ]
    }
   ],
   "source": [
    "kss = KSSolution(ksp, load_value=false, load_B=false)\n",
    "sm = Stochastic(epsi_shocks)\n",
    "@time K_ts = find_ALM_coef!(VFI(Howard_on=false, Howard_n_iter=20),\n",
    "                sm, ksp, kss, zi_shocks, \n",
    "            tol_ump = 1e-8, max_iter_ump = 10000,\n",
    "            tol_B = 1e-8, max_iter_B = 500, update_B = 0.3,\n",
    "            T_discard = T_discard);"
   ]
  },
  {
   "cell_type": "code",
   "execution_count": 20,
   "metadata": {},
   "outputs": [
    {
     "data": {
      "image/png": "[encoded data removed]"
     },
     "execution_count": 20,
     "metadata": {},
     "output_type": "execute_result"
    }
   ],
   "source": [
    "plot_ALM(ksp.z_grid, zi_shocks, kss.B, K_ts, T_discard = T_discard)"
   ]
  },
  {
   "cell_type": "code",
   "execution_count": 21,
   "metadata": {},
   "outputs": [
    {
     "name": "stdout",
     "output_type": "stream",
     "text": [
      "Approximated aggregate capital law of motion\n",
      "log(K_{t+1})=0.16356837879013705+0.9565979669376763log(K_{t}) in good time (R2 = 0.9999370532638105)\n",
      "log(K_{t+1})=0.16855350739608888+0.952471740243581log(K_{t}) in bad time (R2 = 0.9998794635145657)\n"
     ]
    }
   ],
   "source": [
    "#kss.B  # Regression coefficient\n",
    "println(\"Approximated aggregate capital law of motion\")\n",
    "println(\"log(K_{t+1})=$(kss.B[1])+$(kss.B[2])log(K_{t}) in good time (R2 = $(kss.R2[1]))\")\n",
    "println(\"log(K_{t+1})=$(kss.B[3])+$(kss.B[4])log(K_{t}) in bad time (R2 = $(kss.R2[2]))\")"
   ]
  },
  {
   "cell_type": "code",
   "execution_count": 22,
   "metadata": {},
   "outputs": [],
   "source": [
    "@save \"result_VFI.jld2\" ksp kss "
   ]
  },
  {
   "cell_type": "code",
   "execution_count": 23,
   "metadata": {},
   "outputs": [
    {
     "name": "stdout",
     "output_type": "stream",
     "text": [
      "mean of capital implied by regression is 38.765572839077564\n",
      "mean of capital implied by simulation is 38.882460027956135\n"
     ]
    }
   ],
   "source": [
    "# Compute mean of capital implied by regression\n",
    "mc = MarkovChain(ksp.transmat.Pz)\n",
    "sd = stationary_distributions(mc)[1]\n",
    "logKg = kss.B[1]/(1-kss.B[2])\n",
    "logKb = kss.B[3]/(1-kss.B[4])\n",
    "meanK_reg = exp(sd[1]*logKg + sd[2]*logKb)\n",
    "meanK_sim = mean(K_ts[T_discard+1:end])\n",
    "println(\"mean of capital implied by regression is $meanK_reg\")\n",
    "println(\"mean of capital implied by simulation is $meanK_sim\")"
   ]
  },
  {
   "cell_type": "markdown",
   "metadata": {},
   "source": [
    "## Figures in Krusell-Smith"
   ]
  },
  {
   "cell_type": "markdown",
   "metadata": {},
   "source": [
    "### Figure 1"
   ]
  },
  {
   "cell_type": "code",
   "execution_count": 24,
   "metadata": {},
   "outputs": [
    {
     "data": {
      "image/png": "[encoded data removed]"
     },
     "execution_count": 24,
     "metadata": {},
     "output_type": "execute_result"
    }
   ],
   "source": [
    "plot_Fig1(ksp, kss, K_ts)"
   ]
  },
  {
   "cell_type": "markdown",
   "metadata": {},
   "source": [
    "### Figure 2"
   ]
  },
  {
   "cell_type": "code",
   "execution_count": 25,
   "metadata": {},
   "outputs": [
    {
     "data": {
      "image/png": "[encoded data removed]"
     },
     "execution_count": 25,
     "metadata": {},
     "output_type": "execute_result"
    }
   ],
   "source": [
    "plot_Fig2(ksp, kss, 40)"
   ]
  }
 ],
 "metadata": {
  "hide_input": false,
  "kernelspec": {
   "display_name": "Julia 1.0.1",
   "language": "julia",
   "name": "julia-1.0"
  },
  "language_info": {
   "file_extension": ".jl",
   "mimetype": "application/julia",
   "name": "julia",
   "version": "1.0.1"
  },
  "toc": {
   "colors": {
    "hover_highlight": "#DAA520",
    "running_highlight": "#FF0000",
    "selected_highlight": "#FFD700"
   },
   "moveMenuLeft": true,
   "nav_menu": {
    "height": "31px",
    "width": "252px"
   },
   "navigate_menu": true,
   "number_sections": true,
   "sideBar": true,
   "threshold": 4,
   "toc_cell": false,
   "toc_section_display": "block",
   "toc_window_display": false
  }
 },
 "nbformat": 4,
 "nbformat_minor": 2
}
